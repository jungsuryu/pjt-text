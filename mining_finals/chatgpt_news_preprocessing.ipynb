{
 "cells": [
  {
   "attachments": {},
   "cell_type": "markdown",
   "metadata": {},
   "source": [
    "## 1. 모듈 불러오기"
   ]
  },
  {
   "cell_type": "code",
   "execution_count": 1,
   "metadata": {},
   "outputs": [],
   "source": [
    "import numpy as np\n",
    "import pandas as pd\n",
    "import re\n",
    "import collections\n",
    "import datetime\n",
    "import seaborn as sns\n",
    "import matplotlib.pyplot as plt\n",
    "import matplotlib.font_manager as fm"
   ]
  },
  {
   "attachments": {},
   "cell_type": "markdown",
   "metadata": {},
   "source": [
    "## 2. 데이터 불러오기"
   ]
  },
  {
   "cell_type": "code",
   "execution_count": 2,
   "metadata": {},
   "outputs": [
    {
     "data": {
      "text/html": [
       "<div>\n",
       "<style scoped>\n",
       "    .dataframe tbody tr th:only-of-type {\n",
       "        vertical-align: middle;\n",
       "    }\n",
       "\n",
       "    .dataframe tbody tr th {\n",
       "        vertical-align: top;\n",
       "    }\n",
       "\n",
       "    .dataframe thead th {\n",
       "        text-align: right;\n",
       "    }\n",
       "</style>\n",
       "<table border=\"1\" class=\"dataframe\">\n",
       "  <thead>\n",
       "    <tr style=\"text-align: right;\">\n",
       "      <th></th>\n",
       "      <th>title</th>\n",
       "      <th>date</th>\n",
       "      <th>content</th>\n",
       "      <th>url</th>\n",
       "    </tr>\n",
       "  </thead>\n",
       "  <tbody>\n",
       "    <tr>\n",
       "      <th>0</th>\n",
       "      <td>[[단독] 서울대 연구팀, 또 표절 의혹…이종호 장관 아들 1저자 논문]</td>\n",
       "      <td>2022-07-01 10:47:01</td>\n",
       "      <td>[\\n거의 같은 문장 반복해서 등장서울대, 연구진실성조사위원회 열어\\n\\n\\n\\n사...</td>\n",
       "      <td>https://n.news.naver.com/mnews/article/015/000...</td>\n",
       "    </tr>\n",
       "    <tr>\n",
       "      <th>1</th>\n",
       "      <td>[중부지방에 5∼40㎜ 소나기…낮 최고 35도 폭염]</td>\n",
       "      <td>2022-07-01 05:39:10</td>\n",
       "      <td>[\\n\\n\\n\\n\\n우산행렬[연합뉴스 자료사진]    (서울=연합뉴스) 윤우성 기자...</td>\n",
       "      <td>https://n.news.naver.com/mnews/article/001/001...</td>\n",
       "    </tr>\n",
       "    <tr>\n",
       "      <th>2</th>\n",
       "      <td>[삼성, 세계 첫 '3나노' 양산‥TSMC 잡을까]</td>\n",
       "      <td>2022-07-01 06:20:53</td>\n",
       "      <td>[\\n\\t\\t\\t[뉴스투데이]◀ 앵커 ▶삼성전자가 세계 최초로 3나노 기술을 적용한...</td>\n",
       "      <td>https://n.news.naver.com/mnews/article/214/000...</td>\n",
       "    </tr>\n",
       "    <tr>\n",
       "      <th>3</th>\n",
       "      <td>[신한은행, ESG본부 신설…하반기 정기 인사]</td>\n",
       "      <td>2022-07-01 15:25:08</td>\n",
       "      <td>[\\nAI 인사 업그레이드…금융사고 예방 위해 장기근속 직원 순환근무(서울=연합뉴스...</td>\n",
       "      <td>https://n.news.naver.com/mnews/article/001/001...</td>\n",
       "    </tr>\n",
       "    <tr>\n",
       "      <th>4</th>\n",
       "      <td>[영남이공대, 미래 신산업 수요특화형 'AI·IoT' 교육]</td>\n",
       "      <td>2022-07-01 11:14:20</td>\n",
       "      <td>[\\n\\n\\n\\n\\n[대구=뉴시스]김정화 기자 = 영남이공대학교는 지난달 27일부터...</td>\n",
       "      <td>https://n.news.naver.com/mnews/article/003/001...</td>\n",
       "    </tr>\n",
       "  </tbody>\n",
       "</table>\n",
       "</div>"
      ],
      "text/plain": [
       "                                      title                 date  \\\n",
       "0  [[단독] 서울대 연구팀, 또 표절 의혹…이종호 장관 아들 1저자 논문]  2022-07-01 10:47:01   \n",
       "1             [중부지방에 5∼40㎜ 소나기…낮 최고 35도 폭염]  2022-07-01 05:39:10   \n",
       "2              [삼성, 세계 첫 '3나노' 양산‥TSMC 잡을까]  2022-07-01 06:20:53   \n",
       "3                [신한은행, ESG본부 신설…하반기 정기 인사]  2022-07-01 15:25:08   \n",
       "4         [영남이공대, 미래 신산업 수요특화형 'AI·IoT' 교육]  2022-07-01 11:14:20   \n",
       "\n",
       "                                             content  \\\n",
       "0  [\\n거의 같은 문장 반복해서 등장서울대, 연구진실성조사위원회 열어\\n\\n\\n\\n사...   \n",
       "1  [\\n\\n\\n\\n\\n우산행렬[연합뉴스 자료사진]    (서울=연합뉴스) 윤우성 기자...   \n",
       "2  [\\n\\t\\t\\t[뉴스투데이]◀ 앵커 ▶삼성전자가 세계 최초로 3나노 기술을 적용한...   \n",
       "3  [\\nAI 인사 업그레이드…금융사고 예방 위해 장기근속 직원 순환근무(서울=연합뉴스...   \n",
       "4  [\\n\\n\\n\\n\\n[대구=뉴시스]김정화 기자 = 영남이공대학교는 지난달 27일부터...   \n",
       "\n",
       "                                                 url  \n",
       "0  https://n.news.naver.com/mnews/article/015/000...  \n",
       "1  https://n.news.naver.com/mnews/article/001/001...  \n",
       "2  https://n.news.naver.com/mnews/article/214/000...  \n",
       "3  https://n.news.naver.com/mnews/article/001/001...  \n",
       "4  https://n.news.naver.com/mnews/article/003/001...  "
      ]
     },
     "execution_count": 2,
     "metadata": {},
     "output_type": "execute_result"
    }
   ],
   "source": [
    "data = pd.read_csv('/home/ryu/2023text/final/AInews_crawling_2207to2304.csv', parse_dates=['date'],usecols=[2,3,4,6])\n",
    "#data.drop(['Unnamed: 0.1', 'Unnamed: 0', 'name', 'url'], axis=1, inplace=True)\n",
    "data.head()"
   ]
  },
  {
   "cell_type": "code",
   "execution_count": 3,
   "metadata": {},
   "outputs": [
    {
     "data": {
      "text/plain": [
       "title      0\n",
       "date       0\n",
       "content    0\n",
       "url        0\n",
       "dtype: int64"
      ]
     },
     "execution_count": 3,
     "metadata": {},
     "output_type": "execute_result"
    }
   ],
   "source": [
    "data.isnull().sum()"
   ]
  },
  {
   "attachments": {},
   "cell_type": "markdown",
   "metadata": {},
   "source": [
    "### 2.1 None값 있는 행 제거"
   ]
  },
  {
   "cell_type": "code",
   "execution_count": 4,
   "metadata": {},
   "outputs": [
    {
     "data": {
      "text/html": [
       "<div>\n",
       "<style scoped>\n",
       "    .dataframe tbody tr th:only-of-type {\n",
       "        vertical-align: middle;\n",
       "    }\n",
       "\n",
       "    .dataframe tbody tr th {\n",
       "        vertical-align: top;\n",
       "    }\n",
       "\n",
       "    .dataframe thead th {\n",
       "        text-align: right;\n",
       "    }\n",
       "</style>\n",
       "<table border=\"1\" class=\"dataframe\">\n",
       "  <thead>\n",
       "    <tr style=\"text-align: right;\">\n",
       "      <th></th>\n",
       "      <th>title</th>\n",
       "      <th>date</th>\n",
       "      <th>content</th>\n",
       "      <th>url</th>\n",
       "    </tr>\n",
       "  </thead>\n",
       "  <tbody>\n",
       "    <tr>\n",
       "      <th>57</th>\n",
       "      <td>[]</td>\n",
       "      <td>None</td>\n",
       "      <td>[]</td>\n",
       "      <td>https://sports.news.naver.com/news.nhn?oid=311...</td>\n",
       "    </tr>\n",
       "    <tr>\n",
       "      <th>96</th>\n",
       "      <td>[]</td>\n",
       "      <td>None</td>\n",
       "      <td>[]</td>\n",
       "      <td>https://sports.news.naver.com/news.nhn?oid=439...</td>\n",
       "    </tr>\n",
       "    <tr>\n",
       "      <th>230</th>\n",
       "      <td>[]</td>\n",
       "      <td>None</td>\n",
       "      <td>[]</td>\n",
       "      <td>https://sports.news.naver.com/news.nhn?oid=382...</td>\n",
       "    </tr>\n",
       "    <tr>\n",
       "      <th>1091</th>\n",
       "      <td>[]</td>\n",
       "      <td>None</td>\n",
       "      <td>[]</td>\n",
       "      <td>https://sports.news.naver.com/news.nhn?oid=009...</td>\n",
       "    </tr>\n",
       "    <tr>\n",
       "      <th>1492</th>\n",
       "      <td>[]</td>\n",
       "      <td>None</td>\n",
       "      <td>[]</td>\n",
       "      <td>https://sports.news.naver.com/news.nhn?oid=442...</td>\n",
       "    </tr>\n",
       "    <tr>\n",
       "      <th>...</th>\n",
       "      <td>...</td>\n",
       "      <td>...</td>\n",
       "      <td>...</td>\n",
       "      <td>...</td>\n",
       "    </tr>\n",
       "    <tr>\n",
       "      <th>38898</th>\n",
       "      <td>[]</td>\n",
       "      <td>None</td>\n",
       "      <td>[]</td>\n",
       "      <td>https://sports.news.naver.com/news.nhn?oid=139...</td>\n",
       "    </tr>\n",
       "    <tr>\n",
       "      <th>39154</th>\n",
       "      <td>[]</td>\n",
       "      <td>None</td>\n",
       "      <td>[]</td>\n",
       "      <td>https://n.news.naver.com/mnews/article/629/000...</td>\n",
       "    </tr>\n",
       "    <tr>\n",
       "      <th>39332</th>\n",
       "      <td>[]</td>\n",
       "      <td>None</td>\n",
       "      <td>[]</td>\n",
       "      <td>https://sports.news.naver.com/news.nhn?oid=468...</td>\n",
       "    </tr>\n",
       "    <tr>\n",
       "      <th>39362</th>\n",
       "      <td>[]</td>\n",
       "      <td>None</td>\n",
       "      <td>[]</td>\n",
       "      <td>https://sports.news.naver.com/news.nhn?oid=347...</td>\n",
       "    </tr>\n",
       "    <tr>\n",
       "      <th>39796</th>\n",
       "      <td>[]</td>\n",
       "      <td>None</td>\n",
       "      <td>[]</td>\n",
       "      <td>https://sports.news.naver.com/news.nhn?oid=413...</td>\n",
       "    </tr>\n",
       "  </tbody>\n",
       "</table>\n",
       "<p>184 rows × 4 columns</p>\n",
       "</div>"
      ],
      "text/plain": [
       "      title  date content                                                url\n",
       "57       []  None      []  https://sports.news.naver.com/news.nhn?oid=311...\n",
       "96       []  None      []  https://sports.news.naver.com/news.nhn?oid=439...\n",
       "230      []  None      []  https://sports.news.naver.com/news.nhn?oid=382...\n",
       "1091     []  None      []  https://sports.news.naver.com/news.nhn?oid=009...\n",
       "1492     []  None      []  https://sports.news.naver.com/news.nhn?oid=442...\n",
       "...     ...   ...     ...                                                ...\n",
       "38898    []  None      []  https://sports.news.naver.com/news.nhn?oid=139...\n",
       "39154    []  None      []  https://n.news.naver.com/mnews/article/629/000...\n",
       "39332    []  None      []  https://sports.news.naver.com/news.nhn?oid=468...\n",
       "39362    []  None      []  https://sports.news.naver.com/news.nhn?oid=347...\n",
       "39796    []  None      []  https://sports.news.naver.com/news.nhn?oid=413...\n",
       "\n",
       "[184 rows x 4 columns]"
      ]
     },
     "execution_count": 4,
     "metadata": {},
     "output_type": "execute_result"
    }
   ],
   "source": [
    "data[data['title']=='[]']"
   ]
  },
  {
   "cell_type": "code",
   "execution_count": 5,
   "metadata": {},
   "outputs": [],
   "source": [
    "# None 없는 행 제외하고 데이터 다시 구성\n",
    "data = data[data['date']!='None']"
   ]
  },
  {
   "cell_type": "code",
   "execution_count": 6,
   "metadata": {},
   "outputs": [
    {
     "data": {
      "text/plain": [
       "0"
      ]
     },
     "execution_count": 6,
     "metadata": {},
     "output_type": "execute_result"
    }
   ],
   "source": [
    "len(data[data['content'].isnull()])"
   ]
  },
  {
   "attachments": {},
   "cell_type": "markdown",
   "metadata": {},
   "source": [
    "### 2.2 날짜 형식 변환 및 날짜 관련 칼럼 생성"
   ]
  },
  {
   "cell_type": "code",
   "execution_count": 7,
   "metadata": {},
   "outputs": [
    {
     "name": "stdout",
     "output_type": "stream",
     "text": [
      "<class 'pandas.core.frame.DataFrame'>\n",
      "Int64Index: 40009 entries, 0 to 40192\n",
      "Data columns (total 4 columns):\n",
      " #   Column   Non-Null Count  Dtype         \n",
      "---  ------   --------------  -----         \n",
      " 0   title    40009 non-null  object        \n",
      " 1   date     40009 non-null  datetime64[ns]\n",
      " 2   content  40009 non-null  object        \n",
      " 3   url      40009 non-null  object        \n",
      "dtypes: datetime64[ns](1), object(3)\n",
      "memory usage: 1.5+ MB\n"
     ]
    }
   ],
   "source": [
    "# 날짜를 datetime 형식으로 변환\n",
    "data['date'] = pd.to_datetime(data['date'])\n",
    "data.info()"
   ]
  },
  {
   "cell_type": "code",
   "execution_count": 8,
   "metadata": {},
   "outputs": [],
   "source": [
    "# 새로운 칼럼 생성 및 값 할당\n",
    "data['timeline'] = data['date'].apply(lambda x: 'before' if x < datetime.datetime(2022,11,30) else 'after')"
   ]
  },
  {
   "cell_type": "code",
   "execution_count": 9,
   "metadata": {},
   "outputs": [
    {
     "name": "stdout",
     "output_type": "stream",
     "text": [
      "ChatGPT 이전 뉴스데이터 개수 : 18913\n",
      "ChatGPT 이후 뉴스데이터 개수 : 21096\n"
     ]
    }
   ],
   "source": [
    "# 기준 시점 전후 데이터 양 차이 비교\n",
    "print('ChatGPT 이전 뉴스데이터 개수 :',len(data[data['timeline']=='before']))\n",
    "print('ChatGPT 이후 뉴스데이터 개수 :',len(data[data['timeline']=='after']))"
   ]
  },
  {
   "cell_type": "code",
   "execution_count": 10,
   "metadata": {},
   "outputs": [],
   "source": [
    "# 연도/월 칼럼 생성\n",
    "data['year'] = data['date'].dt.year\n",
    "data['month'] = data['date'].dt.month"
   ]
  },
  {
   "cell_type": "code",
   "execution_count": 11,
   "metadata": {},
   "outputs": [
    {
     "data": {
      "text/html": [
       "<div>\n",
       "<style scoped>\n",
       "    .dataframe tbody tr th:only-of-type {\n",
       "        vertical-align: middle;\n",
       "    }\n",
       "\n",
       "    .dataframe tbody tr th {\n",
       "        vertical-align: top;\n",
       "    }\n",
       "\n",
       "    .dataframe thead th {\n",
       "        text-align: right;\n",
       "    }\n",
       "</style>\n",
       "<table border=\"1\" class=\"dataframe\">\n",
       "  <thead>\n",
       "    <tr style=\"text-align: right;\">\n",
       "      <th></th>\n",
       "      <th>title</th>\n",
       "      <th>date</th>\n",
       "      <th>content</th>\n",
       "      <th>url</th>\n",
       "      <th>timeline</th>\n",
       "      <th>year</th>\n",
       "      <th>month</th>\n",
       "    </tr>\n",
       "  </thead>\n",
       "  <tbody>\n",
       "    <tr>\n",
       "      <th>0</th>\n",
       "      <td>[[단독] 서울대 연구팀, 또 표절 의혹…이종호 장관 아들 1저자 논문]</td>\n",
       "      <td>2022-07-01 10:47:01</td>\n",
       "      <td>[\\n거의 같은 문장 반복해서 등장서울대, 연구진실성조사위원회 열어\\n\\n\\n\\n사...</td>\n",
       "      <td>https://n.news.naver.com/mnews/article/015/000...</td>\n",
       "      <td>before</td>\n",
       "      <td>2022</td>\n",
       "      <td>7</td>\n",
       "    </tr>\n",
       "    <tr>\n",
       "      <th>1</th>\n",
       "      <td>[중부지방에 5∼40㎜ 소나기…낮 최고 35도 폭염]</td>\n",
       "      <td>2022-07-01 05:39:10</td>\n",
       "      <td>[\\n\\n\\n\\n\\n우산행렬[연합뉴스 자료사진]    (서울=연합뉴스) 윤우성 기자...</td>\n",
       "      <td>https://n.news.naver.com/mnews/article/001/001...</td>\n",
       "      <td>before</td>\n",
       "      <td>2022</td>\n",
       "      <td>7</td>\n",
       "    </tr>\n",
       "    <tr>\n",
       "      <th>2</th>\n",
       "      <td>[삼성, 세계 첫 '3나노' 양산‥TSMC 잡을까]</td>\n",
       "      <td>2022-07-01 06:20:53</td>\n",
       "      <td>[\\n\\t\\t\\t[뉴스투데이]◀ 앵커 ▶삼성전자가 세계 최초로 3나노 기술을 적용한...</td>\n",
       "      <td>https://n.news.naver.com/mnews/article/214/000...</td>\n",
       "      <td>before</td>\n",
       "      <td>2022</td>\n",
       "      <td>7</td>\n",
       "    </tr>\n",
       "    <tr>\n",
       "      <th>3</th>\n",
       "      <td>[신한은행, ESG본부 신설…하반기 정기 인사]</td>\n",
       "      <td>2022-07-01 15:25:08</td>\n",
       "      <td>[\\nAI 인사 업그레이드…금융사고 예방 위해 장기근속 직원 순환근무(서울=연합뉴스...</td>\n",
       "      <td>https://n.news.naver.com/mnews/article/001/001...</td>\n",
       "      <td>before</td>\n",
       "      <td>2022</td>\n",
       "      <td>7</td>\n",
       "    </tr>\n",
       "    <tr>\n",
       "      <th>4</th>\n",
       "      <td>[영남이공대, 미래 신산업 수요특화형 'AI·IoT' 교육]</td>\n",
       "      <td>2022-07-01 11:14:20</td>\n",
       "      <td>[\\n\\n\\n\\n\\n[대구=뉴시스]김정화 기자 = 영남이공대학교는 지난달 27일부터...</td>\n",
       "      <td>https://n.news.naver.com/mnews/article/003/001...</td>\n",
       "      <td>before</td>\n",
       "      <td>2022</td>\n",
       "      <td>7</td>\n",
       "    </tr>\n",
       "  </tbody>\n",
       "</table>\n",
       "</div>"
      ],
      "text/plain": [
       "                                      title                date  \\\n",
       "0  [[단독] 서울대 연구팀, 또 표절 의혹…이종호 장관 아들 1저자 논문] 2022-07-01 10:47:01   \n",
       "1             [중부지방에 5∼40㎜ 소나기…낮 최고 35도 폭염] 2022-07-01 05:39:10   \n",
       "2              [삼성, 세계 첫 '3나노' 양산‥TSMC 잡을까] 2022-07-01 06:20:53   \n",
       "3                [신한은행, ESG본부 신설…하반기 정기 인사] 2022-07-01 15:25:08   \n",
       "4         [영남이공대, 미래 신산업 수요특화형 'AI·IoT' 교육] 2022-07-01 11:14:20   \n",
       "\n",
       "                                             content  \\\n",
       "0  [\\n거의 같은 문장 반복해서 등장서울대, 연구진실성조사위원회 열어\\n\\n\\n\\n사...   \n",
       "1  [\\n\\n\\n\\n\\n우산행렬[연합뉴스 자료사진]    (서울=연합뉴스) 윤우성 기자...   \n",
       "2  [\\n\\t\\t\\t[뉴스투데이]◀ 앵커 ▶삼성전자가 세계 최초로 3나노 기술을 적용한...   \n",
       "3  [\\nAI 인사 업그레이드…금융사고 예방 위해 장기근속 직원 순환근무(서울=연합뉴스...   \n",
       "4  [\\n\\n\\n\\n\\n[대구=뉴시스]김정화 기자 = 영남이공대학교는 지난달 27일부터...   \n",
       "\n",
       "                                                 url timeline  year  month  \n",
       "0  https://n.news.naver.com/mnews/article/015/000...   before  2022      7  \n",
       "1  https://n.news.naver.com/mnews/article/001/001...   before  2022      7  \n",
       "2  https://n.news.naver.com/mnews/article/214/000...   before  2022      7  \n",
       "3  https://n.news.naver.com/mnews/article/001/001...   before  2022      7  \n",
       "4  https://n.news.naver.com/mnews/article/003/001...   before  2022      7  "
      ]
     },
     "execution_count": 11,
     "metadata": {},
     "output_type": "execute_result"
    }
   ],
   "source": [
    "data.head()"
   ]
  },
  {
   "attachments": {},
   "cell_type": "markdown",
   "metadata": {},
   "source": [
    "## 3. 전처리 함수"
   ]
  },
  {
   "attachments": {},
   "cell_type": "markdown",
   "metadata": {},
   "source": [
    "### 3.1 대괄호, 줄바꿈, 탭 등 제거"
   ]
  },
  {
   "cell_type": "code",
   "execution_count": 12,
   "metadata": {},
   "outputs": [],
   "source": [
    "# 대괄호 제거\n",
    "def remove_bracket(text):\n",
    "    text = text[1:-1]\n",
    "    return text"
   ]
  },
  {
   "cell_type": "code",
   "execution_count": 13,
   "metadata": {},
   "outputs": [],
   "source": [
    "# 줄바꿈과 탭 표시 제거\n",
    "def remove_n(text):\n",
    "    text = text.replace('\\n', '').replace('\\t', '')\n",
    "    return text"
   ]
  },
  {
   "cell_type": "code",
   "execution_count": 14,
   "metadata": {},
   "outputs": [
    {
     "data": {
      "text/html": [
       "<div>\n",
       "<style scoped>\n",
       "    .dataframe tbody tr th:only-of-type {\n",
       "        vertical-align: middle;\n",
       "    }\n",
       "\n",
       "    .dataframe tbody tr th {\n",
       "        vertical-align: top;\n",
       "    }\n",
       "\n",
       "    .dataframe thead th {\n",
       "        text-align: right;\n",
       "    }\n",
       "</style>\n",
       "<table border=\"1\" class=\"dataframe\">\n",
       "  <thead>\n",
       "    <tr style=\"text-align: right;\">\n",
       "      <th></th>\n",
       "      <th>title</th>\n",
       "      <th>date</th>\n",
       "      <th>content</th>\n",
       "      <th>url</th>\n",
       "      <th>timeline</th>\n",
       "      <th>year</th>\n",
       "      <th>month</th>\n",
       "    </tr>\n",
       "  </thead>\n",
       "  <tbody>\n",
       "    <tr>\n",
       "      <th>0</th>\n",
       "      <td>[단독] 서울대 연구팀, 또 표절 의혹…이종호 장관 아들 1저자 논문</td>\n",
       "      <td>2022-07-01 10:47:01</td>\n",
       "      <td>\\n거의 같은 문장 반복해서 등장서울대, 연구진실성조사위원회 열어\\n\\n\\n\\n사진...</td>\n",
       "      <td>https://n.news.naver.com/mnews/article/015/000...</td>\n",
       "      <td>before</td>\n",
       "      <td>2022</td>\n",
       "      <td>7</td>\n",
       "    </tr>\n",
       "    <tr>\n",
       "      <th>1</th>\n",
       "      <td>중부지방에 5∼40㎜ 소나기…낮 최고 35도 폭염</td>\n",
       "      <td>2022-07-01 05:39:10</td>\n",
       "      <td>\\n\\n\\n\\n\\n우산행렬[연합뉴스 자료사진]    (서울=연합뉴스) 윤우성 기자 ...</td>\n",
       "      <td>https://n.news.naver.com/mnews/article/001/001...</td>\n",
       "      <td>before</td>\n",
       "      <td>2022</td>\n",
       "      <td>7</td>\n",
       "    </tr>\n",
       "    <tr>\n",
       "      <th>2</th>\n",
       "      <td>삼성, 세계 첫 '3나노' 양산‥TSMC 잡을까</td>\n",
       "      <td>2022-07-01 06:20:53</td>\n",
       "      <td>\\n\\t\\t\\t[뉴스투데이]◀ 앵커 ▶삼성전자가 세계 최초로 3나노 기술을 적용한 ...</td>\n",
       "      <td>https://n.news.naver.com/mnews/article/214/000...</td>\n",
       "      <td>before</td>\n",
       "      <td>2022</td>\n",
       "      <td>7</td>\n",
       "    </tr>\n",
       "    <tr>\n",
       "      <th>3</th>\n",
       "      <td>신한은행, ESG본부 신설…하반기 정기 인사</td>\n",
       "      <td>2022-07-01 15:25:08</td>\n",
       "      <td>\\nAI 인사 업그레이드…금융사고 예방 위해 장기근속 직원 순환근무(서울=연합뉴스)...</td>\n",
       "      <td>https://n.news.naver.com/mnews/article/001/001...</td>\n",
       "      <td>before</td>\n",
       "      <td>2022</td>\n",
       "      <td>7</td>\n",
       "    </tr>\n",
       "    <tr>\n",
       "      <th>4</th>\n",
       "      <td>영남이공대, 미래 신산업 수요특화형 'AI·IoT' 교육</td>\n",
       "      <td>2022-07-01 11:14:20</td>\n",
       "      <td>\\n\\n\\n\\n\\n[대구=뉴시스]김정화 기자 = 영남이공대학교는 지난달 27일부터 ...</td>\n",
       "      <td>https://n.news.naver.com/mnews/article/003/001...</td>\n",
       "      <td>before</td>\n",
       "      <td>2022</td>\n",
       "      <td>7</td>\n",
       "    </tr>\n",
       "  </tbody>\n",
       "</table>\n",
       "</div>"
      ],
      "text/plain": [
       "                                    title                date  \\\n",
       "0  [단독] 서울대 연구팀, 또 표절 의혹…이종호 장관 아들 1저자 논문 2022-07-01 10:47:01   \n",
       "1             중부지방에 5∼40㎜ 소나기…낮 최고 35도 폭염 2022-07-01 05:39:10   \n",
       "2              삼성, 세계 첫 '3나노' 양산‥TSMC 잡을까 2022-07-01 06:20:53   \n",
       "3                신한은행, ESG본부 신설…하반기 정기 인사 2022-07-01 15:25:08   \n",
       "4         영남이공대, 미래 신산업 수요특화형 'AI·IoT' 교육 2022-07-01 11:14:20   \n",
       "\n",
       "                                             content  \\\n",
       "0  \\n거의 같은 문장 반복해서 등장서울대, 연구진실성조사위원회 열어\\n\\n\\n\\n사진...   \n",
       "1  \\n\\n\\n\\n\\n우산행렬[연합뉴스 자료사진]    (서울=연합뉴스) 윤우성 기자 ...   \n",
       "2  \\n\\t\\t\\t[뉴스투데이]◀ 앵커 ▶삼성전자가 세계 최초로 3나노 기술을 적용한 ...   \n",
       "3  \\nAI 인사 업그레이드…금융사고 예방 위해 장기근속 직원 순환근무(서울=연합뉴스)...   \n",
       "4  \\n\\n\\n\\n\\n[대구=뉴시스]김정화 기자 = 영남이공대학교는 지난달 27일부터 ...   \n",
       "\n",
       "                                                 url timeline  year  month  \n",
       "0  https://n.news.naver.com/mnews/article/015/000...   before  2022      7  \n",
       "1  https://n.news.naver.com/mnews/article/001/001...   before  2022      7  \n",
       "2  https://n.news.naver.com/mnews/article/214/000...   before  2022      7  \n",
       "3  https://n.news.naver.com/mnews/article/001/001...   before  2022      7  \n",
       "4  https://n.news.naver.com/mnews/article/003/001...   before  2022      7  "
      ]
     },
     "execution_count": 14,
     "metadata": {},
     "output_type": "execute_result"
    }
   ],
   "source": [
    "# title과 content에 대괄호 제거\n",
    "data[['title', 'content']] = data[['title', 'content']].applymap(lambda x: remove_bracket(x))\n",
    "data.head()"
   ]
  },
  {
   "cell_type": "code",
   "execution_count": 15,
   "metadata": {},
   "outputs": [
    {
     "data": {
      "text/html": [
       "<div>\n",
       "<style scoped>\n",
       "    .dataframe tbody tr th:only-of-type {\n",
       "        vertical-align: middle;\n",
       "    }\n",
       "\n",
       "    .dataframe tbody tr th {\n",
       "        vertical-align: top;\n",
       "    }\n",
       "\n",
       "    .dataframe thead th {\n",
       "        text-align: right;\n",
       "    }\n",
       "</style>\n",
       "<table border=\"1\" class=\"dataframe\">\n",
       "  <thead>\n",
       "    <tr style=\"text-align: right;\">\n",
       "      <th></th>\n",
       "      <th>title</th>\n",
       "      <th>date</th>\n",
       "      <th>content</th>\n",
       "      <th>url</th>\n",
       "      <th>timeline</th>\n",
       "      <th>year</th>\n",
       "      <th>month</th>\n",
       "    </tr>\n",
       "  </thead>\n",
       "  <tbody>\n",
       "    <tr>\n",
       "      <th>0</th>\n",
       "      <td>[단독] 서울대 연구팀, 또 표절 의혹…이종호 장관 아들 1저자 논문</td>\n",
       "      <td>2022-07-01 10:47:01</td>\n",
       "      <td>거의 같은 문장 반복해서 등장서울대, 연구진실성조사위원회 열어사진=한경DB서울대  ...</td>\n",
       "      <td>https://n.news.naver.com/mnews/article/015/000...</td>\n",
       "      <td>before</td>\n",
       "      <td>2022</td>\n",
       "      <td>7</td>\n",
       "    </tr>\n",
       "    <tr>\n",
       "      <th>1</th>\n",
       "      <td>중부지방에 5∼40㎜ 소나기…낮 최고 35도 폭염</td>\n",
       "      <td>2022-07-01 05:39:10</td>\n",
       "      <td>우산행렬[연합뉴스 자료사진]    (서울=연합뉴스) 윤우성 기자 = 금요일인 1일은...</td>\n",
       "      <td>https://n.news.naver.com/mnews/article/001/001...</td>\n",
       "      <td>before</td>\n",
       "      <td>2022</td>\n",
       "      <td>7</td>\n",
       "    </tr>\n",
       "    <tr>\n",
       "      <th>2</th>\n",
       "      <td>삼성, 세계 첫 '3나노' 양산‥TSMC 잡을까</td>\n",
       "      <td>2022-07-01 06:20:53</td>\n",
       "      <td>[뉴스투데이]◀ 앵커 ▶삼성전자가 세계 최초로 3나노 기술을 적용한 반도체를 생산하...</td>\n",
       "      <td>https://n.news.naver.com/mnews/article/214/000...</td>\n",
       "      <td>before</td>\n",
       "      <td>2022</td>\n",
       "      <td>7</td>\n",
       "    </tr>\n",
       "    <tr>\n",
       "      <th>3</th>\n",
       "      <td>신한은행, ESG본부 신설…하반기 정기 인사</td>\n",
       "      <td>2022-07-01 15:25:08</td>\n",
       "      <td>AI 인사 업그레이드…금융사고 예방 위해 장기근속 직원 순환근무(서울=연합뉴스) 신...</td>\n",
       "      <td>https://n.news.naver.com/mnews/article/001/001...</td>\n",
       "      <td>before</td>\n",
       "      <td>2022</td>\n",
       "      <td>7</td>\n",
       "    </tr>\n",
       "    <tr>\n",
       "      <th>4</th>\n",
       "      <td>영남이공대, 미래 신산업 수요특화형 'AI·IoT' 교육</td>\n",
       "      <td>2022-07-01 11:14:20</td>\n",
       "      <td>[대구=뉴시스]김정화 기자 = 영남이공대학교는 지난달 27일부터 7월1일까지 제주도...</td>\n",
       "      <td>https://n.news.naver.com/mnews/article/003/001...</td>\n",
       "      <td>before</td>\n",
       "      <td>2022</td>\n",
       "      <td>7</td>\n",
       "    </tr>\n",
       "  </tbody>\n",
       "</table>\n",
       "</div>"
      ],
      "text/plain": [
       "                                    title                date  \\\n",
       "0  [단독] 서울대 연구팀, 또 표절 의혹…이종호 장관 아들 1저자 논문 2022-07-01 10:47:01   \n",
       "1             중부지방에 5∼40㎜ 소나기…낮 최고 35도 폭염 2022-07-01 05:39:10   \n",
       "2              삼성, 세계 첫 '3나노' 양산‥TSMC 잡을까 2022-07-01 06:20:53   \n",
       "3                신한은행, ESG본부 신설…하반기 정기 인사 2022-07-01 15:25:08   \n",
       "4         영남이공대, 미래 신산업 수요특화형 'AI·IoT' 교육 2022-07-01 11:14:20   \n",
       "\n",
       "                                             content  \\\n",
       "0  거의 같은 문장 반복해서 등장서울대, 연구진실성조사위원회 열어사진=한경DB서울대  ...   \n",
       "1  우산행렬[연합뉴스 자료사진]    (서울=연합뉴스) 윤우성 기자 = 금요일인 1일은...   \n",
       "2  [뉴스투데이]◀ 앵커 ▶삼성전자가 세계 최초로 3나노 기술을 적용한 반도체를 생산하...   \n",
       "3  AI 인사 업그레이드…금융사고 예방 위해 장기근속 직원 순환근무(서울=연합뉴스) 신...   \n",
       "4  [대구=뉴시스]김정화 기자 = 영남이공대학교는 지난달 27일부터 7월1일까지 제주도...   \n",
       "\n",
       "                                                 url timeline  year  month  \n",
       "0  https://n.news.naver.com/mnews/article/015/000...   before  2022      7  \n",
       "1  https://n.news.naver.com/mnews/article/001/001...   before  2022      7  \n",
       "2  https://n.news.naver.com/mnews/article/214/000...   before  2022      7  \n",
       "3  https://n.news.naver.com/mnews/article/001/001...   before  2022      7  \n",
       "4  https://n.news.naver.com/mnews/article/003/001...   before  2022      7  "
      ]
     },
     "execution_count": 15,
     "metadata": {},
     "output_type": "execute_result"
    }
   ],
   "source": [
    "# content에 줄바꿈 표시 제거\n",
    "data['content'] = data['content'].apply(lambda x: remove_n(x))\n",
    "data.head()"
   ]
  },
  {
   "attachments": {},
   "cell_type": "markdown",
   "metadata": {},
   "source": [
    "### 3.2 기사 제목 전처리"
   ]
  },
  {
   "cell_type": "code",
   "execution_count": 16,
   "metadata": {},
   "outputs": [],
   "source": [
    "# 제목 전처리 \n",
    "def title_processing(text):\n",
    "    new_text = re.sub(r'\\[.*\\]', '', text) # 괄호 안 내용 제거\n",
    "    new_text = re.sub(r'\\(.*\\)', '', new_text)\n",
    "    new_text = re.sub(r'[^ a-zA-Zㄱ-ㅎ가-힣0-9.]', ' ', new_text) # 띄어쓰기와 한글 제외 모두 제거\n",
    "    new_text = re.sub(r\"^\\s+\", '', new_text) # space from start 제거\n",
    "    new_text = re.sub(r'\\s+$', '', new_text) # space from the end 제거\n",
    "    new_text = re.sub(r'\\s{2,}', ' ', new_text) # 다중 공백 -> 하나의 공백으로\n",
    "\n",
    "    return new_text"
   ]
  },
  {
   "cell_type": "code",
   "execution_count": 17,
   "metadata": {},
   "outputs": [],
   "source": [
    "# test = '[단독] 어쩌구 23028 so did it work 저쩌구'\n",
    "# title_processing(test)"
   ]
  },
  {
   "cell_type": "code",
   "execution_count": 18,
   "metadata": {},
   "outputs": [],
   "source": [
    "data['title'] = data['title'].apply(lambda x: title_processing(x))"
   ]
  },
  {
   "attachments": {},
   "cell_type": "markdown",
   "metadata": {},
   "source": [
    "### 3.3 기사 내용 전처리"
   ]
  },
  {
   "cell_type": "code",
   "execution_count": 47,
   "metadata": {},
   "outputs": [],
   "source": [
    "# pd.set_option('display.max_rows', 20)"
   ]
  },
  {
   "cell_type": "code",
   "execution_count": 19,
   "metadata": {},
   "outputs": [],
   "source": [
    "# 내용 전처리\n",
    "\n",
    "def clean_content(text):\n",
    "    new_text = re.sub(r'\\[.*?\\]', '', text) # 대괄호와 괄호 사이 내용 제거\n",
    "    new_text = re.sub(r'\\(.*?\\)', '', new_text) # 소괄호와 괄호 사이 내용 제거\n",
    "    new_text = re.sub(r'◀.*?▶', '', new_text)\n",
    "\n",
    "    new_text = re.sub(r'^[a-zA-Z0-9+-_.]+@[a-zA-Z0-9-]+\\.[a-zA-Z0-9-.]+$', '', new_text) # 이메일 주소 제거\n",
    "    new_text = re.sub(r\"http[s]?://(?:[a-zA-Z]|[0-9]|[$-_@.&+]|[!*\\(\\),]|(?:%[0-9a-fA-F][0-9a-fA-F]))+\", ' ', new_text) # http로 시작되는 url\n",
    "    new_text = re.sub(r\"[-a-zA-Z0-9@:%._\\+~#=]{1,256}\\.[a-zA-Z0-9()]{2,6}\\b([-a-zA-Z0-9()@:%_\\+.~#?&//=]*)\", ' ', new_text) # http로 시작되지 않는 url\n",
    "    new_text = re.sub(r'\\d{2,3}-\\d{3,4}-\\d{3,4}', '', new_text) # 전화번호 제거\n",
    "    new_text = re.sub(r'\\w{2,3} 기자', '', new_text) # 기자 이름 제거 (과정 중에 불필요하게 날아가는 단어들이 있을 수 있음)\n",
    "\n",
    "    new_text = re.sub(r'[^ a-zA-Zㄱ-ㅎ가-힣0-9.]', ' ', new_text) # 띄어쓰기, 한글, 영문 제외 모두 제거 (특수문자 제거)\n",
    "\n",
    "    new_text = re.sub(r\"^\\s+\", '', new_text) # space from start 제거\n",
    "    new_text = re.sub(r'\\s+$', '', new_text) # space from the end 제거\n",
    "    new_text = re.sub(r'\\s{2,}', ' ', new_text) # 다중 공백 -> 하나의 공백으로\n",
    "    \n",
    "    \n",
    "    return new_text"
   ]
  },
  {
   "cell_type": "code",
   "execution_count": 20,
   "metadata": {},
   "outputs": [],
   "source": [
    "data['content'] = data['content'].apply(lambda x: clean_content(x))"
   ]
  },
  {
   "cell_type": "code",
   "execution_count": 21,
   "metadata": {},
   "outputs": [],
   "source": [
    "# 추가 처리\n",
    "data['content'] = data['content'].str.replace('사진제공', '')\n",
    "data['content'] = data['content'].str.replace('사진 제공', '')\n",
    "data['content'] = data['content'].str.replace('세계일보 자료사진', '')\n",
    "data['content'] = data['content'].str.replace('사진 연합뉴스', '')\n",
    "data['content'] = data['content'].str.replace('이미지', '')\n",
    "data['content'] = data['content'].str.replace('재판매 및 DB 금지', '')\n",
    "data['content'] = data['content'].str.replace('재배포 및 DB 금지', '')\n",
    "data['content'] = data['content'].str.replace('무단 전재 재배포 금지', '')\n",
    "data['content'] = data['content'].str.replace('Copyright 뉴스1 All rights reserved', '')\n",
    "data['content'] = data['content'].str.replace('Copyright', '')\n",
    "data['content'] = data['content'].str.replace('All rights reserved', '')\n",
    "data['content'] = data['content'].str.replace('News1', '')\n",
    "data['content'] = data['content'].str.replace('뉴스1', '')\n",
    "data['content'] = data['content'].apply(lambda x: re.sub(r'KBS 뉴스 \\w{2,4}입니다\\.', '', str(x)))\n",
    "data['content'] = data['content'].apply(lambda x: re.sub(r'촬영기자 \\w{2,4}', '', str(x)))"
   ]
  },
  {
   "cell_type": "code",
   "execution_count": 22,
   "metadata": {},
   "outputs": [
    {
     "data": {
      "text/plain": [
       "0"
      ]
     },
     "execution_count": 22,
     "metadata": {},
     "output_type": "execute_result"
    }
   ],
   "source": [
    "len(data[data['content'].isnull()])"
   ]
  },
  {
   "cell_type": "code",
   "execution_count": 23,
   "metadata": {},
   "outputs": [],
   "source": [
    "data.dropna(subset=['content'], axis=0, inplace=True)"
   ]
  },
  {
   "cell_type": "code",
   "execution_count": 24,
   "metadata": {},
   "outputs": [
    {
     "data": {
      "text/plain": [
       "0        거의 같은 문장 반복해서 등장서울대 연구진실성조사위원회 열어사진 한경DB서울대 인공...\n",
       "1        우산행렬 금요일인 1일은 늦은 오후부터 저녁 사이 중부지방을 중심으로 천둥 번개를 ...\n",
       "2        삼성전자가 세계 최초로 3나노 기술을 적용한 반도체를 생산하기 시작했습니다.경쟁사인...\n",
       "3        AI 인사 업그레이드 금융사고 예방 위해 장기근속 직원 순환근무 신한은행은 1일 자...\n",
       "4        영남이공대학교는 지난달 27일부터 7월1일까지 제주도 호텔골든데이지 서귀포오션에서 ...\n",
       "                               ...                        \n",
       "40188    가정의 달 봄 행사와 다양한 프로그램 마련리얼로봇 등 보강해 체감형 로봇랜드로 탈바...\n",
       "40189    임승혁 KT 헬스케어사업단 단장이 감염병 대비를 위한 차세대 방역 연구 성과공유회에...\n",
       "40190    AI와 통신데이터를 활용해 차세대 방역에 대비하는 감염병 경로예측 모델이 개발됐다....\n",
       "40191    창업자 등 면담하고 시연도 참관이창양 산업통상자원부 장관이 28일 미국 매사추세츠주...\n",
       "40192    어린이 날 연휴 로봇마차 퍼레이드 솜 사탕 로봇 라면 끓이는 로봇 도 선보여로봇 소...\n",
       "Name: content, Length: 40009, dtype: object"
      ]
     },
     "execution_count": 24,
     "metadata": {},
     "output_type": "execute_result"
    }
   ],
   "source": [
    "data['content']"
   ]
  },
  {
   "cell_type": "code",
   "execution_count": 25,
   "metadata": {},
   "outputs": [],
   "source": [
    "data.to_csv('/home/ryu/2023text/final/for_textrank.csv', index=False, encoding='utf-8')"
   ]
  },
  {
   "attachments": {},
   "cell_type": "markdown",
   "metadata": {},
   "source": [
    "## 4. 문장 단위로 split"
   ]
  },
  {
   "cell_type": "code",
   "execution_count": 75,
   "metadata": {},
   "outputs": [
    {
     "data": {
      "text/html": [
       "<div>\n",
       "<style scoped>\n",
       "    .dataframe tbody tr th:only-of-type {\n",
       "        vertical-align: middle;\n",
       "    }\n",
       "\n",
       "    .dataframe tbody tr th {\n",
       "        vertical-align: top;\n",
       "    }\n",
       "\n",
       "    .dataframe thead th {\n",
       "        text-align: right;\n",
       "    }\n",
       "</style>\n",
       "<table border=\"1\" class=\"dataframe\">\n",
       "  <thead>\n",
       "    <tr style=\"text-align: right;\">\n",
       "      <th></th>\n",
       "      <th>title</th>\n",
       "      <th>content</th>\n",
       "      <th>timeline</th>\n",
       "      <th>year</th>\n",
       "      <th>month</th>\n",
       "    </tr>\n",
       "  </thead>\n",
       "  <tbody>\n",
       "    <tr>\n",
       "      <th>0</th>\n",
       "      <td>서울대 연구팀 또 표절 의혹 이종호 장관 아들 1저자 논문</td>\n",
       "      <td>거의 같은 문장 반복해서 등장서울대 연구진실성조사위원회 열어사진 한경DB서울대 인공...</td>\n",
       "      <td>before</td>\n",
       "      <td>2022</td>\n",
       "      <td>7</td>\n",
       "    </tr>\n",
       "    <tr>\n",
       "      <th>1</th>\n",
       "      <td>중부지방에 5 40 소나기 낮 최고 35도 폭염</td>\n",
       "      <td>우산행렬 금요일인 1일은 늦은 오후부터 저녁 사이 중부지방을 중심으로 천둥 번개를 ...</td>\n",
       "      <td>before</td>\n",
       "      <td>2022</td>\n",
       "      <td>7</td>\n",
       "    </tr>\n",
       "    <tr>\n",
       "      <th>2</th>\n",
       "      <td>삼성 세계 첫 3나노 양산 TSMC 잡을까</td>\n",
       "      <td>삼성전자가 세계 최초로 3나노 기술을 적용한 반도체를 생산하기 시작했습니다.경쟁사인...</td>\n",
       "      <td>before</td>\n",
       "      <td>2022</td>\n",
       "      <td>7</td>\n",
       "    </tr>\n",
       "    <tr>\n",
       "      <th>3</th>\n",
       "      <td>신한은행 ESG본부 신설 하반기 정기 인사</td>\n",
       "      <td>AI 인사 업그레이드 금융사고 예방 위해 장기근속 직원 순환근무 신한은행은 1일 자...</td>\n",
       "      <td>before</td>\n",
       "      <td>2022</td>\n",
       "      <td>7</td>\n",
       "    </tr>\n",
       "    <tr>\n",
       "      <th>4</th>\n",
       "      <td>영남이공대 미래 신산업 수요특화형 AI IoT 교육</td>\n",
       "      <td>영남이공대학교는 지난달 27일부터 7월1일까지 제주도 호텔골든데이지 서귀포오션에서 ...</td>\n",
       "      <td>before</td>\n",
       "      <td>2022</td>\n",
       "      <td>7</td>\n",
       "    </tr>\n",
       "    <tr>\n",
       "      <th>...</th>\n",
       "      <td>...</td>\n",
       "      <td>...</td>\n",
       "      <td>...</td>\n",
       "      <td>...</td>\n",
       "      <td>...</td>\n",
       "    </tr>\n",
       "    <tr>\n",
       "      <th>40188</th>\n",
       "      <td>마산 로봇랜드 테마파크 볼거리 풍성 운영 활성화</td>\n",
       "      <td>가정의 달 봄 행사와 다양한 프로그램 마련리얼로봇 등 보강해 체감형 로봇랜드로 탈바...</td>\n",
       "      <td>after</td>\n",
       "      <td>2023</td>\n",
       "      <td>4</td>\n",
       "    </tr>\n",
       "    <tr>\n",
       "      <th>40189</th>\n",
       "      <td>KT 기지국 활용 역학조사 효과 입증 감염병 대응 연구 성과 공유</td>\n",
       "      <td>임승혁 KT 헬스케어사업단 단장이 감염병 대비를 위한 차세대 방역 연구 성과공유회에...</td>\n",
       "      <td>after</td>\n",
       "      <td>2023</td>\n",
       "      <td>4</td>\n",
       "    </tr>\n",
       "    <tr>\n",
       "      <th>40190</th>\n",
       "      <td>통신데이터로 제2코로나 막는다 KT 예측모델 개발 완료</td>\n",
       "      <td>AI와 통신데이터를 활용해 차세대 방역에 대비하는 감염병 경로예측 모델이 개발됐다....</td>\n",
       "      <td>after</td>\n",
       "      <td>2023</td>\n",
       "      <td>4</td>\n",
       "    </tr>\n",
       "    <tr>\n",
       "      <th>40191</th>\n",
       "      <td>보스톤 다이내믹스 찾은 이창양 로봇 기술협력 우수 사례</td>\n",
       "      <td>창업자 등 면담하고 시연도 참관이창양 산업통상자원부 장관이 28일 미국 매사추세츠주...</td>\n",
       "      <td>after</td>\n",
       "      <td>2023</td>\n",
       "      <td>4</td>\n",
       "    </tr>\n",
       "    <tr>\n",
       "      <th>40192</th>\n",
       "      <td>마산 로봇랜드 가정의 달 볼거리 풍성</td>\n",
       "      <td>어린이 날 연휴 로봇마차 퍼레이드 솜 사탕 로봇 라면 끓이는 로봇 도 선보여로봇 소...</td>\n",
       "      <td>after</td>\n",
       "      <td>2023</td>\n",
       "      <td>4</td>\n",
       "    </tr>\n",
       "  </tbody>\n",
       "</table>\n",
       "<p>40009 rows × 5 columns</p>\n",
       "</div>"
      ],
      "text/plain": [
       "                                      title  \\\n",
       "0          서울대 연구팀 또 표절 의혹 이종호 장관 아들 1저자 논문   \n",
       "1                중부지방에 5 40 소나기 낮 최고 35도 폭염   \n",
       "2                   삼성 세계 첫 3나노 양산 TSMC 잡을까   \n",
       "3                   신한은행 ESG본부 신설 하반기 정기 인사   \n",
       "4              영남이공대 미래 신산업 수요특화형 AI IoT 교육   \n",
       "...                                     ...   \n",
       "40188            마산 로봇랜드 테마파크 볼거리 풍성 운영 활성화   \n",
       "40189  KT 기지국 활용 역학조사 효과 입증 감염병 대응 연구 성과 공유   \n",
       "40190        통신데이터로 제2코로나 막는다 KT 예측모델 개발 완료   \n",
       "40191        보스톤 다이내믹스 찾은 이창양 로봇 기술협력 우수 사례   \n",
       "40192                  마산 로봇랜드 가정의 달 볼거리 풍성   \n",
       "\n",
       "                                                 content timeline  year  month  \n",
       "0      거의 같은 문장 반복해서 등장서울대 연구진실성조사위원회 열어사진 한경DB서울대 인공...   before  2022      7  \n",
       "1      우산행렬 금요일인 1일은 늦은 오후부터 저녁 사이 중부지방을 중심으로 천둥 번개를 ...   before  2022      7  \n",
       "2      삼성전자가 세계 최초로 3나노 기술을 적용한 반도체를 생산하기 시작했습니다.경쟁사인...   before  2022      7  \n",
       "3      AI 인사 업그레이드 금융사고 예방 위해 장기근속 직원 순환근무 신한은행은 1일 자...   before  2022      7  \n",
       "4      영남이공대학교는 지난달 27일부터 7월1일까지 제주도 호텔골든데이지 서귀포오션에서 ...   before  2022      7  \n",
       "...                                                  ...      ...   ...    ...  \n",
       "40188  가정의 달 봄 행사와 다양한 프로그램 마련리얼로봇 등 보강해 체감형 로봇랜드로 탈바...    after  2023      4  \n",
       "40189  임승혁 KT 헬스케어사업단 단장이 감염병 대비를 위한 차세대 방역 연구 성과공유회에...    after  2023      4  \n",
       "40190  AI와 통신데이터를 활용해 차세대 방역에 대비하는 감염병 경로예측 모델이 개발됐다....    after  2023      4  \n",
       "40191  창업자 등 면담하고 시연도 참관이창양 산업통상자원부 장관이 28일 미국 매사추세츠주...    after  2023      4  \n",
       "40192  어린이 날 연휴 로봇마차 퍼레이드 솜 사탕 로봇 라면 끓이는 로봇 도 선보여로봇 소...    after  2023      4  \n",
       "\n",
       "[40009 rows x 5 columns]"
      ]
     },
     "execution_count": 75,
     "metadata": {},
     "output_type": "execute_result"
    }
   ],
   "source": [
    "# 필요한 칼럼만 가져오기\n",
    "split_df = data[['title', 'content', 'timeline', 'year', 'month']]\n",
    "split_df"
   ]
  },
  {
   "cell_type": "code",
   "execution_count": 78,
   "metadata": {},
   "outputs": [
    {
     "name": "stderr",
     "output_type": "stream",
     "text": [
      "/tmp/ipykernel_10041/2095326785.py:1: SettingWithCopyWarning: \n",
      "A value is trying to be set on a copy of a slice from a DataFrame.\n",
      "Try using .loc[row_indexer,col_indexer] = value instead\n",
      "\n",
      "See the caveats in the documentation: https://pandas.pydata.org/pandas-docs/stable/user_guide/indexing.html#returning-a-view-versus-a-copy\n",
      "  split_df['content_split'] = split_df['content'].str.split('.')\n"
     ]
    }
   ],
   "source": [
    "# .를 기준으로 쪼개기\n",
    "split_df['content_split'] = split_df['content'].str.split('.')"
   ]
  },
  {
   "cell_type": "code",
   "execution_count": 79,
   "metadata": {},
   "outputs": [
    {
     "data": {
      "text/plain": [
       "['거의 같은 문장 반복해서 등장서울대 연구진실성조사위원회 열어사진 한경DB서울대 인공지능 연구팀의 표절 사실이 드러난 가운데 같은 연구팀 논문에 또다른 표절 의혹이 제기됐다',\n",
       " ' 이번 논문은 이종호 과학기술정보통신부 장관 아들인 이모씨가 1저자로 낸 논문이다',\n",
       " ' 44단어 두 문장 다른 논문에서 짜깁기1일 한국경제신문 취재를 종합하면 추가적으로 표절이 제기된 논문은 지난해 6월 발표된 Energy efficient Knowledge Distillation for Spiking Neural Networks 다',\n",
       " ' 앞서 지난달 24일 표절 의혹이 제기된 논문과 마찬가지로 윤성로 서울대 전기정보공학부 교수 연구실에서 나온 논문이다',\n",
       " ' 이 장관의 아들인 서울대 박사과정생 이모씨가 1저자고 윤 교수가 교신저자로 이름을 올렸다',\n",
       " ' 나머지 공저자 3명 중 2명은 먼저 표절 의혹이 제기됐던 논문에도 참여했던 대학원생들이다',\n",
       " ' 이 또 다른 논문에 표절 의혹이 제기된 건 지난달 27일 서울대 온라인 커뮤니티에서다',\n",
       " ' 표절 대상이라고 지목된 논문은 두 개다',\n",
       " ' 하나는 홍콩계 AI 기업인 센스타임 소속 연구자 등이 2019년 발표한 Knowledge Distillation via Route Constrained Optimization 이라는 논문이다',\n",
       " ' 이씨의 논문 3쪽 2',\n",
       " '2절 첫 번째 문장은 센스타임 논문에서 26개 단어로 이뤄진 한 문장과 거의 같다',\n",
       " ' 원문의 is 를 has been 으로 바꾼 것 말고는 완벽히 똑같은 문장이다',\n",
       " ' 센스타임 논문에 대한 인용 표시도 없다',\n",
       " '이 부분은 관련 선행 연구를 설명하는 대목으로 코넬대 연구진이 2006년 발표한 논문을 인용 표시했다',\n",
       " ' 이씨의 논문은 센스타임 연구진이 코넬대 연구진의 논문을 자신들의 언어로 새로이 요약 인용한 대목을 그대로 베껴온 것으로 보인다',\n",
       " '이씨의 논문과 센스타임의 논문이 동일하게 코넬대 연구진의 논문을 인용했다고 하더라도 문장이 똑같다면 표절로 판정될 수 있다',\n",
       " ' 연구윤리를 따르면다면 이씨는 센스타임의 문장을 그대로 가져오는 것이 아니라 코넬대 연구진의 논문을 자신의 말로 새로이 요약해야 한다',\n",
       " ' 같은 문단 또다른 문장도 센스타임 논문의 18단어 한 문장과 유사하다',\n",
       " ' 괄호 속의 표현을 삭제하고 추가된 한 단어 can 을 제외하고는 12단어가 동일하다',\n",
       " '서울대 박사과정생 이모씨가 1저자인 논문',\n",
       " ' 빨간색으로 표시된 부분은 홍콩계 AI기업 센스타임 연구자 등이 발표한 논문의 문장을 대부분 베껴왔다',\n",
       " '홍콩계 AI기업 센스타임 연구자 등이 발표한 논문',\n",
       " ' 빨간색 표시된 문장이 서울대 연구팀 논문과 일치하는 부분',\n",
       " '두번째 표절 의혹 대상 논문은 중국 장쑤대 연구자 등이 지난해 3월 컴퓨터 비전 국제 저널 을 통해 발표한 Knowledge Distillation A Survey 라는 논문이다',\n",
       " ' 이씨의 논문 3쪽에 44개 단어로 구성된 두 문장은 장쑤대 논문의 두 문장을 가져와 짜깁기한것으로 추정된다',\n",
       " ' 장쑤대 원문의 targets 라는 단어를 labels 로 바꾼 것이나 전치사 관사 몇 개를 교체한 것 말고는 문장의 구조와 단어 선택이 똑같다',\n",
       " ' 서울대 박사과정생 이모씨가 1저자인 논문',\n",
       " ' 빨간색으로 표시된 부분은 중국 장쑤대 연구자 등이 발표한 논문의 문장을 대부분 베껴왔다',\n",
       " '중국 장쑤대 연구자 등이 발표한 논문',\n",
       " ' 빨간색 표시된 문장이 서울대 연구팀의 문장과 거의 일치한다',\n",
       " '한국경제신문은 윤 교수에게 추가적인 표절 의혹에 대한 입장을 듣기 위해 연락을 시도했지만 답변을 들을 수 없었다',\n",
       " ' 서울대 표절 조사 진행 중윤 교수 연구팀에게는 지난달 24일 첫번째 표절 의혹이 제기된 바 있다',\n",
       " ' 국제 컴퓨터 비전 및 패턴 인식 학술대회 에서 발표한 E2V SDE From Asynchronous Events to Fast and Continuous Video Reconstruction via Neural Stochastic Differential Equations 라는 논문에 대해서다',\n",
       " ' 표절 논란이 불거지기 전만 해도 해당 학술대회에서 구두 발표 논문으로 뽑힐 정도로 주목받던 논문이다',\n",
       " ' 하지만 발표 이튿날 이 논문의 표절 사실을 고발하는 유튜브 영상이 게재되며 파문이 일었다',\n",
       " ' 2018년 캐나다 토론토대 연구물 등 10편이 넘는 논문에서 문장을 그대로 베껴온 것이다',\n",
       " ' 이에 서울대는 지난달 27일 총장직권으로 연구진실성조사위원회를 열었다',\n",
       " ' 논문의 제1저자인 서울대 전기정보공학부 박사과정생 김모씨를 비롯해 교신저자 윤성로 교수 다른 서울대 소속 공저자들에 대해 조사하고 있다',\n",
       " ' 서울대 관계자는 당시 제기된 연구부정 의혹에 국한하지 않고 조사를 진행하겠다고 밝혔다',\n",
       " '결과 보고서는 조사위를 구성한 지난달 27일로부터 60일 이내에 제출될 예정이다',\n",
       " '']"
      ]
     },
     "execution_count": 79,
     "metadata": {},
     "output_type": "execute_result"
    }
   ],
   "source": [
    "# 쪼개진 결과 보기\n",
    "split_df['content_split'][0]"
   ]
  },
  {
   "cell_type": "code",
   "execution_count": null,
   "metadata": {},
   "outputs": [],
   "source": [
    "# 각 행의 list를 칼럼으로 쪼개기\n",
    "cont_sp = split_df['content_split'].apply(lambda x: pd.Series(x))\n",
    "cont_sp.head(3)"
   ]
  },
  {
   "cell_type": "code",
   "execution_count": 28,
   "metadata": {},
   "outputs": [
    {
     "data": {
      "text/plain": [
       "0      0     거의 같은 문장 반복해서 등장서울대 연구진실성조사위원회 열어사진 한경DB서울대 인공...\n",
       "       1          이번 논문은 이종호 과학기술정보통신부 장관 아들인 이모씨가 1저자로 낸 논문이다\n",
       "       2      44단어 두 문장 다른 논문에서 짜깁기1일 한국경제신문 취재를 종합하면 추가적으로...\n",
       "       3      앞서 지난달 24일 표절 의혹이 제기된 논문과 마찬가지로 윤성로 서울대 전기정보공...\n",
       "       4      이 장관의 아들인 서울대 박사과정생 이모씨가 1저자고 윤 교수가 교신저자로 이름을...\n",
       "                                   ...                        \n",
       "40192  9                         로봇을 소재로 한 다양한 교육 체험프로그램도 마련한다\n",
       "       10    로봇특화 교육 및 진로체험으로 구성된 로봇체험교실 에서는 로봇랜드 대표 놀이시설인 ...\n",
       "       11    로봇체험관을 활용한 해설이 있는 에듀투어 에서는 유 초 중 고 학생을 대상으로 로봇...\n",
       "       12    류명현 경남도 산업통상국장은 매년 리얼로봇을 추가 도입하고 다양한 로봇 콘텐츠를 보...\n",
       "       13                                                     \n",
       "Length: 870601, dtype: object"
      ]
     },
     "execution_count": 28,
     "metadata": {},
     "output_type": "execute_result"
    }
   ],
   "source": [
    "# 칼럼을 밑으로 나열하기\n",
    "cont_sp.stack()"
   ]
  },
  {
   "cell_type": "code",
   "execution_count": 29,
   "metadata": {},
   "outputs": [
    {
     "data": {
      "text/plain": [
       "0        거의 같은 문장 반복해서 등장서울대 연구진실성조사위원회 열어사진 한경DB서울대 인공...\n",
       "0             이번 논문은 이종호 과학기술정보통신부 장관 아들인 이모씨가 1저자로 낸 논문이다\n",
       "0         44단어 두 문장 다른 논문에서 짜깁기1일 한국경제신문 취재를 종합하면 추가적으로...\n",
       "0         앞서 지난달 24일 표절 의혹이 제기된 논문과 마찬가지로 윤성로 서울대 전기정보공...\n",
       "0         이 장관의 아들인 서울대 박사과정생 이모씨가 1저자고 윤 교수가 교신저자로 이름을...\n",
       "                               ...                        \n",
       "40192                        로봇을 소재로 한 다양한 교육 체험프로그램도 마련한다\n",
       "40192    로봇특화 교육 및 진로체험으로 구성된 로봇체험교실 에서는 로봇랜드 대표 놀이시설인 ...\n",
       "40192    로봇체험관을 활용한 해설이 있는 에듀투어 에서는 유 초 중 고 학생을 대상으로 로봇...\n",
       "40192    류명현 경남도 산업통상국장은 매년 리얼로봇을 추가 도입하고 다양한 로봇 콘텐츠를 보...\n",
       "40192                                                     \n",
       "Length: 870601, dtype: object"
      ]
     },
     "execution_count": 29,
     "metadata": {},
     "output_type": "execute_result"
    }
   ],
   "source": [
    "# 인덱스 제거\n",
    "cont_sp.stack().reset_index(level=1, drop=True)"
   ]
  },
  {
   "cell_type": "code",
   "execution_count": 30,
   "metadata": {},
   "outputs": [
    {
     "data": {
      "text/html": [
       "<div>\n",
       "<style scoped>\n",
       "    .dataframe tbody tr th:only-of-type {\n",
       "        vertical-align: middle;\n",
       "    }\n",
       "\n",
       "    .dataframe tbody tr th {\n",
       "        vertical-align: top;\n",
       "    }\n",
       "\n",
       "    .dataframe thead th {\n",
       "        text-align: right;\n",
       "    }\n",
       "</style>\n",
       "<table border=\"1\" class=\"dataframe\">\n",
       "  <thead>\n",
       "    <tr style=\"text-align: right;\">\n",
       "      <th></th>\n",
       "      <th>sentence</th>\n",
       "    </tr>\n",
       "  </thead>\n",
       "  <tbody>\n",
       "    <tr>\n",
       "      <th>0</th>\n",
       "      <td>거의 같은 문장 반복해서 등장서울대 연구진실성조사위원회 열어사진 한경DB서울대 인공...</td>\n",
       "    </tr>\n",
       "    <tr>\n",
       "      <th>0</th>\n",
       "      <td>이번 논문은 이종호 과학기술정보통신부 장관 아들인 이모씨가 1저자로 낸 논문이다</td>\n",
       "    </tr>\n",
       "    <tr>\n",
       "      <th>0</th>\n",
       "      <td>44단어 두 문장 다른 논문에서 짜깁기1일 한국경제신문 취재를 종합하면 추가적으로...</td>\n",
       "    </tr>\n",
       "    <tr>\n",
       "      <th>0</th>\n",
       "      <td>앞서 지난달 24일 표절 의혹이 제기된 논문과 마찬가지로 윤성로 서울대 전기정보공...</td>\n",
       "    </tr>\n",
       "    <tr>\n",
       "      <th>0</th>\n",
       "      <td>이 장관의 아들인 서울대 박사과정생 이모씨가 1저자고 윤 교수가 교신저자로 이름을...</td>\n",
       "    </tr>\n",
       "    <tr>\n",
       "      <th>...</th>\n",
       "      <td>...</td>\n",
       "    </tr>\n",
       "    <tr>\n",
       "      <th>40192</th>\n",
       "      <td>로봇을 소재로 한 다양한 교육 체험프로그램도 마련한다</td>\n",
       "    </tr>\n",
       "    <tr>\n",
       "      <th>40192</th>\n",
       "      <td>로봇특화 교육 및 진로체험으로 구성된 로봇체험교실 에서는 로봇랜드 대표 놀이시설인 ...</td>\n",
       "    </tr>\n",
       "    <tr>\n",
       "      <th>40192</th>\n",
       "      <td>로봇체험관을 활용한 해설이 있는 에듀투어 에서는 유 초 중 고 학생을 대상으로 로봇...</td>\n",
       "    </tr>\n",
       "    <tr>\n",
       "      <th>40192</th>\n",
       "      <td>류명현 경남도 산업통상국장은 매년 리얼로봇을 추가 도입하고 다양한 로봇 콘텐츠를 보...</td>\n",
       "    </tr>\n",
       "    <tr>\n",
       "      <th>40192</th>\n",
       "      <td></td>\n",
       "    </tr>\n",
       "  </tbody>\n",
       "</table>\n",
       "<p>870601 rows × 1 columns</p>\n",
       "</div>"
      ],
      "text/plain": [
       "                                                sentence\n",
       "0      거의 같은 문장 반복해서 등장서울대 연구진실성조사위원회 열어사진 한경DB서울대 인공...\n",
       "0           이번 논문은 이종호 과학기술정보통신부 장관 아들인 이모씨가 1저자로 낸 논문이다\n",
       "0       44단어 두 문장 다른 논문에서 짜깁기1일 한국경제신문 취재를 종합하면 추가적으로...\n",
       "0       앞서 지난달 24일 표절 의혹이 제기된 논문과 마찬가지로 윤성로 서울대 전기정보공...\n",
       "0       이 장관의 아들인 서울대 박사과정생 이모씨가 1저자고 윤 교수가 교신저자로 이름을...\n",
       "...                                                  ...\n",
       "40192                      로봇을 소재로 한 다양한 교육 체험프로그램도 마련한다\n",
       "40192  로봇특화 교육 및 진로체험으로 구성된 로봇체험교실 에서는 로봇랜드 대표 놀이시설인 ...\n",
       "40192  로봇체험관을 활용한 해설이 있는 에듀투어 에서는 유 초 중 고 학생을 대상으로 로봇...\n",
       "40192  류명현 경남도 산업통상국장은 매년 리얼로봇을 추가 도입하고 다양한 로봇 콘텐츠를 보...\n",
       "40192                                                   \n",
       "\n",
       "[870601 rows x 1 columns]"
      ]
     },
     "execution_count": 30,
     "metadata": {},
     "output_type": "execute_result"
    }
   ],
   "source": [
    "# 데이터프레임 형태로 변환\n",
    "cont_sp = cont_sp.stack().reset_index(level=1, drop=True).to_frame('sentence')\n",
    "cont_sp"
   ]
  },
  {
   "cell_type": "code",
   "execution_count": 31,
   "metadata": {},
   "outputs": [],
   "source": [
    "# 기존의 데이터와 병합\n",
    "data = data.merge(cont_sp, left_index=True, right_index=True, how='left')"
   ]
  },
  {
   "cell_type": "code",
   "execution_count": 32,
   "metadata": {},
   "outputs": [
    {
     "data": {
      "text/html": [
       "<div>\n",
       "<style scoped>\n",
       "    .dataframe tbody tr th:only-of-type {\n",
       "        vertical-align: middle;\n",
       "    }\n",
       "\n",
       "    .dataframe tbody tr th {\n",
       "        vertical-align: top;\n",
       "    }\n",
       "\n",
       "    .dataframe thead th {\n",
       "        text-align: right;\n",
       "    }\n",
       "</style>\n",
       "<table border=\"1\" class=\"dataframe\">\n",
       "  <thead>\n",
       "    <tr style=\"text-align: right;\">\n",
       "      <th></th>\n",
       "      <th>title</th>\n",
       "      <th>date</th>\n",
       "      <th>content</th>\n",
       "      <th>url</th>\n",
       "      <th>timeline</th>\n",
       "      <th>year</th>\n",
       "      <th>month</th>\n",
       "      <th>sentence</th>\n",
       "    </tr>\n",
       "  </thead>\n",
       "  <tbody>\n",
       "    <tr>\n",
       "      <th>0</th>\n",
       "      <td>서울대 연구팀 또 표절 의혹 이종호 장관 아들 1저자 논문</td>\n",
       "      <td>2022-07-01 10:47:01</td>\n",
       "      <td>거의 같은 문장 반복해서 등장서울대 연구진실성조사위원회 열어사진 한경DB서울대 인공...</td>\n",
       "      <td>https://n.news.naver.com/mnews/article/015/000...</td>\n",
       "      <td>before</td>\n",
       "      <td>2022</td>\n",
       "      <td>7</td>\n",
       "      <td>거의 같은 문장 반복해서 등장서울대 연구진실성조사위원회 열어사진 한경DB서울대 인공...</td>\n",
       "    </tr>\n",
       "    <tr>\n",
       "      <th>0</th>\n",
       "      <td>서울대 연구팀 또 표절 의혹 이종호 장관 아들 1저자 논문</td>\n",
       "      <td>2022-07-01 10:47:01</td>\n",
       "      <td>거의 같은 문장 반복해서 등장서울대 연구진실성조사위원회 열어사진 한경DB서울대 인공...</td>\n",
       "      <td>https://n.news.naver.com/mnews/article/015/000...</td>\n",
       "      <td>before</td>\n",
       "      <td>2022</td>\n",
       "      <td>7</td>\n",
       "      <td>이번 논문은 이종호 과학기술정보통신부 장관 아들인 이모씨가 1저자로 낸 논문이다</td>\n",
       "    </tr>\n",
       "    <tr>\n",
       "      <th>0</th>\n",
       "      <td>서울대 연구팀 또 표절 의혹 이종호 장관 아들 1저자 논문</td>\n",
       "      <td>2022-07-01 10:47:01</td>\n",
       "      <td>거의 같은 문장 반복해서 등장서울대 연구진실성조사위원회 열어사진 한경DB서울대 인공...</td>\n",
       "      <td>https://n.news.naver.com/mnews/article/015/000...</td>\n",
       "      <td>before</td>\n",
       "      <td>2022</td>\n",
       "      <td>7</td>\n",
       "      <td>44단어 두 문장 다른 논문에서 짜깁기1일 한국경제신문 취재를 종합하면 추가적으로...</td>\n",
       "    </tr>\n",
       "    <tr>\n",
       "      <th>0</th>\n",
       "      <td>서울대 연구팀 또 표절 의혹 이종호 장관 아들 1저자 논문</td>\n",
       "      <td>2022-07-01 10:47:01</td>\n",
       "      <td>거의 같은 문장 반복해서 등장서울대 연구진실성조사위원회 열어사진 한경DB서울대 인공...</td>\n",
       "      <td>https://n.news.naver.com/mnews/article/015/000...</td>\n",
       "      <td>before</td>\n",
       "      <td>2022</td>\n",
       "      <td>7</td>\n",
       "      <td>앞서 지난달 24일 표절 의혹이 제기된 논문과 마찬가지로 윤성로 서울대 전기정보공...</td>\n",
       "    </tr>\n",
       "    <tr>\n",
       "      <th>0</th>\n",
       "      <td>서울대 연구팀 또 표절 의혹 이종호 장관 아들 1저자 논문</td>\n",
       "      <td>2022-07-01 10:47:01</td>\n",
       "      <td>거의 같은 문장 반복해서 등장서울대 연구진실성조사위원회 열어사진 한경DB서울대 인공...</td>\n",
       "      <td>https://n.news.naver.com/mnews/article/015/000...</td>\n",
       "      <td>before</td>\n",
       "      <td>2022</td>\n",
       "      <td>7</td>\n",
       "      <td>이 장관의 아들인 서울대 박사과정생 이모씨가 1저자고 윤 교수가 교신저자로 이름을...</td>\n",
       "    </tr>\n",
       "  </tbody>\n",
       "</table>\n",
       "</div>"
      ],
      "text/plain": [
       "                              title                date  \\\n",
       "0  서울대 연구팀 또 표절 의혹 이종호 장관 아들 1저자 논문 2022-07-01 10:47:01   \n",
       "0  서울대 연구팀 또 표절 의혹 이종호 장관 아들 1저자 논문 2022-07-01 10:47:01   \n",
       "0  서울대 연구팀 또 표절 의혹 이종호 장관 아들 1저자 논문 2022-07-01 10:47:01   \n",
       "0  서울대 연구팀 또 표절 의혹 이종호 장관 아들 1저자 논문 2022-07-01 10:47:01   \n",
       "0  서울대 연구팀 또 표절 의혹 이종호 장관 아들 1저자 논문 2022-07-01 10:47:01   \n",
       "\n",
       "                                             content  \\\n",
       "0  거의 같은 문장 반복해서 등장서울대 연구진실성조사위원회 열어사진 한경DB서울대 인공...   \n",
       "0  거의 같은 문장 반복해서 등장서울대 연구진실성조사위원회 열어사진 한경DB서울대 인공...   \n",
       "0  거의 같은 문장 반복해서 등장서울대 연구진실성조사위원회 열어사진 한경DB서울대 인공...   \n",
       "0  거의 같은 문장 반복해서 등장서울대 연구진실성조사위원회 열어사진 한경DB서울대 인공...   \n",
       "0  거의 같은 문장 반복해서 등장서울대 연구진실성조사위원회 열어사진 한경DB서울대 인공...   \n",
       "\n",
       "                                                 url timeline  year  month  \\\n",
       "0  https://n.news.naver.com/mnews/article/015/000...   before  2022      7   \n",
       "0  https://n.news.naver.com/mnews/article/015/000...   before  2022      7   \n",
       "0  https://n.news.naver.com/mnews/article/015/000...   before  2022      7   \n",
       "0  https://n.news.naver.com/mnews/article/015/000...   before  2022      7   \n",
       "0  https://n.news.naver.com/mnews/article/015/000...   before  2022      7   \n",
       "\n",
       "                                            sentence  \n",
       "0  거의 같은 문장 반복해서 등장서울대 연구진실성조사위원회 열어사진 한경DB서울대 인공...  \n",
       "0       이번 논문은 이종호 과학기술정보통신부 장관 아들인 이모씨가 1저자로 낸 논문이다  \n",
       "0   44단어 두 문장 다른 논문에서 짜깁기1일 한국경제신문 취재를 종합하면 추가적으로...  \n",
       "0   앞서 지난달 24일 표절 의혹이 제기된 논문과 마찬가지로 윤성로 서울대 전기정보공...  \n",
       "0   이 장관의 아들인 서울대 박사과정생 이모씨가 1저자고 윤 교수가 교신저자로 이름을...  "
      ]
     },
     "execution_count": 32,
     "metadata": {},
     "output_type": "execute_result"
    }
   ],
   "source": [
    "data.head()"
   ]
  },
  {
   "cell_type": "code",
   "execution_count": 47,
   "metadata": {},
   "outputs": [],
   "source": [
    "# 인덱스를 기사 번호 칼럼으로 변경\n",
    "data = data.reset_index().rename(columns={\"index\": \"news_idx\"})"
   ]
  },
  {
   "cell_type": "code",
   "execution_count": 48,
   "metadata": {},
   "outputs": [
    {
     "data": {
      "text/html": [
       "<div>\n",
       "<style scoped>\n",
       "    .dataframe tbody tr th:only-of-type {\n",
       "        vertical-align: middle;\n",
       "    }\n",
       "\n",
       "    .dataframe tbody tr th {\n",
       "        vertical-align: top;\n",
       "    }\n",
       "\n",
       "    .dataframe thead th {\n",
       "        text-align: right;\n",
       "    }\n",
       "</style>\n",
       "<table border=\"1\" class=\"dataframe\">\n",
       "  <thead>\n",
       "    <tr style=\"text-align: right;\">\n",
       "      <th></th>\n",
       "      <th>news_idx</th>\n",
       "      <th>title</th>\n",
       "      <th>date</th>\n",
       "      <th>content</th>\n",
       "      <th>url</th>\n",
       "      <th>timeline</th>\n",
       "      <th>year</th>\n",
       "      <th>month</th>\n",
       "      <th>sentence</th>\n",
       "    </tr>\n",
       "  </thead>\n",
       "  <tbody>\n",
       "    <tr>\n",
       "      <th>0</th>\n",
       "      <td>0</td>\n",
       "      <td>서울대 연구팀 또 표절 의혹 이종호 장관 아들 1저자 논문</td>\n",
       "      <td>2022-07-01 10:47:01</td>\n",
       "      <td>거의 같은 문장 반복해서 등장서울대 연구진실성조사위원회 열어사진 한경DB서울대 인공...</td>\n",
       "      <td>https://n.news.naver.com/mnews/article/015/000...</td>\n",
       "      <td>before</td>\n",
       "      <td>2022</td>\n",
       "      <td>7</td>\n",
       "      <td>거의 같은 문장 반복해서 등장서울대 연구진실성조사위원회 열어사진 한경DB서울대 인공...</td>\n",
       "    </tr>\n",
       "    <tr>\n",
       "      <th>1</th>\n",
       "      <td>0</td>\n",
       "      <td>서울대 연구팀 또 표절 의혹 이종호 장관 아들 1저자 논문</td>\n",
       "      <td>2022-07-01 10:47:01</td>\n",
       "      <td>거의 같은 문장 반복해서 등장서울대 연구진실성조사위원회 열어사진 한경DB서울대 인공...</td>\n",
       "      <td>https://n.news.naver.com/mnews/article/015/000...</td>\n",
       "      <td>before</td>\n",
       "      <td>2022</td>\n",
       "      <td>7</td>\n",
       "      <td>이번 논문은 이종호 과학기술정보통신부 장관 아들인 이모씨가 1저자로 낸 논문이다</td>\n",
       "    </tr>\n",
       "    <tr>\n",
       "      <th>2</th>\n",
       "      <td>0</td>\n",
       "      <td>서울대 연구팀 또 표절 의혹 이종호 장관 아들 1저자 논문</td>\n",
       "      <td>2022-07-01 10:47:01</td>\n",
       "      <td>거의 같은 문장 반복해서 등장서울대 연구진실성조사위원회 열어사진 한경DB서울대 인공...</td>\n",
       "      <td>https://n.news.naver.com/mnews/article/015/000...</td>\n",
       "      <td>before</td>\n",
       "      <td>2022</td>\n",
       "      <td>7</td>\n",
       "      <td>44단어 두 문장 다른 논문에서 짜깁기1일 한국경제신문 취재를 종합하면 추가적으로...</td>\n",
       "    </tr>\n",
       "    <tr>\n",
       "      <th>3</th>\n",
       "      <td>0</td>\n",
       "      <td>서울대 연구팀 또 표절 의혹 이종호 장관 아들 1저자 논문</td>\n",
       "      <td>2022-07-01 10:47:01</td>\n",
       "      <td>거의 같은 문장 반복해서 등장서울대 연구진실성조사위원회 열어사진 한경DB서울대 인공...</td>\n",
       "      <td>https://n.news.naver.com/mnews/article/015/000...</td>\n",
       "      <td>before</td>\n",
       "      <td>2022</td>\n",
       "      <td>7</td>\n",
       "      <td>앞서 지난달 24일 표절 의혹이 제기된 논문과 마찬가지로 윤성로 서울대 전기정보공...</td>\n",
       "    </tr>\n",
       "    <tr>\n",
       "      <th>4</th>\n",
       "      <td>0</td>\n",
       "      <td>서울대 연구팀 또 표절 의혹 이종호 장관 아들 1저자 논문</td>\n",
       "      <td>2022-07-01 10:47:01</td>\n",
       "      <td>거의 같은 문장 반복해서 등장서울대 연구진실성조사위원회 열어사진 한경DB서울대 인공...</td>\n",
       "      <td>https://n.news.naver.com/mnews/article/015/000...</td>\n",
       "      <td>before</td>\n",
       "      <td>2022</td>\n",
       "      <td>7</td>\n",
       "      <td>이 장관의 아들인 서울대 박사과정생 이모씨가 1저자고 윤 교수가 교신저자로 이름을...</td>\n",
       "    </tr>\n",
       "  </tbody>\n",
       "</table>\n",
       "</div>"
      ],
      "text/plain": [
       "   news_idx                             title                date  \\\n",
       "0         0  서울대 연구팀 또 표절 의혹 이종호 장관 아들 1저자 논문 2022-07-01 10:47:01   \n",
       "1         0  서울대 연구팀 또 표절 의혹 이종호 장관 아들 1저자 논문 2022-07-01 10:47:01   \n",
       "2         0  서울대 연구팀 또 표절 의혹 이종호 장관 아들 1저자 논문 2022-07-01 10:47:01   \n",
       "3         0  서울대 연구팀 또 표절 의혹 이종호 장관 아들 1저자 논문 2022-07-01 10:47:01   \n",
       "4         0  서울대 연구팀 또 표절 의혹 이종호 장관 아들 1저자 논문 2022-07-01 10:47:01   \n",
       "\n",
       "                                             content  \\\n",
       "0  거의 같은 문장 반복해서 등장서울대 연구진실성조사위원회 열어사진 한경DB서울대 인공...   \n",
       "1  거의 같은 문장 반복해서 등장서울대 연구진실성조사위원회 열어사진 한경DB서울대 인공...   \n",
       "2  거의 같은 문장 반복해서 등장서울대 연구진실성조사위원회 열어사진 한경DB서울대 인공...   \n",
       "3  거의 같은 문장 반복해서 등장서울대 연구진실성조사위원회 열어사진 한경DB서울대 인공...   \n",
       "4  거의 같은 문장 반복해서 등장서울대 연구진실성조사위원회 열어사진 한경DB서울대 인공...   \n",
       "\n",
       "                                                 url timeline  year  month  \\\n",
       "0  https://n.news.naver.com/mnews/article/015/000...   before  2022      7   \n",
       "1  https://n.news.naver.com/mnews/article/015/000...   before  2022      7   \n",
       "2  https://n.news.naver.com/mnews/article/015/000...   before  2022      7   \n",
       "3  https://n.news.naver.com/mnews/article/015/000...   before  2022      7   \n",
       "4  https://n.news.naver.com/mnews/article/015/000...   before  2022      7   \n",
       "\n",
       "                                            sentence  \n",
       "0  거의 같은 문장 반복해서 등장서울대 연구진실성조사위원회 열어사진 한경DB서울대 인공...  \n",
       "1       이번 논문은 이종호 과학기술정보통신부 장관 아들인 이모씨가 1저자로 낸 논문이다  \n",
       "2   44단어 두 문장 다른 논문에서 짜깁기1일 한국경제신문 취재를 종합하면 추가적으로...  \n",
       "3   앞서 지난달 24일 표절 의혹이 제기된 논문과 마찬가지로 윤성로 서울대 전기정보공...  \n",
       "4   이 장관의 아들인 서울대 박사과정생 이모씨가 1저자고 윤 교수가 교신저자로 이름을...  "
      ]
     },
     "execution_count": 48,
     "metadata": {},
     "output_type": "execute_result"
    }
   ],
   "source": [
    "data.head()"
   ]
  },
  {
   "cell_type": "code",
   "execution_count": 39,
   "metadata": {},
   "outputs": [
    {
     "data": {
      "text/plain": [
       "870601"
      ]
     },
     "execution_count": 39,
     "metadata": {},
     "output_type": "execute_result"
    }
   ],
   "source": [
    "len(data)"
   ]
  },
  {
   "cell_type": "code",
   "execution_count": 38,
   "metadata": {},
   "outputs": [
    {
     "data": {
      "text/plain": [
       "37140"
      ]
     },
     "execution_count": 38,
     "metadata": {},
     "output_type": "execute_result"
    }
   ],
   "source": [
    "# 내용이 없는 경우 제거\n",
    "len(data[data['sentence']==''])"
   ]
  },
  {
   "cell_type": "code",
   "execution_count": 40,
   "metadata": {},
   "outputs": [],
   "source": [
    "# None 없는 행 제외하고 데이터 다시 구성\n",
    "data = data[data['sentence']!='']"
   ]
  },
  {
   "cell_type": "code",
   "execution_count": 41,
   "metadata": {},
   "outputs": [
    {
     "data": {
      "text/plain": [
       "833461"
      ]
     },
     "execution_count": 41,
     "metadata": {},
     "output_type": "execute_result"
    }
   ],
   "source": [
    "len(data)"
   ]
  },
  {
   "cell_type": "code",
   "execution_count": 42,
   "metadata": {},
   "outputs": [],
   "source": [
    "# split 후 문자열 앞에 공백 있는 경우 다시 처리\n",
    "def space_clean(sentence):\n",
    "\n",
    "    n_sentence = re.sub(r\"^\\s+\", '', sentence) # space from start 제거\n",
    "    n_sentence = re.sub(r'\\s+$', '', n_sentence) # space from the end 제거\n",
    "    n_sentence = re.sub(r'\\s{2,}', ' ', sentence) # 다중 공백 -> 하나의 공백으로\n",
    "    \n",
    "    return n_sentence"
   ]
  },
  {
   "cell_type": "code",
   "execution_count": 44,
   "metadata": {},
   "outputs": [],
   "source": [
    "data['sentence'] = data['sentence'].apply(lambda x: space_clean(x))"
   ]
  },
  {
   "attachments": {},
   "cell_type": "markdown",
   "metadata": {},
   "source": [
    "### 4.1 중간데이터 저장"
   ]
  },
  {
   "cell_type": "code",
   "execution_count": 50,
   "metadata": {},
   "outputs": [],
   "source": [
    "# (필요 칼럼만) 중간데이터 저장\n",
    "sent_o = data[['news_idx', 'timeline', 'year', 'month', 'sentence']]\n",
    "sent_o.to_csv('/home/ryu/2023text/final/AInews_sent_only_ver1.csv', index=False, encoding='utf-8')"
   ]
  },
  {
   "attachments": {},
   "cell_type": "markdown",
   "metadata": {},
   "source": [
    "## 참고"
   ]
  },
  {
   "cell_type": "code",
   "execution_count": 33,
   "metadata": {},
   "outputs": [
    {
     "data": {
      "text/html": [
       "<div>\n",
       "<style scoped>\n",
       "    .dataframe tbody tr th:only-of-type {\n",
       "        vertical-align: middle;\n",
       "    }\n",
       "\n",
       "    .dataframe tbody tr th {\n",
       "        vertical-align: top;\n",
       "    }\n",
       "\n",
       "    .dataframe thead th {\n",
       "        text-align: right;\n",
       "    }\n",
       "</style>\n",
       "<table border=\"1\" class=\"dataframe\">\n",
       "  <thead>\n",
       "    <tr style=\"text-align: right;\">\n",
       "      <th></th>\n",
       "      <th>foo</th>\n",
       "    </tr>\n",
       "  </thead>\n",
       "  <tbody>\n",
       "    <tr>\n",
       "      <th>0</th>\n",
       "      <td>a,b,c,d,e</td>\n",
       "    </tr>\n",
       "    <tr>\n",
       "      <th>1</th>\n",
       "      <td>d,e,f</td>\n",
       "    </tr>\n",
       "    <tr>\n",
       "      <th>2</th>\n",
       "      <td>h,i</td>\n",
       "    </tr>\n",
       "  </tbody>\n",
       "</table>\n",
       "</div>"
      ],
      "text/plain": [
       "         foo\n",
       "0  a,b,c,d,e\n",
       "1      d,e,f\n",
       "2        h,i"
      ]
     },
     "execution_count": 33,
     "metadata": {},
     "output_type": "execute_result"
    }
   ],
   "source": [
    "test_df = pd.DataFrame({'foo': ['a,b,c,d,e', 'd,e,f', 'h,i']})\n",
    "test_df\n"
   ]
  },
  {
   "cell_type": "code",
   "execution_count": 35,
   "metadata": {},
   "outputs": [
    {
     "data": {
      "text/plain": [
       "0    [a, b, c, d, e]\n",
       "1          [d, e, f]\n",
       "2             [h, i]\n",
       "Name: foo, dtype: object"
      ]
     },
     "execution_count": 35,
     "metadata": {},
     "output_type": "execute_result"
    }
   ],
   "source": [
    "split = test_df.foo.str.split(',')\n",
    "split"
   ]
  },
  {
   "cell_type": "code",
   "execution_count": 36,
   "metadata": {},
   "outputs": [
    {
     "data": {
      "text/html": [
       "<div>\n",
       "<style scoped>\n",
       "    .dataframe tbody tr th:only-of-type {\n",
       "        vertical-align: middle;\n",
       "    }\n",
       "\n",
       "    .dataframe tbody tr th {\n",
       "        vertical-align: top;\n",
       "    }\n",
       "\n",
       "    .dataframe thead th {\n",
       "        text-align: right;\n",
       "    }\n",
       "</style>\n",
       "<table border=\"1\" class=\"dataframe\">\n",
       "  <thead>\n",
       "    <tr style=\"text-align: right;\">\n",
       "      <th></th>\n",
       "      <th>0</th>\n",
       "      <th>1</th>\n",
       "      <th>2</th>\n",
       "      <th>3</th>\n",
       "      <th>4</th>\n",
       "    </tr>\n",
       "  </thead>\n",
       "  <tbody>\n",
       "    <tr>\n",
       "      <th>0</th>\n",
       "      <td>a</td>\n",
       "      <td>b</td>\n",
       "      <td>c</td>\n",
       "      <td>d</td>\n",
       "      <td>e</td>\n",
       "    </tr>\n",
       "    <tr>\n",
       "      <th>1</th>\n",
       "      <td>d</td>\n",
       "      <td>e</td>\n",
       "      <td>f</td>\n",
       "      <td>NaN</td>\n",
       "      <td>NaN</td>\n",
       "    </tr>\n",
       "    <tr>\n",
       "      <th>2</th>\n",
       "      <td>h</td>\n",
       "      <td>i</td>\n",
       "      <td>NaN</td>\n",
       "      <td>NaN</td>\n",
       "      <td>NaN</td>\n",
       "    </tr>\n",
       "  </tbody>\n",
       "</table>\n",
       "</div>"
      ],
      "text/plain": [
       "   0  1    2    3    4\n",
       "0  a  b    c    d    e\n",
       "1  d  e    f  NaN  NaN\n",
       "2  h  i  NaN  NaN  NaN"
      ]
     },
     "execution_count": 36,
     "metadata": {},
     "output_type": "execute_result"
    }
   ],
   "source": [
    "split = split.apply(lambda x: pd.Series(x))\n",
    "split"
   ]
  },
  {
   "cell_type": "code",
   "execution_count": 37,
   "metadata": {},
   "outputs": [
    {
     "data": {
      "text/plain": [
       "0  0    a\n",
       "   1    b\n",
       "   2    c\n",
       "   3    d\n",
       "   4    e\n",
       "1  0    d\n",
       "   1    e\n",
       "   2    f\n",
       "2  0    h\n",
       "   1    i\n",
       "dtype: object"
      ]
     },
     "execution_count": 37,
     "metadata": {},
     "output_type": "execute_result"
    }
   ],
   "source": [
    "split.stack()"
   ]
  },
  {
   "cell_type": "code",
   "execution_count": 38,
   "metadata": {},
   "outputs": [
    {
     "data": {
      "text/plain": [
       "0    a\n",
       "0    b\n",
       "0    c\n",
       "0    d\n",
       "0    e\n",
       "1    d\n",
       "1    e\n",
       "1    f\n",
       "2    h\n",
       "2    i\n",
       "dtype: object"
      ]
     },
     "execution_count": 38,
     "metadata": {},
     "output_type": "execute_result"
    }
   ],
   "source": [
    "split.stack().reset_index(level=1, drop=True)"
   ]
  },
  {
   "cell_type": "code",
   "execution_count": 39,
   "metadata": {},
   "outputs": [
    {
     "data": {
      "text/html": [
       "<div>\n",
       "<style scoped>\n",
       "    .dataframe tbody tr th:only-of-type {\n",
       "        vertical-align: middle;\n",
       "    }\n",
       "\n",
       "    .dataframe tbody tr th {\n",
       "        vertical-align: top;\n",
       "    }\n",
       "\n",
       "    .dataframe thead th {\n",
       "        text-align: right;\n",
       "    }\n",
       "</style>\n",
       "<table border=\"1\" class=\"dataframe\">\n",
       "  <thead>\n",
       "    <tr style=\"text-align: right;\">\n",
       "      <th></th>\n",
       "      <th>foo_single</th>\n",
       "    </tr>\n",
       "  </thead>\n",
       "  <tbody>\n",
       "    <tr>\n",
       "      <th>0</th>\n",
       "      <td>a</td>\n",
       "    </tr>\n",
       "    <tr>\n",
       "      <th>0</th>\n",
       "      <td>b</td>\n",
       "    </tr>\n",
       "    <tr>\n",
       "      <th>0</th>\n",
       "      <td>c</td>\n",
       "    </tr>\n",
       "    <tr>\n",
       "      <th>0</th>\n",
       "      <td>d</td>\n",
       "    </tr>\n",
       "    <tr>\n",
       "      <th>0</th>\n",
       "      <td>e</td>\n",
       "    </tr>\n",
       "    <tr>\n",
       "      <th>1</th>\n",
       "      <td>d</td>\n",
       "    </tr>\n",
       "    <tr>\n",
       "      <th>1</th>\n",
       "      <td>e</td>\n",
       "    </tr>\n",
       "    <tr>\n",
       "      <th>1</th>\n",
       "      <td>f</td>\n",
       "    </tr>\n",
       "    <tr>\n",
       "      <th>2</th>\n",
       "      <td>h</td>\n",
       "    </tr>\n",
       "    <tr>\n",
       "      <th>2</th>\n",
       "      <td>i</td>\n",
       "    </tr>\n",
       "  </tbody>\n",
       "</table>\n",
       "</div>"
      ],
      "text/plain": [
       "  foo_single\n",
       "0          a\n",
       "0          b\n",
       "0          c\n",
       "0          d\n",
       "0          e\n",
       "1          d\n",
       "1          e\n",
       "1          f\n",
       "2          h\n",
       "2          i"
      ]
     },
     "execution_count": 39,
     "metadata": {},
     "output_type": "execute_result"
    }
   ],
   "source": [
    "split = split.stack().reset_index(level=1, drop=True).to_frame('foo_single')\n",
    "split"
   ]
  },
  {
   "cell_type": "code",
   "execution_count": 41,
   "metadata": {},
   "outputs": [
    {
     "data": {
      "text/html": [
       "<div>\n",
       "<style scoped>\n",
       "    .dataframe tbody tr th:only-of-type {\n",
       "        vertical-align: middle;\n",
       "    }\n",
       "\n",
       "    .dataframe tbody tr th {\n",
       "        vertical-align: top;\n",
       "    }\n",
       "\n",
       "    .dataframe thead th {\n",
       "        text-align: right;\n",
       "    }\n",
       "</style>\n",
       "<table border=\"1\" class=\"dataframe\">\n",
       "  <thead>\n",
       "    <tr style=\"text-align: right;\">\n",
       "      <th></th>\n",
       "      <th>foo</th>\n",
       "      <th>foo_single</th>\n",
       "    </tr>\n",
       "  </thead>\n",
       "  <tbody>\n",
       "    <tr>\n",
       "      <th>0</th>\n",
       "      <td>a,b,c,d,e</td>\n",
       "      <td>a</td>\n",
       "    </tr>\n",
       "    <tr>\n",
       "      <th>0</th>\n",
       "      <td>a,b,c,d,e</td>\n",
       "      <td>b</td>\n",
       "    </tr>\n",
       "    <tr>\n",
       "      <th>0</th>\n",
       "      <td>a,b,c,d,e</td>\n",
       "      <td>c</td>\n",
       "    </tr>\n",
       "    <tr>\n",
       "      <th>0</th>\n",
       "      <td>a,b,c,d,e</td>\n",
       "      <td>d</td>\n",
       "    </tr>\n",
       "    <tr>\n",
       "      <th>0</th>\n",
       "      <td>a,b,c,d,e</td>\n",
       "      <td>e</td>\n",
       "    </tr>\n",
       "    <tr>\n",
       "      <th>1</th>\n",
       "      <td>d,e,f</td>\n",
       "      <td>d</td>\n",
       "    </tr>\n",
       "    <tr>\n",
       "      <th>1</th>\n",
       "      <td>d,e,f</td>\n",
       "      <td>e</td>\n",
       "    </tr>\n",
       "    <tr>\n",
       "      <th>1</th>\n",
       "      <td>d,e,f</td>\n",
       "      <td>f</td>\n",
       "    </tr>\n",
       "    <tr>\n",
       "      <th>2</th>\n",
       "      <td>h,i</td>\n",
       "      <td>h</td>\n",
       "    </tr>\n",
       "    <tr>\n",
       "      <th>2</th>\n",
       "      <td>h,i</td>\n",
       "      <td>i</td>\n",
       "    </tr>\n",
       "  </tbody>\n",
       "</table>\n",
       "</div>"
      ],
      "text/plain": [
       "         foo foo_single\n",
       "0  a,b,c,d,e          a\n",
       "0  a,b,c,d,e          b\n",
       "0  a,b,c,d,e          c\n",
       "0  a,b,c,d,e          d\n",
       "0  a,b,c,d,e          e\n",
       "1      d,e,f          d\n",
       "1      d,e,f          e\n",
       "1      d,e,f          f\n",
       "2        h,i          h\n",
       "2        h,i          i"
      ]
     },
     "execution_count": 41,
     "metadata": {},
     "output_type": "execute_result"
    }
   ],
   "source": [
    "test_df.merge(split, left_index=True, right_index=True, how='left')"
   ]
  },
  {
   "cell_type": "code",
   "execution_count": 8,
   "metadata": {},
   "outputs": [],
   "source": [
    "# # 중간데이터 저장\n",
    "# data.to_csv('/home/ryu/2023text/final/AInews_processed_ver2.csv', index=False, encoding='utf-8')"
   ]
  }
 ],
 "metadata": {
  "kernelspec": {
   "display_name": "ryuvenv",
   "language": "python",
   "name": "python3"
  },
  "language_info": {
   "codemirror_mode": {
    "name": "ipython",
    "version": 3
   },
   "file_extension": ".py",
   "mimetype": "text/x-python",
   "name": "python",
   "nbconvert_exporter": "python",
   "pygments_lexer": "ipython3",
   "version": "3.8.13"
  },
  "orig_nbformat": 4
 },
 "nbformat": 4,
 "nbformat_minor": 2
}
