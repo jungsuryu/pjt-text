{
 "cells": [
  {
   "cell_type": "code",
   "execution_count": 1,
   "metadata": {},
   "outputs": [],
   "source": [
    "import numpy as np\n",
    "import pandas as pd\n",
    "import re\n",
    "import collections\n",
    "import datetime\n",
    "import seaborn as sns\n",
    "import matplotlib.pyplot as plt\n",
    "import matplotlib.font_manager as fm"
   ]
  },
  {
   "attachments": {},
   "cell_type": "markdown",
   "metadata": {},
   "source": [
    "## 데이터 불러오기"
   ]
  },
  {
   "cell_type": "code",
   "execution_count": 3,
   "metadata": {},
   "outputs": [
    {
     "data": {
      "text/html": [
       "<div>\n",
       "<style scoped>\n",
       "    .dataframe tbody tr th:only-of-type {\n",
       "        vertical-align: middle;\n",
       "    }\n",
       "\n",
       "    .dataframe tbody tr th {\n",
       "        vertical-align: top;\n",
       "    }\n",
       "\n",
       "    .dataframe thead th {\n",
       "        text-align: right;\n",
       "    }\n",
       "</style>\n",
       "<table border=\"1\" class=\"dataframe\">\n",
       "  <thead>\n",
       "    <tr style=\"text-align: right;\">\n",
       "      <th></th>\n",
       "      <th>title</th>\n",
       "      <th>date</th>\n",
       "      <th>content</th>\n",
       "      <th>url</th>\n",
       "      <th>timeline</th>\n",
       "      <th>year</th>\n",
       "      <th>month</th>\n",
       "    </tr>\n",
       "  </thead>\n",
       "  <tbody>\n",
       "    <tr>\n",
       "      <th>0</th>\n",
       "      <td>서울대 연구팀 또 표절 의혹 이종호 장관 아들 1저자 논문</td>\n",
       "      <td>2022-07-01 10:47:01</td>\n",
       "      <td>거의 같은 문장 반복해서 등장서울대 연구진실성조사위원회 열어사진 한경DB서울대 인공...</td>\n",
       "      <td>https://n.news.naver.com/mnews/article/015/000...</td>\n",
       "      <td>before</td>\n",
       "      <td>2022</td>\n",
       "      <td>7</td>\n",
       "    </tr>\n",
       "    <tr>\n",
       "      <th>1</th>\n",
       "      <td>중부지방에 5 40 소나기 낮 최고 35도 폭염</td>\n",
       "      <td>2022-07-01 05:39:10</td>\n",
       "      <td>우산행렬 금요일인 1일은 늦은 오후부터 저녁 사이 중부지방을 중심으로 천둥 번개를 ...</td>\n",
       "      <td>https://n.news.naver.com/mnews/article/001/001...</td>\n",
       "      <td>before</td>\n",
       "      <td>2022</td>\n",
       "      <td>7</td>\n",
       "    </tr>\n",
       "    <tr>\n",
       "      <th>2</th>\n",
       "      <td>삼성 세계 첫 3나노 양산 TSMC 잡을까</td>\n",
       "      <td>2022-07-01 06:20:53</td>\n",
       "      <td>삼성전자가 세계 최초로 3나노 기술을 적용한 반도체를 생산하기 시작했습니다.경쟁사인...</td>\n",
       "      <td>https://n.news.naver.com/mnews/article/214/000...</td>\n",
       "      <td>before</td>\n",
       "      <td>2022</td>\n",
       "      <td>7</td>\n",
       "    </tr>\n",
       "    <tr>\n",
       "      <th>3</th>\n",
       "      <td>신한은행 ESG본부 신설 하반기 정기 인사</td>\n",
       "      <td>2022-07-01 15:25:08</td>\n",
       "      <td>AI 인사 업그레이드 금융사고 예방 위해 장기근속 직원 순환근무 신한은행은 1일 자...</td>\n",
       "      <td>https://n.news.naver.com/mnews/article/001/001...</td>\n",
       "      <td>before</td>\n",
       "      <td>2022</td>\n",
       "      <td>7</td>\n",
       "    </tr>\n",
       "    <tr>\n",
       "      <th>4</th>\n",
       "      <td>영남이공대 미래 신산업 수요특화형 AI IoT 교육</td>\n",
       "      <td>2022-07-01 11:14:20</td>\n",
       "      <td>영남이공대학교는 지난달 27일부터 7월1일까지 제주도 호텔골든데이지 서귀포오션에서 ...</td>\n",
       "      <td>https://n.news.naver.com/mnews/article/003/001...</td>\n",
       "      <td>before</td>\n",
       "      <td>2022</td>\n",
       "      <td>7</td>\n",
       "    </tr>\n",
       "  </tbody>\n",
       "</table>\n",
       "</div>"
      ],
      "text/plain": [
       "                              title                 date  \\\n",
       "0  서울대 연구팀 또 표절 의혹 이종호 장관 아들 1저자 논문  2022-07-01 10:47:01   \n",
       "1        중부지방에 5 40 소나기 낮 최고 35도 폭염  2022-07-01 05:39:10   \n",
       "2           삼성 세계 첫 3나노 양산 TSMC 잡을까  2022-07-01 06:20:53   \n",
       "3           신한은행 ESG본부 신설 하반기 정기 인사  2022-07-01 15:25:08   \n",
       "4      영남이공대 미래 신산업 수요특화형 AI IoT 교육  2022-07-01 11:14:20   \n",
       "\n",
       "                                             content  \\\n",
       "0  거의 같은 문장 반복해서 등장서울대 연구진실성조사위원회 열어사진 한경DB서울대 인공...   \n",
       "1  우산행렬 금요일인 1일은 늦은 오후부터 저녁 사이 중부지방을 중심으로 천둥 번개를 ...   \n",
       "2  삼성전자가 세계 최초로 3나노 기술을 적용한 반도체를 생산하기 시작했습니다.경쟁사인...   \n",
       "3  AI 인사 업그레이드 금융사고 예방 위해 장기근속 직원 순환근무 신한은행은 1일 자...   \n",
       "4  영남이공대학교는 지난달 27일부터 7월1일까지 제주도 호텔골든데이지 서귀포오션에서 ...   \n",
       "\n",
       "                                                 url timeline  year  month  \n",
       "0  https://n.news.naver.com/mnews/article/015/000...   before  2022      7  \n",
       "1  https://n.news.naver.com/mnews/article/001/001...   before  2022      7  \n",
       "2  https://n.news.naver.com/mnews/article/214/000...   before  2022      7  \n",
       "3  https://n.news.naver.com/mnews/article/001/001...   before  2022      7  \n",
       "4  https://n.news.naver.com/mnews/article/003/001...   before  2022      7  "
      ]
     },
     "execution_count": 3,
     "metadata": {},
     "output_type": "execute_result"
    }
   ],
   "source": [
    "# 데이터 불러오기\n",
    "data = pd.read_csv('/home/ryu/2023text/final/for_textrank.csv')\n",
    "data.head()"
   ]
  },
  {
   "cell_type": "code",
   "execution_count": null,
   "metadata": {},
   "outputs": [],
   "source": [
    "# Null값 확인\n",
    "data[data['content'].isnull()]"
   ]
  },
  {
   "cell_type": "code",
   "execution_count": 140,
   "metadata": {},
   "outputs": [],
   "source": [
    "data.dropna(subset=['content'], axis=0, inplace=True)"
   ]
  },
  {
   "cell_type": "code",
   "execution_count": 143,
   "metadata": {},
   "outputs": [
    {
     "data": {
      "text/plain": [
       "0"
      ]
     },
     "execution_count": 143,
     "metadata": {},
     "output_type": "execute_result"
    }
   ],
   "source": [
    "data['content'].isnull().sum()"
   ]
  },
  {
   "attachments": {},
   "cell_type": "markdown",
   "metadata": {},
   "source": [
    "## 문장 분리"
   ]
  },
  {
   "cell_type": "code",
   "execution_count": 144,
   "metadata": {},
   "outputs": [],
   "source": [
    "# 문장 분리 함수\n",
    "def split_sent(content):\n",
    "    after = re.sub('[^a-zA-Zㄱ-ㅎ가-힣]\\.', 'xx', content).split('.')\n",
    "    return after"
   ]
  },
  {
   "cell_type": "code",
   "execution_count": 145,
   "metadata": {},
   "outputs": [],
   "source": [
    "data['sentences'] = data['content'].apply(lambda x: split_sent(x))"
   ]
  },
  {
   "cell_type": "code",
   "execution_count": 147,
   "metadata": {},
   "outputs": [
    {
     "data": {
      "text/plain": [
       "['어린이 날 연휴 로봇마차 퍼레이드 솜 사탕 로봇 라면 끓이는 로봇 도 선보여로봇 소재 다양한 교육 체험 프로그램 마련마산로봇랜드 전경',\n",
       " ' 경남도 제공경남도는 5월 가정의 달을 맞아 마산로봇랜드 테마파크에 콘텐츠를 보강하고 다채로운 볼거리와 체험프로그램을 운영한다고 30일 밝혔다',\n",
       " '로봇랜드는 다음달 부터 중앙 드림광장에서 풍선과 비눗방울을 활용한 마술 벌룬 버블쇼를 진행한다',\n",
       " ' 주말에는 xx4m의 강철 로봇이 거리를 돌아다니며 다양한 퍼포먼스를 펼치는 타이탄 로봇쇼 를 감상할 수 있다',\n",
       " ' 특히 어린이날 연휴 동안 마칭밴드가 로봇마차와 함께 행진하는 퍼레이드를 벌이고 로봇놀이터에서 작은 고철들을 활용해 본인만의 개성 있는 로봇을 만드는 정크야 놀자 직접 로봇 가면을 제작하고 채색하는 로봇가면 만들기 노래에 맞춰 춤추는 댄스로봇의 공연 드론을 조종하여 장애물을 피하는 드론조종 체험 등 아이들과 온 가족이 함께 즐기는 콘텐츠를 운영한다',\n",
       " '또 로봇가면 만들기 는 본인만의 가면을 만들어 착용하고 사회자의 안내에 따라 무궁화 꽃이 피었습니다 등 간단한 게임 이벤트를 진행하고 식음로봇인 솜사탕 로봇 과 라면 끓이는 로봇 을 테마파크 내에 적절히 배치해 방문객에게 볼거리와 먹거리를 제공한다',\n",
       " '이와 함께 로봇랜드 공공관 중 하나인 미래로봇관에 11대의 로봇을 도입해 미래 로봇세상을 표현할 예정이다',\n",
       " '인공지능 화가 로봇 4대를 도입해 방문객 초상화를 그려 제공하는 서비스도 선보인다',\n",
       " '로봇을 소재로 한 다양한 교육 체험프로그램도 마련한다',\n",
       " '로봇특화 교육 및 진로체험으로 구성된 로봇체험교실 에서는 로봇랜드 대표 놀이시설인 쾌속열차 스카이타워 등의 과학원리를 학습하고 관련 교구를 만드는 로봇랜드 어트랙션 연계 로봇 제작 사물지능융합기술을 활용한 스마트홈 제작 홀로그램 기반 K POP 영상 제작 메타버스 공간을 만드는 인공지능 기술 체험 등을 할 수 있다',\n",
       " '로봇체험관을 활용한 해설이 있는 에듀투어 에서는 유 초 중 고 학생을 대상으로 로봇해설사와 함께 우주항공로봇관 희망로봇대모험 등 로봇체험관을 둘러보며 다양한 분야에서 활용되는 로봇 기술을 설명하고 체험하도록 한다',\n",
       " '류명현 경남도 산업통상국장은 매년 리얼로봇을 추가 도입하고 다양한 로봇 콘텐츠를 보강해 로봇랜드의 정체성을 확립해 경남의 대표 명소 브랜드로 거듭나도록 하겠다 고 말했다',\n",
       " '']"
      ]
     },
     "execution_count": 147,
     "metadata": {},
     "output_type": "execute_result"
    }
   ],
   "source": [
    "data['sentences'][40008]"
   ]
  },
  {
   "attachments": {},
   "cell_type": "markdown",
   "metadata": {},
   "source": [
    "### 분리 후 공백처리"
   ]
  },
  {
   "cell_type": "code",
   "execution_count": 148,
   "metadata": {},
   "outputs": [],
   "source": [
    "def clean(sent):\n",
    "    new_text = re.sub(r\"^\\s+\", '', sent) # space from start 제거\n",
    "    new_text = re.sub(r'\\s+$', '', new_text) # space from the end 제거\n",
    "    new_text = re.sub(r'\\s{2,}', ' ', new_text) # 다중 공백 -> 하나의 공백으로\n",
    "\n",
    "    return new_text\n",
    "\n",
    "\n",
    "def clean_series(series):\n",
    "    for i in range(len(series)):\n",
    "        series[i] = clean(series[i])\n",
    "    \n",
    "    return series"
   ]
  },
  {
   "cell_type": "code",
   "execution_count": 149,
   "metadata": {},
   "outputs": [],
   "source": [
    "data['sentences'] = data['sentences'].apply(lambda x: clean_series(x))"
   ]
  },
  {
   "cell_type": "code",
   "execution_count": 150,
   "metadata": {},
   "outputs": [
    {
     "data": {
      "text/plain": [
       "['어린이 날 연휴 로봇마차 퍼레이드 솜 사탕 로봇 라면 끓이는 로봇 도 선보여로봇 소재 다양한 교육 체험 프로그램 마련마산로봇랜드 전경',\n",
       " '경남도 제공경남도는 5월 가정의 달을 맞아 마산로봇랜드 테마파크에 콘텐츠를 보강하고 다채로운 볼거리와 체험프로그램을 운영한다고 30일 밝혔다',\n",
       " '로봇랜드는 다음달 부터 중앙 드림광장에서 풍선과 비눗방울을 활용한 마술 벌룬 버블쇼를 진행한다',\n",
       " '주말에는 xx4m의 강철 로봇이 거리를 돌아다니며 다양한 퍼포먼스를 펼치는 타이탄 로봇쇼 를 감상할 수 있다',\n",
       " '특히 어린이날 연휴 동안 마칭밴드가 로봇마차와 함께 행진하는 퍼레이드를 벌이고 로봇놀이터에서 작은 고철들을 활용해 본인만의 개성 있는 로봇을 만드는 정크야 놀자 직접 로봇 가면을 제작하고 채색하는 로봇가면 만들기 노래에 맞춰 춤추는 댄스로봇의 공연 드론을 조종하여 장애물을 피하는 드론조종 체험 등 아이들과 온 가족이 함께 즐기는 콘텐츠를 운영한다',\n",
       " '또 로봇가면 만들기 는 본인만의 가면을 만들어 착용하고 사회자의 안내에 따라 무궁화 꽃이 피었습니다 등 간단한 게임 이벤트를 진행하고 식음로봇인 솜사탕 로봇 과 라면 끓이는 로봇 을 테마파크 내에 적절히 배치해 방문객에게 볼거리와 먹거리를 제공한다',\n",
       " '이와 함께 로봇랜드 공공관 중 하나인 미래로봇관에 11대의 로봇을 도입해 미래 로봇세상을 표현할 예정이다',\n",
       " '인공지능 화가 로봇 4대를 도입해 방문객 초상화를 그려 제공하는 서비스도 선보인다',\n",
       " '로봇을 소재로 한 다양한 교육 체험프로그램도 마련한다',\n",
       " '로봇특화 교육 및 진로체험으로 구성된 로봇체험교실 에서는 로봇랜드 대표 놀이시설인 쾌속열차 스카이타워 등의 과학원리를 학습하고 관련 교구를 만드는 로봇랜드 어트랙션 연계 로봇 제작 사물지능융합기술을 활용한 스마트홈 제작 홀로그램 기반 K POP 영상 제작 메타버스 공간을 만드는 인공지능 기술 체험 등을 할 수 있다',\n",
       " '로봇체험관을 활용한 해설이 있는 에듀투어 에서는 유 초 중 고 학생을 대상으로 로봇해설사와 함께 우주항공로봇관 희망로봇대모험 등 로봇체험관을 둘러보며 다양한 분야에서 활용되는 로봇 기술을 설명하고 체험하도록 한다',\n",
       " '류명현 경남도 산업통상국장은 매년 리얼로봇을 추가 도입하고 다양한 로봇 콘텐츠를 보강해 로봇랜드의 정체성을 확립해 경남의 대표 명소 브랜드로 거듭나도록 하겠다 고 말했다',\n",
       " '']"
      ]
     },
     "execution_count": 150,
     "metadata": {},
     "output_type": "execute_result"
    }
   ],
   "source": [
    "data['sentences'][40008]"
   ]
  },
  {
   "attachments": {},
   "cell_type": "markdown",
   "metadata": {},
   "source": [
    "## 형태소 분석 및 불용어 추출"
   ]
  },
  {
   "cell_type": "code",
   "execution_count": 4,
   "metadata": {},
   "outputs": [],
   "source": [
    "from konlpy.tag import Mecab \n",
    "mecab = Mecab()\n",
    "mecab_path = '/home/ryu/mecab-ko-dic-2.1.1-20180720'"
   ]
  },
  {
   "cell_type": "code",
   "execution_count": 5,
   "metadata": {},
   "outputs": [],
   "source": [
    "stop = pd.read_csv('/home/ryu/2023text/final/ai_stopwords.txt', header=None)\n",
    "# stop.head()"
   ]
  },
  {
   "cell_type": "code",
   "execution_count": 6,
   "metadata": {},
   "outputs": [],
   "source": [
    "stopwords = [i for i in stop[0]]\n",
    "\n",
    "def mecab_tokenize(s):\n",
    "    nouns = mecab.nouns(s)\n",
    "    # return [noun for noun in nouns]\n",
    "    return [noun for noun in nouns if noun not in stopwords]"
   ]
  },
  {
   "attachments": {},
   "cell_type": "markdown",
   "metadata": {},
   "source": [
    "## TextRank 요약"
   ]
  },
  {
   "cell_type": "code",
   "execution_count": 7,
   "metadata": {},
   "outputs": [],
   "source": [
    "import textrank\n",
    "from textrank.textrank import KeysentenceSummarizer\n",
    "\n",
    "summarizer = KeysentenceSummarizer(tokenize=mecab_tokenize, min_sim=0.5)"
   ]
  },
  {
   "cell_type": "code",
   "execution_count": 8,
   "metadata": {},
   "outputs": [],
   "source": [
    "import textrank\n",
    "from textrank.textrank import KeysentenceSummarizer\n",
    "\n",
    "summarizer = KeysentenceSummarizer(tokenize=mecab_tokenize, min_sim=0.5)\n",
    "\n",
    "def text_summarize(content):\n",
    "    try:\n",
    "        keys = []\n",
    "\n",
    "        if len(content) <= 2:\n",
    "            top = len(content)\n",
    "        else:\n",
    "            top = int((len(content))*0.5)\n",
    "        \n",
    "        keysents = summarizer.summarize(content, topk=top)\n",
    "        for k in keysents:\n",
    "            keys.append(k[2])\n",
    "    except:\n",
    "        print('error occurred')\n",
    "        pass\n",
    "    \n",
    "    return keys\n"
   ]
  },
  {
   "cell_type": "code",
   "execution_count": null,
   "metadata": {},
   "outputs": [],
   "source": [
    "data['summarization'] = data['sentences'].progress_apply(lambda x: text_summarize(x))"
   ]
  },
  {
   "cell_type": "code",
   "execution_count": 10,
   "metadata": {},
   "outputs": [
    {
     "name": "stdout",
     "output_type": "stream",
     "text": [
      "전체 데이터: 40003\n",
      "요약에 성공한 데이터: 40003\n"
     ]
    }
   ],
   "source": [
    "print('전체 데이터:', len(data))\n",
    "print('요약에 성공한 데이터:', len(data['summarization']))"
   ]
  },
  {
   "cell_type": "code",
   "execution_count": 12,
   "metadata": {},
   "outputs": [
    {
     "data": {
      "text/html": [
       "<div>\n",
       "<style scoped>\n",
       "    .dataframe tbody tr th:only-of-type {\n",
       "        vertical-align: middle;\n",
       "    }\n",
       "\n",
       "    .dataframe tbody tr th {\n",
       "        vertical-align: top;\n",
       "    }\n",
       "\n",
       "    .dataframe thead th {\n",
       "        text-align: right;\n",
       "    }\n",
       "</style>\n",
       "<table border=\"1\" class=\"dataframe\">\n",
       "  <thead>\n",
       "    <tr style=\"text-align: right;\">\n",
       "      <th></th>\n",
       "      <th>title</th>\n",
       "      <th>date</th>\n",
       "      <th>content</th>\n",
       "      <th>url</th>\n",
       "      <th>timeline</th>\n",
       "      <th>year</th>\n",
       "      <th>month</th>\n",
       "      <th>sentences</th>\n",
       "      <th>summarization</th>\n",
       "    </tr>\n",
       "  </thead>\n",
       "  <tbody>\n",
       "    <tr>\n",
       "      <th>0</th>\n",
       "      <td>서울대 연구팀 또 표절 의혹 이종호 장관 아들 1저자 논문</td>\n",
       "      <td>2022-07-01 10:47:01</td>\n",
       "      <td>거의 같은 문장 반복해서 등장서울대 연구진실성조사위원회 열어사진 한경DB서울대 인공...</td>\n",
       "      <td>https://n.news.naver.com/mnews/article/015/000...</td>\n",
       "      <td>before</td>\n",
       "      <td>2022</td>\n",
       "      <td>7</td>\n",
       "      <td>[거의 같은 문장 반복해서 등장서울대 연구진실성조사위원회 열어사진 한경DB서울대 인...</td>\n",
       "      <td>[거의 같은 문장 반복해서 등장서울대 연구진실성조사위원회 열어사진 한경DB서울대 인...</td>\n",
       "    </tr>\n",
       "    <tr>\n",
       "      <th>1</th>\n",
       "      <td>중부지방에 5 40 소나기 낮 최고 35도 폭염</td>\n",
       "      <td>2022-07-01 05:39:10</td>\n",
       "      <td>우산행렬 금요일인 1일은 늦은 오후부터 저녁 사이 중부지방을 중심으로 천둥 번개를 ...</td>\n",
       "      <td>https://n.news.naver.com/mnews/article/001/001...</td>\n",
       "      <td>before</td>\n",
       "      <td>2022</td>\n",
       "      <td>7</td>\n",
       "      <td>[우산행렬 금요일인 1일은 늦은 오후부터 저녁 사이 중부지방을 중심으로 천둥 번개를...</td>\n",
       "      <td>[폭염특보가 발표된 일부 강원 영동 중 남부와 충청권 남부지방 제주도를 중심으로 최...</td>\n",
       "    </tr>\n",
       "    <tr>\n",
       "      <th>2</th>\n",
       "      <td>삼성 세계 첫 3나노 양산 TSMC 잡을까</td>\n",
       "      <td>2022-07-01 06:20:53</td>\n",
       "      <td>삼성전자가 세계 최초로 3나노 기술을 적용한 반도체를 생산하기 시작했습니다.경쟁사인...</td>\n",
       "      <td>https://n.news.naver.com/mnews/article/214/000...</td>\n",
       "      <td>before</td>\n",
       "      <td>2022</td>\n",
       "      <td>7</td>\n",
       "      <td>[삼성전자가 세계 최초로 3나노 기술을 적용한 반도체를 생산하기 시작했습니다, 경쟁...</td>\n",
       "      <td>[이곳에서 3나노미터 공정이 적용된 세계 최초의 반도체가 양산되기 시작했습니다, 삼...</td>\n",
       "    </tr>\n",
       "    <tr>\n",
       "      <th>3</th>\n",
       "      <td>신한은행 ESG본부 신설 하반기 정기 인사</td>\n",
       "      <td>2022-07-01 15:25:08</td>\n",
       "      <td>AI 인사 업그레이드 금융사고 예방 위해 장기근속 직원 순환근무 신한은행은 1일 자...</td>\n",
       "      <td>https://n.news.naver.com/mnews/article/001/001...</td>\n",
       "      <td>before</td>\n",
       "      <td>2022</td>\n",
       "      <td>7</td>\n",
       "      <td>[AI 인사 업그레이드 금융사고 예방 위해 장기근속 직원 순환근무 신한은행은 1일 ...</td>\n",
       "      <td>[신한은행에 따르면 이번 인사는 본점 영업점 장기근속 직원의 순환 근무를 통해 각종...</td>\n",
       "    </tr>\n",
       "    <tr>\n",
       "      <th>4</th>\n",
       "      <td>영남이공대 미래 신산업 수요특화형 AI IoT 교육</td>\n",
       "      <td>2022-07-01 11:14:20</td>\n",
       "      <td>영남이공대학교는 지난달 27일부터 7월1일까지 제주도 호텔골든데이지 서귀포오션에서 ...</td>\n",
       "      <td>https://n.news.naver.com/mnews/article/003/001...</td>\n",
       "      <td>before</td>\n",
       "      <td>2022</td>\n",
       "      <td>7</td>\n",
       "      <td>[영남이공대학교는 지난달 27일부터 7월1일까지 제주도 호텔골든데이지 서귀포오션에서...</td>\n",
       "      <td>[영남이공대학교는 지난달 27일부터 7월1일까지 제주도 호텔골든데이지 서귀포오션에서...</td>\n",
       "    </tr>\n",
       "  </tbody>\n",
       "</table>\n",
       "</div>"
      ],
      "text/plain": [
       "                              title                 date  \\\n",
       "0  서울대 연구팀 또 표절 의혹 이종호 장관 아들 1저자 논문  2022-07-01 10:47:01   \n",
       "1        중부지방에 5 40 소나기 낮 최고 35도 폭염  2022-07-01 05:39:10   \n",
       "2           삼성 세계 첫 3나노 양산 TSMC 잡을까  2022-07-01 06:20:53   \n",
       "3           신한은행 ESG본부 신설 하반기 정기 인사  2022-07-01 15:25:08   \n",
       "4      영남이공대 미래 신산업 수요특화형 AI IoT 교육  2022-07-01 11:14:20   \n",
       "\n",
       "                                             content  \\\n",
       "0  거의 같은 문장 반복해서 등장서울대 연구진실성조사위원회 열어사진 한경DB서울대 인공...   \n",
       "1  우산행렬 금요일인 1일은 늦은 오후부터 저녁 사이 중부지방을 중심으로 천둥 번개를 ...   \n",
       "2  삼성전자가 세계 최초로 3나노 기술을 적용한 반도체를 생산하기 시작했습니다.경쟁사인...   \n",
       "3  AI 인사 업그레이드 금융사고 예방 위해 장기근속 직원 순환근무 신한은행은 1일 자...   \n",
       "4  영남이공대학교는 지난달 27일부터 7월1일까지 제주도 호텔골든데이지 서귀포오션에서 ...   \n",
       "\n",
       "                                                 url timeline  year  month  \\\n",
       "0  https://n.news.naver.com/mnews/article/015/000...   before  2022      7   \n",
       "1  https://n.news.naver.com/mnews/article/001/001...   before  2022      7   \n",
       "2  https://n.news.naver.com/mnews/article/214/000...   before  2022      7   \n",
       "3  https://n.news.naver.com/mnews/article/001/001...   before  2022      7   \n",
       "4  https://n.news.naver.com/mnews/article/003/001...   before  2022      7   \n",
       "\n",
       "                                           sentences  \\\n",
       "0  [거의 같은 문장 반복해서 등장서울대 연구진실성조사위원회 열어사진 한경DB서울대 인...   \n",
       "1  [우산행렬 금요일인 1일은 늦은 오후부터 저녁 사이 중부지방을 중심으로 천둥 번개를...   \n",
       "2  [삼성전자가 세계 최초로 3나노 기술을 적용한 반도체를 생산하기 시작했습니다, 경쟁...   \n",
       "3  [AI 인사 업그레이드 금융사고 예방 위해 장기근속 직원 순환근무 신한은행은 1일 ...   \n",
       "4  [영남이공대학교는 지난달 27일부터 7월1일까지 제주도 호텔골든데이지 서귀포오션에서...   \n",
       "\n",
       "                                       summarization  \n",
       "0  [거의 같은 문장 반복해서 등장서울대 연구진실성조사위원회 열어사진 한경DB서울대 인...  \n",
       "1  [폭염특보가 발표된 일부 강원 영동 중 남부와 충청권 남부지방 제주도를 중심으로 최...  \n",
       "2  [이곳에서 3나노미터 공정이 적용된 세계 최초의 반도체가 양산되기 시작했습니다, 삼...  \n",
       "3  [신한은행에 따르면 이번 인사는 본점 영업점 장기근속 직원의 순환 근무를 통해 각종...  \n",
       "4  [영남이공대학교는 지난달 27일부터 7월1일까지 제주도 호텔골든데이지 서귀포오션에서...  "
      ]
     },
     "execution_count": 12,
     "metadata": {},
     "output_type": "execute_result"
    }
   ],
   "source": [
    "data.head()"
   ]
  },
  {
   "cell_type": "code",
   "execution_count": 15,
   "metadata": {},
   "outputs": [],
   "source": [
    "data.drop(['date', 'content', 'url'], axis=1, inplace=True)"
   ]
  },
  {
   "cell_type": "code",
   "execution_count": 17,
   "metadata": {},
   "outputs": [
    {
     "data": {
      "text/html": [
       "<div>\n",
       "<style scoped>\n",
       "    .dataframe tbody tr th:only-of-type {\n",
       "        vertical-align: middle;\n",
       "    }\n",
       "\n",
       "    .dataframe tbody tr th {\n",
       "        vertical-align: top;\n",
       "    }\n",
       "\n",
       "    .dataframe thead th {\n",
       "        text-align: right;\n",
       "    }\n",
       "</style>\n",
       "<table border=\"1\" class=\"dataframe\">\n",
       "  <thead>\n",
       "    <tr style=\"text-align: right;\">\n",
       "      <th></th>\n",
       "      <th>title</th>\n",
       "      <th>timeline</th>\n",
       "      <th>year</th>\n",
       "      <th>month</th>\n",
       "      <th>sentences</th>\n",
       "      <th>summarization</th>\n",
       "    </tr>\n",
       "  </thead>\n",
       "  <tbody>\n",
       "    <tr>\n",
       "      <th>0</th>\n",
       "      <td>서울대 연구팀 또 표절 의혹 이종호 장관 아들 1저자 논문</td>\n",
       "      <td>before</td>\n",
       "      <td>2022</td>\n",
       "      <td>7</td>\n",
       "      <td>[거의 같은 문장 반복해서 등장서울대 연구진실성조사위원회 열어사진 한경DB서울대 인...</td>\n",
       "      <td>[거의 같은 문장 반복해서 등장서울대 연구진실성조사위원회 열어사진 한경DB서울대 인...</td>\n",
       "    </tr>\n",
       "    <tr>\n",
       "      <th>1</th>\n",
       "      <td>중부지방에 5 40 소나기 낮 최고 35도 폭염</td>\n",
       "      <td>before</td>\n",
       "      <td>2022</td>\n",
       "      <td>7</td>\n",
       "      <td>[우산행렬 금요일인 1일은 늦은 오후부터 저녁 사이 중부지방을 중심으로 천둥 번개를...</td>\n",
       "      <td>[폭염특보가 발표된 일부 강원 영동 중 남부와 충청권 남부지방 제주도를 중심으로 최...</td>\n",
       "    </tr>\n",
       "    <tr>\n",
       "      <th>2</th>\n",
       "      <td>삼성 세계 첫 3나노 양산 TSMC 잡을까</td>\n",
       "      <td>before</td>\n",
       "      <td>2022</td>\n",
       "      <td>7</td>\n",
       "      <td>[삼성전자가 세계 최초로 3나노 기술을 적용한 반도체를 생산하기 시작했습니다, 경쟁...</td>\n",
       "      <td>[이곳에서 3나노미터 공정이 적용된 세계 최초의 반도체가 양산되기 시작했습니다, 삼...</td>\n",
       "    </tr>\n",
       "    <tr>\n",
       "      <th>3</th>\n",
       "      <td>신한은행 ESG본부 신설 하반기 정기 인사</td>\n",
       "      <td>before</td>\n",
       "      <td>2022</td>\n",
       "      <td>7</td>\n",
       "      <td>[AI 인사 업그레이드 금융사고 예방 위해 장기근속 직원 순환근무 신한은행은 1일 ...</td>\n",
       "      <td>[신한은행에 따르면 이번 인사는 본점 영업점 장기근속 직원의 순환 근무를 통해 각종...</td>\n",
       "    </tr>\n",
       "    <tr>\n",
       "      <th>4</th>\n",
       "      <td>영남이공대 미래 신산업 수요특화형 AI IoT 교육</td>\n",
       "      <td>before</td>\n",
       "      <td>2022</td>\n",
       "      <td>7</td>\n",
       "      <td>[영남이공대학교는 지난달 27일부터 7월1일까지 제주도 호텔골든데이지 서귀포오션에서...</td>\n",
       "      <td>[영남이공대학교는 지난달 27일부터 7월1일까지 제주도 호텔골든데이지 서귀포오션에서...</td>\n",
       "    </tr>\n",
       "  </tbody>\n",
       "</table>\n",
       "</div>"
      ],
      "text/plain": [
       "                              title timeline  year  month  \\\n",
       "0  서울대 연구팀 또 표절 의혹 이종호 장관 아들 1저자 논문   before  2022      7   \n",
       "1        중부지방에 5 40 소나기 낮 최고 35도 폭염   before  2022      7   \n",
       "2           삼성 세계 첫 3나노 양산 TSMC 잡을까   before  2022      7   \n",
       "3           신한은행 ESG본부 신설 하반기 정기 인사   before  2022      7   \n",
       "4      영남이공대 미래 신산업 수요특화형 AI IoT 교육   before  2022      7   \n",
       "\n",
       "                                           sentences  \\\n",
       "0  [거의 같은 문장 반복해서 등장서울대 연구진실성조사위원회 열어사진 한경DB서울대 인...   \n",
       "1  [우산행렬 금요일인 1일은 늦은 오후부터 저녁 사이 중부지방을 중심으로 천둥 번개를...   \n",
       "2  [삼성전자가 세계 최초로 3나노 기술을 적용한 반도체를 생산하기 시작했습니다, 경쟁...   \n",
       "3  [AI 인사 업그레이드 금융사고 예방 위해 장기근속 직원 순환근무 신한은행은 1일 ...   \n",
       "4  [영남이공대학교는 지난달 27일부터 7월1일까지 제주도 호텔골든데이지 서귀포오션에서...   \n",
       "\n",
       "                                       summarization  \n",
       "0  [거의 같은 문장 반복해서 등장서울대 연구진실성조사위원회 열어사진 한경DB서울대 인...  \n",
       "1  [폭염특보가 발표된 일부 강원 영동 중 남부와 충청권 남부지방 제주도를 중심으로 최...  \n",
       "2  [이곳에서 3나노미터 공정이 적용된 세계 최초의 반도체가 양산되기 시작했습니다, 삼...  \n",
       "3  [신한은행에 따르면 이번 인사는 본점 영업점 장기근속 직원의 순환 근무를 통해 각종...  \n",
       "4  [영남이공대학교는 지난달 27일부터 7월1일까지 제주도 호텔골든데이지 서귀포오션에서...  "
      ]
     },
     "execution_count": 17,
     "metadata": {},
     "output_type": "execute_result"
    }
   ],
   "source": [
    "data.head()"
   ]
  },
  {
   "cell_type": "code",
   "execution_count": 18,
   "metadata": {},
   "outputs": [],
   "source": [
    "# 데이터 저장\n",
    "data.to_csv('/home/ryu/2023text/final/upto_summarization_0603.csv', index=False, encoding='utf-8')"
   ]
  },
  {
   "cell_type": "code",
   "execution_count": null,
   "metadata": {},
   "outputs": [],
   "source": []
  },
  {
   "attachments": {},
   "cell_type": "markdown",
   "metadata": {},
   "source": [
    "## 데이터 후처리\n",
    "(길이가 200을 넘는 summary의 경우 제거)"
   ]
  },
  {
   "cell_type": "code",
   "execution_count": 7,
   "metadata": {},
   "outputs": [
    {
     "data": {
      "text/html": [
       "<div>\n",
       "<style scoped>\n",
       "    .dataframe tbody tr th:only-of-type {\n",
       "        vertical-align: middle;\n",
       "    }\n",
       "\n",
       "    .dataframe tbody tr th {\n",
       "        vertical-align: top;\n",
       "    }\n",
       "\n",
       "    .dataframe thead th {\n",
       "        text-align: right;\n",
       "    }\n",
       "</style>\n",
       "<table border=\"1\" class=\"dataframe\">\n",
       "  <thead>\n",
       "    <tr style=\"text-align: right;\">\n",
       "      <th></th>\n",
       "      <th>title</th>\n",
       "      <th>timeline</th>\n",
       "      <th>year</th>\n",
       "      <th>month</th>\n",
       "      <th>sentences</th>\n",
       "      <th>summarization</th>\n",
       "    </tr>\n",
       "  </thead>\n",
       "  <tbody>\n",
       "    <tr>\n",
       "      <th>0</th>\n",
       "      <td>서울대 연구팀 또 표절 의혹 이종호 장관 아들 1저자 논문</td>\n",
       "      <td>before</td>\n",
       "      <td>2022</td>\n",
       "      <td>7</td>\n",
       "      <td>['거의 같은 문장 반복해서 등장서울대 연구진실성조사위원회 열어사진 한경DB서울대 ...</td>\n",
       "      <td>['거의 같은 문장 반복해서 등장서울대 연구진실성조사위원회 열어사진 한경DB서울대 ...</td>\n",
       "    </tr>\n",
       "    <tr>\n",
       "      <th>1</th>\n",
       "      <td>중부지방에 5 40 소나기 낮 최고 35도 폭염</td>\n",
       "      <td>before</td>\n",
       "      <td>2022</td>\n",
       "      <td>7</td>\n",
       "      <td>['우산행렬 금요일인 1일은 늦은 오후부터 저녁 사이 중부지방을 중심으로 천둥 번개...</td>\n",
       "      <td>['폭염특보가 발표된 일부 강원 영동 중 남부와 충청권 남부지방 제주도를 중심으로 ...</td>\n",
       "    </tr>\n",
       "    <tr>\n",
       "      <th>2</th>\n",
       "      <td>삼성 세계 첫 3나노 양산 TSMC 잡을까</td>\n",
       "      <td>before</td>\n",
       "      <td>2022</td>\n",
       "      <td>7</td>\n",
       "      <td>['삼성전자가 세계 최초로 3나노 기술을 적용한 반도체를 생산하기 시작했습니다', ...</td>\n",
       "      <td>['이곳에서 3나노미터 공정이 적용된 세계 최초의 반도체가 양산되기 시작했습니다',...</td>\n",
       "    </tr>\n",
       "    <tr>\n",
       "      <th>3</th>\n",
       "      <td>신한은행 ESG본부 신설 하반기 정기 인사</td>\n",
       "      <td>before</td>\n",
       "      <td>2022</td>\n",
       "      <td>7</td>\n",
       "      <td>['AI 인사 업그레이드 금융사고 예방 위해 장기근속 직원 순환근무 신한은행은 1일...</td>\n",
       "      <td>['신한은행에 따르면 이번 인사는 본점 영업점 장기근속 직원의 순환 근무를 통해 각...</td>\n",
       "    </tr>\n",
       "    <tr>\n",
       "      <th>4</th>\n",
       "      <td>영남이공대 미래 신산업 수요특화형 AI IoT 교육</td>\n",
       "      <td>before</td>\n",
       "      <td>2022</td>\n",
       "      <td>7</td>\n",
       "      <td>['영남이공대학교는 지난달 27일부터 7월1일까지 제주도 호텔골든데이지 서귀포오션에...</td>\n",
       "      <td>['영남이공대학교는 지난달 27일부터 7월1일까지 제주도 호텔골든데이지 서귀포오션에...</td>\n",
       "    </tr>\n",
       "  </tbody>\n",
       "</table>\n",
       "</div>"
      ],
      "text/plain": [
       "                              title timeline  year  month  \\\n",
       "0  서울대 연구팀 또 표절 의혹 이종호 장관 아들 1저자 논문   before  2022      7   \n",
       "1        중부지방에 5 40 소나기 낮 최고 35도 폭염   before  2022      7   \n",
       "2           삼성 세계 첫 3나노 양산 TSMC 잡을까   before  2022      7   \n",
       "3           신한은행 ESG본부 신설 하반기 정기 인사   before  2022      7   \n",
       "4      영남이공대 미래 신산업 수요특화형 AI IoT 교육   before  2022      7   \n",
       "\n",
       "                                           sentences  \\\n",
       "0  ['거의 같은 문장 반복해서 등장서울대 연구진실성조사위원회 열어사진 한경DB서울대 ...   \n",
       "1  ['우산행렬 금요일인 1일은 늦은 오후부터 저녁 사이 중부지방을 중심으로 천둥 번개...   \n",
       "2  ['삼성전자가 세계 최초로 3나노 기술을 적용한 반도체를 생산하기 시작했습니다', ...   \n",
       "3  ['AI 인사 업그레이드 금융사고 예방 위해 장기근속 직원 순환근무 신한은행은 1일...   \n",
       "4  ['영남이공대학교는 지난달 27일부터 7월1일까지 제주도 호텔골든데이지 서귀포오션에...   \n",
       "\n",
       "                                       summarization  \n",
       "0  ['거의 같은 문장 반복해서 등장서울대 연구진실성조사위원회 열어사진 한경DB서울대 ...  \n",
       "1  ['폭염특보가 발표된 일부 강원 영동 중 남부와 충청권 남부지방 제주도를 중심으로 ...  \n",
       "2  ['이곳에서 3나노미터 공정이 적용된 세계 최초의 반도체가 양산되기 시작했습니다',...  \n",
       "3  ['신한은행에 따르면 이번 인사는 본점 영업점 장기근속 직원의 순환 근무를 통해 각...  \n",
       "4  ['영남이공대학교는 지난달 27일부터 7월1일까지 제주도 호텔골든데이지 서귀포오션에...  "
      ]
     },
     "execution_count": 7,
     "metadata": {},
     "output_type": "execute_result"
    }
   ],
   "source": [
    "summ = pd.read_csv('/home/ryu/2023text/final/upto_summarization_0603.csv')\n",
    "summ.head()\n"
   ]
  },
  {
   "cell_type": "code",
   "execution_count": 8,
   "metadata": {},
   "outputs": [],
   "source": [
    "summ = summ.drop_duplicates(subset='summarization', keep='first', ignore_index=True)"
   ]
  },
  {
   "cell_type": "code",
   "execution_count": 10,
   "metadata": {},
   "outputs": [],
   "source": [
    "summ = summ[summ['summarization']!='[]']"
   ]
  },
  {
   "cell_type": "code",
   "execution_count": 13,
   "metadata": {},
   "outputs": [
    {
     "data": {
      "text/html": [
       "<div>\n",
       "<style scoped>\n",
       "    .dataframe tbody tr th:only-of-type {\n",
       "        vertical-align: middle;\n",
       "    }\n",
       "\n",
       "    .dataframe tbody tr th {\n",
       "        vertical-align: top;\n",
       "    }\n",
       "\n",
       "    .dataframe thead th {\n",
       "        text-align: right;\n",
       "    }\n",
       "</style>\n",
       "<table border=\"1\" class=\"dataframe\">\n",
       "  <thead>\n",
       "    <tr style=\"text-align: right;\">\n",
       "      <th></th>\n",
       "      <th>title</th>\n",
       "      <th>timeline</th>\n",
       "      <th>year</th>\n",
       "      <th>month</th>\n",
       "      <th>sentences</th>\n",
       "      <th>summarization</th>\n",
       "    </tr>\n",
       "  </thead>\n",
       "  <tbody>\n",
       "  </tbody>\n",
       "</table>\n",
       "</div>"
      ],
      "text/plain": [
       "Empty DataFrame\n",
       "Columns: [title, timeline, year, month, sentences, summarization]\n",
       "Index: []"
      ]
     },
     "execution_count": 13,
     "metadata": {},
     "output_type": "execute_result"
    }
   ],
   "source": [
    "summ[summ.duplicated(subset='summarization')]"
   ]
  },
  {
   "cell_type": "code",
   "execution_count": 14,
   "metadata": {},
   "outputs": [
    {
     "data": {
      "text/plain": [
       "39726"
      ]
     },
     "execution_count": 14,
     "metadata": {},
     "output_type": "execute_result"
    }
   ],
   "source": [
    "len(summ)"
   ]
  },
  {
   "cell_type": "code",
   "execution_count": 15,
   "metadata": {},
   "outputs": [
    {
     "name": "stderr",
     "output_type": "stream",
     "text": [
      "/tmp/ipykernel_29709/4086137079.py:2: FutureWarning: The default value of regex will change from True to False in a future version. In addition, single character regular expressions will *not* be treated as literal strings when regex=True.\n",
      "  summ['summarization']=summ['summarization'].str.replace('[','').str.replace(']','').str.replace('\\'','') #nouns 칼럼에 있는 []\\문자 제거\n"
     ]
    }
   ],
   "source": [
    "# 댓글은 다시 리스트형으로 변환 (데이터 가져오면서 리스트를 문자열로 인식)\n",
    "summ['summarization']=summ['summarization'].str.replace('[','').str.replace(']','').str.replace('\\'','') #nouns 칼럼에 있는 []\\문자 제거\n",
    "summ['summarization']=summ['summarization'].apply(lambda x:x.split(',')) # ,를 기준으로 분리 후 리스트에 담기\n",
    "summ['summarization']=summ['summarization'].apply(lambda x:[i.strip() for i in x]) # 리스트 내 문자 양쪽 공백제거"
   ]
  },
  {
   "cell_type": "code",
   "execution_count": 21,
   "metadata": {},
   "outputs": [],
   "source": [
    "summ = summ[summ['summarization'].apply(len)<200]"
   ]
  },
  {
   "cell_type": "code",
   "execution_count": 22,
   "metadata": {},
   "outputs": [
    {
     "data": {
      "text/html": [
       "<div>\n",
       "<style scoped>\n",
       "    .dataframe tbody tr th:only-of-type {\n",
       "        vertical-align: middle;\n",
       "    }\n",
       "\n",
       "    .dataframe tbody tr th {\n",
       "        vertical-align: top;\n",
       "    }\n",
       "\n",
       "    .dataframe thead th {\n",
       "        text-align: right;\n",
       "    }\n",
       "</style>\n",
       "<table border=\"1\" class=\"dataframe\">\n",
       "  <thead>\n",
       "    <tr style=\"text-align: right;\">\n",
       "      <th></th>\n",
       "      <th>title</th>\n",
       "      <th>timeline</th>\n",
       "      <th>year</th>\n",
       "      <th>month</th>\n",
       "      <th>sentences</th>\n",
       "      <th>summarization</th>\n",
       "    </tr>\n",
       "  </thead>\n",
       "  <tbody>\n",
       "    <tr>\n",
       "      <th>0</th>\n",
       "      <td>서울대 연구팀 또 표절 의혹 이종호 장관 아들 1저자 논문</td>\n",
       "      <td>before</td>\n",
       "      <td>2022</td>\n",
       "      <td>7</td>\n",
       "      <td>['거의 같은 문장 반복해서 등장서울대 연구진실성조사위원회 열어사진 한경DB서울대 ...</td>\n",
       "      <td>[거의 같은 문장 반복해서 등장서울대 연구진실성조사위원회 열어사진 한경DB서울대 인...</td>\n",
       "    </tr>\n",
       "    <tr>\n",
       "      <th>1</th>\n",
       "      <td>중부지방에 5 40 소나기 낮 최고 35도 폭염</td>\n",
       "      <td>before</td>\n",
       "      <td>2022</td>\n",
       "      <td>7</td>\n",
       "      <td>['우산행렬 금요일인 1일은 늦은 오후부터 저녁 사이 중부지방을 중심으로 천둥 번개...</td>\n",
       "      <td>[폭염특보가 발표된 일부 강원 영동 중 남부와 충청권 남부지방 제주도를 중심으로 최...</td>\n",
       "    </tr>\n",
       "    <tr>\n",
       "      <th>2</th>\n",
       "      <td>삼성 세계 첫 3나노 양산 TSMC 잡을까</td>\n",
       "      <td>before</td>\n",
       "      <td>2022</td>\n",
       "      <td>7</td>\n",
       "      <td>['삼성전자가 세계 최초로 3나노 기술을 적용한 반도체를 생산하기 시작했습니다', ...</td>\n",
       "      <td>[이곳에서 3나노미터 공정이 적용된 세계 최초의 반도체가 양산되기 시작했습니다, 삼...</td>\n",
       "    </tr>\n",
       "    <tr>\n",
       "      <th>3</th>\n",
       "      <td>신한은행 ESG본부 신설 하반기 정기 인사</td>\n",
       "      <td>before</td>\n",
       "      <td>2022</td>\n",
       "      <td>7</td>\n",
       "      <td>['AI 인사 업그레이드 금융사고 예방 위해 장기근속 직원 순환근무 신한은행은 1일...</td>\n",
       "      <td>[신한은행에 따르면 이번 인사는 본점 영업점 장기근속 직원의 순환 근무를 통해 각종...</td>\n",
       "    </tr>\n",
       "    <tr>\n",
       "      <th>4</th>\n",
       "      <td>영남이공대 미래 신산업 수요특화형 AI IoT 교육</td>\n",
       "      <td>before</td>\n",
       "      <td>2022</td>\n",
       "      <td>7</td>\n",
       "      <td>['영남이공대학교는 지난달 27일부터 7월1일까지 제주도 호텔골든데이지 서귀포오션에...</td>\n",
       "      <td>[영남이공대학교는 지난달 27일부터 7월1일까지 제주도 호텔골든데이지 서귀포오션에서...</td>\n",
       "    </tr>\n",
       "  </tbody>\n",
       "</table>\n",
       "</div>"
      ],
      "text/plain": [
       "                              title timeline  year  month  \\\n",
       "0  서울대 연구팀 또 표절 의혹 이종호 장관 아들 1저자 논문   before  2022      7   \n",
       "1        중부지방에 5 40 소나기 낮 최고 35도 폭염   before  2022      7   \n",
       "2           삼성 세계 첫 3나노 양산 TSMC 잡을까   before  2022      7   \n",
       "3           신한은행 ESG본부 신설 하반기 정기 인사   before  2022      7   \n",
       "4      영남이공대 미래 신산업 수요특화형 AI IoT 교육   before  2022      7   \n",
       "\n",
       "                                           sentences  \\\n",
       "0  ['거의 같은 문장 반복해서 등장서울대 연구진실성조사위원회 열어사진 한경DB서울대 ...   \n",
       "1  ['우산행렬 금요일인 1일은 늦은 오후부터 저녁 사이 중부지방을 중심으로 천둥 번개...   \n",
       "2  ['삼성전자가 세계 최초로 3나노 기술을 적용한 반도체를 생산하기 시작했습니다', ...   \n",
       "3  ['AI 인사 업그레이드 금융사고 예방 위해 장기근속 직원 순환근무 신한은행은 1일...   \n",
       "4  ['영남이공대학교는 지난달 27일부터 7월1일까지 제주도 호텔골든데이지 서귀포오션에...   \n",
       "\n",
       "                                       summarization  \n",
       "0  [거의 같은 문장 반복해서 등장서울대 연구진실성조사위원회 열어사진 한경DB서울대 인...  \n",
       "1  [폭염특보가 발표된 일부 강원 영동 중 남부와 충청권 남부지방 제주도를 중심으로 최...  \n",
       "2  [이곳에서 3나노미터 공정이 적용된 세계 최초의 반도체가 양산되기 시작했습니다, 삼...  \n",
       "3  [신한은행에 따르면 이번 인사는 본점 영업점 장기근속 직원의 순환 근무를 통해 각종...  \n",
       "4  [영남이공대학교는 지난달 27일부터 7월1일까지 제주도 호텔골든데이지 서귀포오션에서...  "
      ]
     },
     "execution_count": 22,
     "metadata": {},
     "output_type": "execute_result"
    }
   ],
   "source": [
    "summ.head()"
   ]
  },
  {
   "cell_type": "code",
   "execution_count": 23,
   "metadata": {},
   "outputs": [],
   "source": [
    "# 데이터 저장\n",
    "summ.to_csv('/home/ryu/2023text/final/textrank_results_0605.csv', index=False, encoding='utf-8')"
   ]
  },
  {
   "cell_type": "code",
   "execution_count": 2,
   "metadata": {},
   "outputs": [
    {
     "data": {
      "text/plain": [
       "39719"
      ]
     },
     "execution_count": 2,
     "metadata": {},
     "output_type": "execute_result"
    }
   ],
   "source": [
    "df = pd.read_csv('/home/ryu/2023text/final/textrank_results_0605.csv')\n",
    "len(df)"
   ]
  },
  {
   "cell_type": "code",
   "execution_count": 4,
   "metadata": {},
   "outputs": [
    {
     "data": {
      "text/plain": [
       "18775"
      ]
     },
     "execution_count": 4,
     "metadata": {},
     "output_type": "execute_result"
    }
   ],
   "source": [
    "len(df[df['timeline']=='before'])"
   ]
  },
  {
   "cell_type": "code",
   "execution_count": 5,
   "metadata": {},
   "outputs": [
    {
     "data": {
      "text/plain": [
       "20944"
      ]
     },
     "execution_count": 5,
     "metadata": {},
     "output_type": "execute_result"
    }
   ],
   "source": [
    "len(df[df['timeline']=='after'])"
   ]
  },
  {
   "cell_type": "code",
   "execution_count": null,
   "metadata": {},
   "outputs": [],
   "source": []
  }
 ],
 "metadata": {
  "kernelspec": {
   "display_name": "ryuvenv",
   "language": "python",
   "name": "python3"
  },
  "language_info": {
   "codemirror_mode": {
    "name": "ipython",
    "version": 3
   },
   "file_extension": ".py",
   "mimetype": "text/x-python",
   "name": "python",
   "nbconvert_exporter": "python",
   "pygments_lexer": "ipython3",
   "version": "3.8.13"
  },
  "orig_nbformat": 4
 },
 "nbformat": 4,
 "nbformat_minor": 2
}
