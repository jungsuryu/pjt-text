{
 "cells": [
  {
   "cell_type": "code",
   "execution_count": 2,
   "metadata": {},
   "outputs": [
    {
     "name": "stderr",
     "output_type": "stream",
     "text": [
      "/home/ryu/.conda/envs/ryuvenv/lib/python3.8/site-packages/past/builtins/misc.py:45: DeprecationWarning: the imp module is deprecated in favour of importlib; see the module's documentation for alternative uses\n",
      "  from imp import reload\n"
     ]
    }
   ],
   "source": [
    "import os\n",
    "os.environ['CUDA_DEVICE_ORDER'] = 'PCI_BUS_ID'\n",
    "os.environ['CUDA_VISIBLE_DEVICES'] = '0,1,2,3'\n",
    "\n",
    "import pandas as pd\n",
    "import numpy as np\n",
    "import datetime\n",
    "from collections import Counter\n",
    "from tqdm import tqdm\n",
    "tqdm.pandas() \n",
    "import re\n",
    "\n",
    "# 시각화\n",
    "import matplotlib.pyplot as plt\n",
    "plt.style.use(\"ggplot\")\n",
    "import seaborn as sns\n",
    "from wordcloud import WordCloud\n",
    "plt.rcParams[\"font.family\"] = 'NanumGothic'\n",
    "\n",
    "\n",
    "# 토픽모델링 관련 패키지 & 모듈\n",
    "import gensim\n",
    "from gensim import corpora , models\n",
    "from gensim.models.callbacks import CoherenceMetric \n",
    "from gensim.models.coherencemodel import CoherenceModel\n",
    "import logging\n",
    "\n",
    "import pyLDAvis\n",
    "import pyLDAvis.gensim_models as gensimvis\n",
    "pyLDAvis.enable_notebook()"
   ]
  },
  {
   "attachments": {},
   "cell_type": "markdown",
   "metadata": {},
   "source": [
    "## 데이터 불러오기"
   ]
  },
  {
   "cell_type": "code",
   "execution_count": 2,
   "metadata": {},
   "outputs": [
    {
     "data": {
      "text/html": [
       "<div>\n",
       "<style scoped>\n",
       "    .dataframe tbody tr th:only-of-type {\n",
       "        vertical-align: middle;\n",
       "    }\n",
       "\n",
       "    .dataframe tbody tr th {\n",
       "        vertical-align: top;\n",
       "    }\n",
       "\n",
       "    .dataframe thead th {\n",
       "        text-align: right;\n",
       "    }\n",
       "</style>\n",
       "<table border=\"1\" class=\"dataframe\">\n",
       "  <thead>\n",
       "    <tr style=\"text-align: right;\">\n",
       "      <th></th>\n",
       "      <th>title</th>\n",
       "      <th>timeline</th>\n",
       "      <th>year</th>\n",
       "      <th>month</th>\n",
       "      <th>sentences</th>\n",
       "      <th>summarization</th>\n",
       "    </tr>\n",
       "  </thead>\n",
       "  <tbody>\n",
       "    <tr>\n",
       "      <th>0</th>\n",
       "      <td>서울대 연구팀 또 표절 의혹 이종호 장관 아들 1저자 논문</td>\n",
       "      <td>before</td>\n",
       "      <td>2022</td>\n",
       "      <td>7</td>\n",
       "      <td>['거의 같은 문장 반복해서 등장서울대 연구진실성조사위원회 열어사진 한경DB서울대 ...</td>\n",
       "      <td>['거의 같은 문장 반복해서 등장서울대 연구진실성조사위원회 열어사진 한경DB서울대 ...</td>\n",
       "    </tr>\n",
       "    <tr>\n",
       "      <th>1</th>\n",
       "      <td>중부지방에 5 40 소나기 낮 최고 35도 폭염</td>\n",
       "      <td>before</td>\n",
       "      <td>2022</td>\n",
       "      <td>7</td>\n",
       "      <td>['우산행렬 금요일인 1일은 늦은 오후부터 저녁 사이 중부지방을 중심으로 천둥 번개...</td>\n",
       "      <td>['폭염특보가 발표된 일부 강원 영동 중 남부와 충청권 남부지방 제주도를 중심으로 ...</td>\n",
       "    </tr>\n",
       "    <tr>\n",
       "      <th>2</th>\n",
       "      <td>삼성 세계 첫 3나노 양산 TSMC 잡을까</td>\n",
       "      <td>before</td>\n",
       "      <td>2022</td>\n",
       "      <td>7</td>\n",
       "      <td>['삼성전자가 세계 최초로 3나노 기술을 적용한 반도체를 생산하기 시작했습니다', ...</td>\n",
       "      <td>['이곳에서 3나노미터 공정이 적용된 세계 최초의 반도체가 양산되기 시작했습니다',...</td>\n",
       "    </tr>\n",
       "  </tbody>\n",
       "</table>\n",
       "</div>"
      ],
      "text/plain": [
       "                              title timeline  year  month  \\\n",
       "0  서울대 연구팀 또 표절 의혹 이종호 장관 아들 1저자 논문   before  2022      7   \n",
       "1        중부지방에 5 40 소나기 낮 최고 35도 폭염   before  2022      7   \n",
       "2           삼성 세계 첫 3나노 양산 TSMC 잡을까   before  2022      7   \n",
       "\n",
       "                                           sentences  \\\n",
       "0  ['거의 같은 문장 반복해서 등장서울대 연구진실성조사위원회 열어사진 한경DB서울대 ...   \n",
       "1  ['우산행렬 금요일인 1일은 늦은 오후부터 저녁 사이 중부지방을 중심으로 천둥 번개...   \n",
       "2  ['삼성전자가 세계 최초로 3나노 기술을 적용한 반도체를 생산하기 시작했습니다', ...   \n",
       "\n",
       "                                       summarization  \n",
       "0  ['거의 같은 문장 반복해서 등장서울대 연구진실성조사위원회 열어사진 한경DB서울대 ...  \n",
       "1  ['폭염특보가 발표된 일부 강원 영동 중 남부와 충청권 남부지방 제주도를 중심으로 ...  \n",
       "2  ['이곳에서 3나노미터 공정이 적용된 세계 최초의 반도체가 양산되기 시작했습니다',...  "
      ]
     },
     "execution_count": 2,
     "metadata": {},
     "output_type": "execute_result"
    }
   ],
   "source": [
    "data = pd.read_csv('/home/ryu/2023text/final/textrank_results_0605.csv')\n",
    "data.head(3)"
   ]
  },
  {
   "cell_type": "code",
   "execution_count": 3,
   "metadata": {},
   "outputs": [
    {
     "name": "stderr",
     "output_type": "stream",
     "text": [
      "/tmp/ipykernel_87548/436337807.py:1: FutureWarning: The default value of regex will change from True to False in a future version. In addition, single character regular expressions will *not* be treated as literal strings when regex=True.\n",
      "  data['summarization'] = data['summarization'].str.replace('[','').str.replace(']','').str.replace('\\'','')\n"
     ]
    }
   ],
   "source": [
    "data['summarization'] = data['summarization'].str.replace('[','').str.replace(']','').str.replace('\\'','')"
   ]
  },
  {
   "attachments": {},
   "cell_type": "markdown",
   "metadata": {},
   "source": [
    "## 불용어처리"
   ]
  },
  {
   "cell_type": "code",
   "execution_count": 4,
   "metadata": {},
   "outputs": [],
   "source": [
    "from konlpy.tag import Okt\n",
    "okt = Okt()"
   ]
  },
  {
   "cell_type": "code",
   "execution_count": 7,
   "metadata": {},
   "outputs": [
    {
     "data": {
      "text/plain": [
       "['하다', '있다', '등', '되다', '것', '수', '고', '를', '위', '돼다']"
      ]
     },
     "execution_count": 7,
     "metadata": {},
     "output_type": "execute_result"
    }
   ],
   "source": [
    "with open('/home/ryu/AInews_stopwords.txt') as f:\n",
    "    stopwords = []\n",
    "    while True:\n",
    "        stopword = f.readline().strip()\n",
    "        if not stopword: break\n",
    "        stopwords.append(stopword)\n",
    "\n",
    "stopwords[:10]"
   ]
  },
  {
   "cell_type": "code",
   "execution_count": 8,
   "metadata": {},
   "outputs": [],
   "source": [
    "def pos_tagging(news, which_tags):\n",
    "    tokens = []\n",
    "    pos_tag = okt.pos(news, stem=True)\n",
    "    for word, tag in pos_tag:\n",
    "        if tag in which_tags and word not in stopwords:\n",
    "            tokens.append(word)\n",
    "    \n",
    "    return tokens"
   ]
  },
  {
   "cell_type": "code",
   "execution_count": 9,
   "metadata": {},
   "outputs": [
    {
     "name": "stderr",
     "output_type": "stream",
     "text": [
      "100%|██████████| 39719/39719 [34:39<00:00, 19.10it/s]\n"
     ]
    },
    {
     "data": {
      "text/plain": [
       "0    [거의, 같다, 문장, 반복, 등장, 서울대, 연구, 진실성, 조사, 위원회, 열다...\n",
       "1    [폭염, 특보, 발표, 일부, 강원, 영동, 중, 남부, 충청권, 남부, 지방, 제...\n",
       "2    [곳, 나노미터, 공정, 적용, 세계, 최초, 반도체, 양산, 시작, 전자, 세계,...\n",
       "3    [신한은행, 따르다, 이번, 인사, 본점, 영업, 점, 장기, 근속, 직원, 순환,...\n",
       "4    [남이공, 대학교, 지난달, 제주도, 호텔, 골든, 데이지, 서귀포, 오션, 미래,...\n",
       "Name: tokenized, dtype: object"
      ]
     },
     "execution_count": 9,
     "metadata": {},
     "output_type": "execute_result"
    }
   ],
   "source": [
    "data['tokenized'] = data['summarization'].progress_apply(lambda x: pos_tagging(x, ['Adjective','Noun','Verb']))\n",
    "data['tokenized'].head()"
   ]
  },
  {
   "cell_type": "code",
   "execution_count": 10,
   "metadata": {},
   "outputs": [
    {
     "data": {
      "text/html": [
       "<div>\n",
       "<style scoped>\n",
       "    .dataframe tbody tr th:only-of-type {\n",
       "        vertical-align: middle;\n",
       "    }\n",
       "\n",
       "    .dataframe tbody tr th {\n",
       "        vertical-align: top;\n",
       "    }\n",
       "\n",
       "    .dataframe thead th {\n",
       "        text-align: right;\n",
       "    }\n",
       "</style>\n",
       "<table border=\"1\" class=\"dataframe\">\n",
       "  <thead>\n",
       "    <tr style=\"text-align: right;\">\n",
       "      <th></th>\n",
       "      <th>title</th>\n",
       "      <th>timeline</th>\n",
       "      <th>year</th>\n",
       "      <th>month</th>\n",
       "      <th>sentences</th>\n",
       "      <th>summarization</th>\n",
       "      <th>tokenized</th>\n",
       "    </tr>\n",
       "  </thead>\n",
       "  <tbody>\n",
       "    <tr>\n",
       "      <th>0</th>\n",
       "      <td>서울대 연구팀 또 표절 의혹 이종호 장관 아들 1저자 논문</td>\n",
       "      <td>before</td>\n",
       "      <td>2022</td>\n",
       "      <td>7</td>\n",
       "      <td>['거의 같은 문장 반복해서 등장서울대 연구진실성조사위원회 열어사진 한경DB서울대 ...</td>\n",
       "      <td>거의 같은 문장 반복해서 등장서울대 연구진실성조사위원회 열어사진 한경DB서울대 인공...</td>\n",
       "      <td>[거의, 같다, 문장, 반복, 등장, 서울대, 연구, 진실성, 조사, 위원회, 열다...</td>\n",
       "    </tr>\n",
       "    <tr>\n",
       "      <th>1</th>\n",
       "      <td>중부지방에 5 40 소나기 낮 최고 35도 폭염</td>\n",
       "      <td>before</td>\n",
       "      <td>2022</td>\n",
       "      <td>7</td>\n",
       "      <td>['우산행렬 금요일인 1일은 늦은 오후부터 저녁 사이 중부지방을 중심으로 천둥 번개...</td>\n",
       "      <td>폭염특보가 발표된 일부 강원 영동 중 남부와 충청권 남부지방 제주도를 중심으로 최고...</td>\n",
       "      <td>[폭염, 특보, 발표, 일부, 강원, 영동, 중, 남부, 충청권, 남부, 지방, 제...</td>\n",
       "    </tr>\n",
       "    <tr>\n",
       "      <th>2</th>\n",
       "      <td>삼성 세계 첫 3나노 양산 TSMC 잡을까</td>\n",
       "      <td>before</td>\n",
       "      <td>2022</td>\n",
       "      <td>7</td>\n",
       "      <td>['삼성전자가 세계 최초로 3나노 기술을 적용한 반도체를 생산하기 시작했습니다', ...</td>\n",
       "      <td>이곳에서 3나노미터 공정이 적용된 세계 최초의 반도체가 양산되기 시작했습니다, 삼성...</td>\n",
       "      <td>[곳, 나노미터, 공정, 적용, 세계, 최초, 반도체, 양산, 시작, 전자, 세계,...</td>\n",
       "    </tr>\n",
       "    <tr>\n",
       "      <th>3</th>\n",
       "      <td>신한은행 ESG본부 신설 하반기 정기 인사</td>\n",
       "      <td>before</td>\n",
       "      <td>2022</td>\n",
       "      <td>7</td>\n",
       "      <td>['AI 인사 업그레이드 금융사고 예방 위해 장기근속 직원 순환근무 신한은행은 1일...</td>\n",
       "      <td>신한은행에 따르면 이번 인사는 본점 영업점 장기근속 직원의 순환 근무를 통해 각종 ...</td>\n",
       "      <td>[신한은행, 따르다, 이번, 인사, 본점, 영업, 점, 장기, 근속, 직원, 순환,...</td>\n",
       "    </tr>\n",
       "    <tr>\n",
       "      <th>4</th>\n",
       "      <td>영남이공대 미래 신산업 수요특화형 AI IoT 교육</td>\n",
       "      <td>before</td>\n",
       "      <td>2022</td>\n",
       "      <td>7</td>\n",
       "      <td>['영남이공대학교는 지난달 27일부터 7월1일까지 제주도 호텔골든데이지 서귀포오션에...</td>\n",
       "      <td>영남이공대학교는 지난달 27일부터 7월1일까지 제주도 호텔골든데이지 서귀포오션에서 ...</td>\n",
       "      <td>[남이공, 대학교, 지난달, 제주도, 호텔, 골든, 데이지, 서귀포, 오션, 미래,...</td>\n",
       "    </tr>\n",
       "  </tbody>\n",
       "</table>\n",
       "</div>"
      ],
      "text/plain": [
       "                              title timeline  year  month  \\\n",
       "0  서울대 연구팀 또 표절 의혹 이종호 장관 아들 1저자 논문   before  2022      7   \n",
       "1        중부지방에 5 40 소나기 낮 최고 35도 폭염   before  2022      7   \n",
       "2           삼성 세계 첫 3나노 양산 TSMC 잡을까   before  2022      7   \n",
       "3           신한은행 ESG본부 신설 하반기 정기 인사   before  2022      7   \n",
       "4      영남이공대 미래 신산업 수요특화형 AI IoT 교육   before  2022      7   \n",
       "\n",
       "                                           sentences  \\\n",
       "0  ['거의 같은 문장 반복해서 등장서울대 연구진실성조사위원회 열어사진 한경DB서울대 ...   \n",
       "1  ['우산행렬 금요일인 1일은 늦은 오후부터 저녁 사이 중부지방을 중심으로 천둥 번개...   \n",
       "2  ['삼성전자가 세계 최초로 3나노 기술을 적용한 반도체를 생산하기 시작했습니다', ...   \n",
       "3  ['AI 인사 업그레이드 금융사고 예방 위해 장기근속 직원 순환근무 신한은행은 1일...   \n",
       "4  ['영남이공대학교는 지난달 27일부터 7월1일까지 제주도 호텔골든데이지 서귀포오션에...   \n",
       "\n",
       "                                       summarization  \\\n",
       "0  거의 같은 문장 반복해서 등장서울대 연구진실성조사위원회 열어사진 한경DB서울대 인공...   \n",
       "1  폭염특보가 발표된 일부 강원 영동 중 남부와 충청권 남부지방 제주도를 중심으로 최고...   \n",
       "2  이곳에서 3나노미터 공정이 적용된 세계 최초의 반도체가 양산되기 시작했습니다, 삼성...   \n",
       "3  신한은행에 따르면 이번 인사는 본점 영업점 장기근속 직원의 순환 근무를 통해 각종 ...   \n",
       "4  영남이공대학교는 지난달 27일부터 7월1일까지 제주도 호텔골든데이지 서귀포오션에서 ...   \n",
       "\n",
       "                                           tokenized  \n",
       "0  [거의, 같다, 문장, 반복, 등장, 서울대, 연구, 진실성, 조사, 위원회, 열다...  \n",
       "1  [폭염, 특보, 발표, 일부, 강원, 영동, 중, 남부, 충청권, 남부, 지방, 제...  \n",
       "2  [곳, 나노미터, 공정, 적용, 세계, 최초, 반도체, 양산, 시작, 전자, 세계,...  \n",
       "3  [신한은행, 따르다, 이번, 인사, 본점, 영업, 점, 장기, 근속, 직원, 순환,...  \n",
       "4  [남이공, 대학교, 지난달, 제주도, 호텔, 골든, 데이지, 서귀포, 오션, 미래,...  "
      ]
     },
     "execution_count": 10,
     "metadata": {},
     "output_type": "execute_result"
    }
   ],
   "source": [
    "data.head()"
   ]
  },
  {
   "cell_type": "code",
   "execution_count": 11,
   "metadata": {},
   "outputs": [],
   "source": [
    "data.to_csv('/home/ryu/2023text/final/lda_tokens.csv', index=False)"
   ]
  },
  {
   "cell_type": "code",
   "execution_count": 27,
   "metadata": {},
   "outputs": [
    {
     "data": {
      "text/html": [
       "<div>\n",
       "<style scoped>\n",
       "    .dataframe tbody tr th:only-of-type {\n",
       "        vertical-align: middle;\n",
       "    }\n",
       "\n",
       "    .dataframe tbody tr th {\n",
       "        vertical-align: top;\n",
       "    }\n",
       "\n",
       "    .dataframe thead th {\n",
       "        text-align: right;\n",
       "    }\n",
       "</style>\n",
       "<table border=\"1\" class=\"dataframe\">\n",
       "  <thead>\n",
       "    <tr style=\"text-align: right;\">\n",
       "      <th></th>\n",
       "      <th>title</th>\n",
       "      <th>timeline</th>\n",
       "      <th>year</th>\n",
       "      <th>month</th>\n",
       "      <th>sentences</th>\n",
       "      <th>summarization</th>\n",
       "      <th>filtered_texts</th>\n",
       "    </tr>\n",
       "  </thead>\n",
       "  <tbody>\n",
       "    <tr>\n",
       "      <th>0</th>\n",
       "      <td>서울대 연구팀 또 표절 의혹 이종호 장관 아들 1저자 논문</td>\n",
       "      <td>before</td>\n",
       "      <td>2022</td>\n",
       "      <td>7</td>\n",
       "      <td>['거의 같은 문장 반복해서 등장서울대 연구진실성조사위원회 열어사진 한경DB서울대 ...</td>\n",
       "      <td>거의 같은 문장 반복해서 등장서울대 연구진실성조사위원회 열어사진 한경DB서울대 인공...</td>\n",
       "      <td>거의 문장 반복 등장 서울대 연구 진실성 조사 위원회 열다 사진 한경 서울대 팀 표...</td>\n",
       "    </tr>\n",
       "    <tr>\n",
       "      <th>1</th>\n",
       "      <td>중부지방에 5 40 소나기 낮 최고 35도 폭염</td>\n",
       "      <td>before</td>\n",
       "      <td>2022</td>\n",
       "      <td>7</td>\n",
       "      <td>['우산행렬 금요일인 1일은 늦은 오후부터 저녁 사이 중부지방을 중심으로 천둥 번개...</td>\n",
       "      <td>폭염특보가 발표된 일부 강원 영동 중 남부와 충청권 남부지방 제주도를 중심으로 최고...</td>\n",
       "      <td>폭염 특보 발표 일부 강원 영동 중 남부 충청권 남부 지방 제주도 중심 최고 체감온...</td>\n",
       "    </tr>\n",
       "    <tr>\n",
       "      <th>2</th>\n",
       "      <td>삼성 세계 첫 3나노 양산 TSMC 잡을까</td>\n",
       "      <td>before</td>\n",
       "      <td>2022</td>\n",
       "      <td>7</td>\n",
       "      <td>['삼성전자가 세계 최초로 3나노 기술을 적용한 반도체를 생산하기 시작했습니다', ...</td>\n",
       "      <td>이곳에서 3나노미터 공정이 적용된 세계 최초의 반도체가 양산되기 시작했습니다, 삼성...</td>\n",
       "      <td>곳 나노미터 공정 적용 세계 최초 반도체 양산 시작 전자 세계 최초 나노 적용 반도...</td>\n",
       "    </tr>\n",
       "    <tr>\n",
       "      <th>3</th>\n",
       "      <td>신한은행 ESG본부 신설 하반기 정기 인사</td>\n",
       "      <td>before</td>\n",
       "      <td>2022</td>\n",
       "      <td>7</td>\n",
       "      <td>['AI 인사 업그레이드 금융사고 예방 위해 장기근속 직원 순환근무 신한은행은 1일...</td>\n",
       "      <td>신한은행에 따르면 이번 인사는 본점 영업점 장기근속 직원의 순환 근무를 통해 각종 ...</td>\n",
       "      <td>신한은행 따르다 이번 인사 본점 영업 점 장기 근속 직원 순환 근무 각종 금융 사고...</td>\n",
       "    </tr>\n",
       "    <tr>\n",
       "      <th>4</th>\n",
       "      <td>영남이공대 미래 신산업 수요특화형 AI IoT 교육</td>\n",
       "      <td>before</td>\n",
       "      <td>2022</td>\n",
       "      <td>7</td>\n",
       "      <td>['영남이공대학교는 지난달 27일부터 7월1일까지 제주도 호텔골든데이지 서귀포오션에...</td>\n",
       "      <td>영남이공대학교는 지난달 27일부터 7월1일까지 제주도 호텔골든데이지 서귀포오션에서 ...</td>\n",
       "      <td>남이공 대학교 지난달 제주도 호텔 골든 데이지 서귀포 오션 미래 산업 수요 특 화형...</td>\n",
       "    </tr>\n",
       "  </tbody>\n",
       "</table>\n",
       "</div>"
      ],
      "text/plain": [
       "                              title timeline  year  month  \\\n",
       "0  서울대 연구팀 또 표절 의혹 이종호 장관 아들 1저자 논문   before  2022      7   \n",
       "1        중부지방에 5 40 소나기 낮 최고 35도 폭염   before  2022      7   \n",
       "2           삼성 세계 첫 3나노 양산 TSMC 잡을까   before  2022      7   \n",
       "3           신한은행 ESG본부 신설 하반기 정기 인사   before  2022      7   \n",
       "4      영남이공대 미래 신산업 수요특화형 AI IoT 교육   before  2022      7   \n",
       "\n",
       "                                           sentences  \\\n",
       "0  ['거의 같은 문장 반복해서 등장서울대 연구진실성조사위원회 열어사진 한경DB서울대 ...   \n",
       "1  ['우산행렬 금요일인 1일은 늦은 오후부터 저녁 사이 중부지방을 중심으로 천둥 번개...   \n",
       "2  ['삼성전자가 세계 최초로 3나노 기술을 적용한 반도체를 생산하기 시작했습니다', ...   \n",
       "3  ['AI 인사 업그레이드 금융사고 예방 위해 장기근속 직원 순환근무 신한은행은 1일...   \n",
       "4  ['영남이공대학교는 지난달 27일부터 7월1일까지 제주도 호텔골든데이지 서귀포오션에...   \n",
       "\n",
       "                                       summarization  \\\n",
       "0  거의 같은 문장 반복해서 등장서울대 연구진실성조사위원회 열어사진 한경DB서울대 인공...   \n",
       "1  폭염특보가 발표된 일부 강원 영동 중 남부와 충청권 남부지방 제주도를 중심으로 최고...   \n",
       "2  이곳에서 3나노미터 공정이 적용된 세계 최초의 반도체가 양산되기 시작했습니다, 삼성...   \n",
       "3  신한은행에 따르면 이번 인사는 본점 영업점 장기근속 직원의 순환 근무를 통해 각종 ...   \n",
       "4  영남이공대학교는 지난달 27일부터 7월1일까지 제주도 호텔골든데이지 서귀포오션에서 ...   \n",
       "\n",
       "                                      filtered_texts  \n",
       "0  거의 문장 반복 등장 서울대 연구 진실성 조사 위원회 열다 사진 한경 서울대 팀 표...  \n",
       "1  폭염 특보 발표 일부 강원 영동 중 남부 충청권 남부 지방 제주도 중심 최고 체감온...  \n",
       "2  곳 나노미터 공정 적용 세계 최초 반도체 양산 시작 전자 세계 최초 나노 적용 반도...  \n",
       "3  신한은행 따르다 이번 인사 본점 영업 점 장기 근속 직원 순환 근무 각종 금융 사고...  \n",
       "4  남이공 대학교 지난달 제주도 호텔 골든 데이지 서귀포 오션 미래 산업 수요 특 화형...  "
      ]
     },
     "execution_count": 27,
     "metadata": {},
     "output_type": "execute_result"
    }
   ],
   "source": [
    "# tokenization 처리 된 데이터 가져와서 리스트 형식으로 바꾸기\n",
    "data = pd.read_csv('/home/ryu/2023text/final/processed_for_topic_0618.csv')\n",
    "data.head()"
   ]
  },
  {
   "cell_type": "code",
   "execution_count": 28,
   "metadata": {},
   "outputs": [],
   "source": [
    "def to_list(text):\n",
    "    tokens = text.split(' ')\n",
    "    return tokens"
   ]
  },
  {
   "cell_type": "code",
   "execution_count": 29,
   "metadata": {},
   "outputs": [
    {
     "name": "stderr",
     "output_type": "stream",
     "text": [
      "100%|██████████| 39719/39719 [00:01<00:00, 35384.57it/s]\n"
     ]
    },
    {
     "data": {
      "text/html": [
       "<div>\n",
       "<style scoped>\n",
       "    .dataframe tbody tr th:only-of-type {\n",
       "        vertical-align: middle;\n",
       "    }\n",
       "\n",
       "    .dataframe tbody tr th {\n",
       "        vertical-align: top;\n",
       "    }\n",
       "\n",
       "    .dataframe thead th {\n",
       "        text-align: right;\n",
       "    }\n",
       "</style>\n",
       "<table border=\"1\" class=\"dataframe\">\n",
       "  <thead>\n",
       "    <tr style=\"text-align: right;\">\n",
       "      <th></th>\n",
       "      <th>title</th>\n",
       "      <th>timeline</th>\n",
       "      <th>year</th>\n",
       "      <th>month</th>\n",
       "      <th>sentences</th>\n",
       "      <th>summarization</th>\n",
       "      <th>filtered_texts</th>\n",
       "      <th>tokenized</th>\n",
       "    </tr>\n",
       "  </thead>\n",
       "  <tbody>\n",
       "    <tr>\n",
       "      <th>0</th>\n",
       "      <td>서울대 연구팀 또 표절 의혹 이종호 장관 아들 1저자 논문</td>\n",
       "      <td>before</td>\n",
       "      <td>2022</td>\n",
       "      <td>7</td>\n",
       "      <td>['거의 같은 문장 반복해서 등장서울대 연구진실성조사위원회 열어사진 한경DB서울대 ...</td>\n",
       "      <td>거의 같은 문장 반복해서 등장서울대 연구진실성조사위원회 열어사진 한경DB서울대 인공...</td>\n",
       "      <td>거의 문장 반복 등장 서울대 연구 진실성 조사 위원회 열다 사진 한경 서울대 팀 표...</td>\n",
       "      <td>[거의, 문장, 반복, 등장, 서울대, 연구, 진실성, 조사, 위원회, 열다, 사진...</td>\n",
       "    </tr>\n",
       "    <tr>\n",
       "      <th>1</th>\n",
       "      <td>중부지방에 5 40 소나기 낮 최고 35도 폭염</td>\n",
       "      <td>before</td>\n",
       "      <td>2022</td>\n",
       "      <td>7</td>\n",
       "      <td>['우산행렬 금요일인 1일은 늦은 오후부터 저녁 사이 중부지방을 중심으로 천둥 번개...</td>\n",
       "      <td>폭염특보가 발표된 일부 강원 영동 중 남부와 충청권 남부지방 제주도를 중심으로 최고...</td>\n",
       "      <td>폭염 특보 발표 일부 강원 영동 중 남부 충청권 남부 지방 제주도 중심 최고 체감온...</td>\n",
       "      <td>[폭염, 특보, 발표, 일부, 강원, 영동, 중, 남부, 충청권, 남부, 지방, 제...</td>\n",
       "    </tr>\n",
       "    <tr>\n",
       "      <th>2</th>\n",
       "      <td>삼성 세계 첫 3나노 양산 TSMC 잡을까</td>\n",
       "      <td>before</td>\n",
       "      <td>2022</td>\n",
       "      <td>7</td>\n",
       "      <td>['삼성전자가 세계 최초로 3나노 기술을 적용한 반도체를 생산하기 시작했습니다', ...</td>\n",
       "      <td>이곳에서 3나노미터 공정이 적용된 세계 최초의 반도체가 양산되기 시작했습니다, 삼성...</td>\n",
       "      <td>곳 나노미터 공정 적용 세계 최초 반도체 양산 시작 전자 세계 최초 나노 적용 반도...</td>\n",
       "      <td>[곳, 나노미터, 공정, 적용, 세계, 최초, 반도체, 양산, 시작, 전자, 세계,...</td>\n",
       "    </tr>\n",
       "    <tr>\n",
       "      <th>3</th>\n",
       "      <td>신한은행 ESG본부 신설 하반기 정기 인사</td>\n",
       "      <td>before</td>\n",
       "      <td>2022</td>\n",
       "      <td>7</td>\n",
       "      <td>['AI 인사 업그레이드 금융사고 예방 위해 장기근속 직원 순환근무 신한은행은 1일...</td>\n",
       "      <td>신한은행에 따르면 이번 인사는 본점 영업점 장기근속 직원의 순환 근무를 통해 각종 ...</td>\n",
       "      <td>신한은행 따르다 이번 인사 본점 영업 점 장기 근속 직원 순환 근무 각종 금융 사고...</td>\n",
       "      <td>[신한은행, 따르다, 이번, 인사, 본점, 영업, 점, 장기, 근속, 직원, 순환,...</td>\n",
       "    </tr>\n",
       "    <tr>\n",
       "      <th>4</th>\n",
       "      <td>영남이공대 미래 신산업 수요특화형 AI IoT 교육</td>\n",
       "      <td>before</td>\n",
       "      <td>2022</td>\n",
       "      <td>7</td>\n",
       "      <td>['영남이공대학교는 지난달 27일부터 7월1일까지 제주도 호텔골든데이지 서귀포오션에...</td>\n",
       "      <td>영남이공대학교는 지난달 27일부터 7월1일까지 제주도 호텔골든데이지 서귀포오션에서 ...</td>\n",
       "      <td>남이공 대학교 지난달 제주도 호텔 골든 데이지 서귀포 오션 미래 산업 수요 특 화형...</td>\n",
       "      <td>[남이공, 대학교, 지난달, 제주도, 호텔, 골든, 데이지, 서귀포, 오션, 미래,...</td>\n",
       "    </tr>\n",
       "  </tbody>\n",
       "</table>\n",
       "</div>"
      ],
      "text/plain": [
       "                              title timeline  year  month  \\\n",
       "0  서울대 연구팀 또 표절 의혹 이종호 장관 아들 1저자 논문   before  2022      7   \n",
       "1        중부지방에 5 40 소나기 낮 최고 35도 폭염   before  2022      7   \n",
       "2           삼성 세계 첫 3나노 양산 TSMC 잡을까   before  2022      7   \n",
       "3           신한은행 ESG본부 신설 하반기 정기 인사   before  2022      7   \n",
       "4      영남이공대 미래 신산업 수요특화형 AI IoT 교육   before  2022      7   \n",
       "\n",
       "                                           sentences  \\\n",
       "0  ['거의 같은 문장 반복해서 등장서울대 연구진실성조사위원회 열어사진 한경DB서울대 ...   \n",
       "1  ['우산행렬 금요일인 1일은 늦은 오후부터 저녁 사이 중부지방을 중심으로 천둥 번개...   \n",
       "2  ['삼성전자가 세계 최초로 3나노 기술을 적용한 반도체를 생산하기 시작했습니다', ...   \n",
       "3  ['AI 인사 업그레이드 금융사고 예방 위해 장기근속 직원 순환근무 신한은행은 1일...   \n",
       "4  ['영남이공대학교는 지난달 27일부터 7월1일까지 제주도 호텔골든데이지 서귀포오션에...   \n",
       "\n",
       "                                       summarization  \\\n",
       "0  거의 같은 문장 반복해서 등장서울대 연구진실성조사위원회 열어사진 한경DB서울대 인공...   \n",
       "1  폭염특보가 발표된 일부 강원 영동 중 남부와 충청권 남부지방 제주도를 중심으로 최고...   \n",
       "2  이곳에서 3나노미터 공정이 적용된 세계 최초의 반도체가 양산되기 시작했습니다, 삼성...   \n",
       "3  신한은행에 따르면 이번 인사는 본점 영업점 장기근속 직원의 순환 근무를 통해 각종 ...   \n",
       "4  영남이공대학교는 지난달 27일부터 7월1일까지 제주도 호텔골든데이지 서귀포오션에서 ...   \n",
       "\n",
       "                                      filtered_texts  \\\n",
       "0  거의 문장 반복 등장 서울대 연구 진실성 조사 위원회 열다 사진 한경 서울대 팀 표...   \n",
       "1  폭염 특보 발표 일부 강원 영동 중 남부 충청권 남부 지방 제주도 중심 최고 체감온...   \n",
       "2  곳 나노미터 공정 적용 세계 최초 반도체 양산 시작 전자 세계 최초 나노 적용 반도...   \n",
       "3  신한은행 따르다 이번 인사 본점 영업 점 장기 근속 직원 순환 근무 각종 금융 사고...   \n",
       "4  남이공 대학교 지난달 제주도 호텔 골든 데이지 서귀포 오션 미래 산업 수요 특 화형...   \n",
       "\n",
       "                                           tokenized  \n",
       "0  [거의, 문장, 반복, 등장, 서울대, 연구, 진실성, 조사, 위원회, 열다, 사진...  \n",
       "1  [폭염, 특보, 발표, 일부, 강원, 영동, 중, 남부, 충청권, 남부, 지방, 제...  \n",
       "2  [곳, 나노미터, 공정, 적용, 세계, 최초, 반도체, 양산, 시작, 전자, 세계,...  \n",
       "3  [신한은행, 따르다, 이번, 인사, 본점, 영업, 점, 장기, 근속, 직원, 순환,...  \n",
       "4  [남이공, 대학교, 지난달, 제주도, 호텔, 골든, 데이지, 서귀포, 오션, 미래,...  "
      ]
     },
     "execution_count": 29,
     "metadata": {},
     "output_type": "execute_result"
    }
   ],
   "source": [
    "data['tokenized'] = data['filtered_texts'].progress_apply(lambda x: to_list(x))\n",
    "data.head()"
   ]
  },
  {
   "cell_type": "code",
   "execution_count": 30,
   "metadata": {},
   "outputs": [
    {
     "data": {
      "text/html": [
       "<div>\n",
       "<style scoped>\n",
       "    .dataframe tbody tr th:only-of-type {\n",
       "        vertical-align: middle;\n",
       "    }\n",
       "\n",
       "    .dataframe tbody tr th {\n",
       "        vertical-align: top;\n",
       "    }\n",
       "\n",
       "    .dataframe thead th {\n",
       "        text-align: right;\n",
       "    }\n",
       "</style>\n",
       "<table border=\"1\" class=\"dataframe\">\n",
       "  <thead>\n",
       "    <tr style=\"text-align: right;\">\n",
       "      <th></th>\n",
       "      <th>title</th>\n",
       "      <th>timeline</th>\n",
       "      <th>year</th>\n",
       "      <th>month</th>\n",
       "      <th>sentences</th>\n",
       "      <th>summarization</th>\n",
       "      <th>filtered_texts</th>\n",
       "      <th>tokenized</th>\n",
       "    </tr>\n",
       "  </thead>\n",
       "  <tbody>\n",
       "    <tr>\n",
       "      <th>18775</th>\n",
       "      <td>뿌리부터 튼튼한 인공지능 인재 양성 광주전략회의 첫 개최</td>\n",
       "      <td>after</td>\n",
       "      <td>2022</td>\n",
       "      <td>11</td>\n",
       "      <td>['기사내용 요약광주시 시의회 교육청이 함께하는 최고 정책논의 플랫폼 가동 강기정 ...</td>\n",
       "      <td>광주시는 지난 29일 오후 남구 송하동 광주실감콘텐츠큐브에서 제1회 광주전략회의를 ...</td>\n",
       "      <td>광주시 지난 오후 남구 송하동 광주 실감 콘텐츠 큐브 광주 전략 회의 열다 의회 의...</td>\n",
       "      <td>[광주시, 지난, 오후, 남구, 송하동, 광주, 실감, 콘텐츠, 큐브, 광주, 전략...</td>\n",
       "    </tr>\n",
       "    <tr>\n",
       "      <th>18776</th>\n",
       "      <td>UNIST 울주군 인공지능 미래인재 탄생</td>\n",
       "      <td>after</td>\n",
       "      <td>2022</td>\n",
       "      <td>11</td>\n",
       "      <td>['6개월간 대장정 인공지능 프로젝트 결과 발표울주군 1 2학년 고등학생 UNIST...</td>\n",
       "      <td>xx0 Studio는 울주군 소재 고등학교 1 2학년 학생들을 대상으로 UNIST ...</td>\n",
       "      <td>늘다 울주군 소재 고등학교 학년 학생 대상 재학생 멘토 교육 실습 제공 프로그램 월...</td>\n",
       "      <td>[늘다, 울주군, 소재, 고등학교, 학년, 학생, 대상, 재학생, 멘토, 교육, 실...</td>\n",
       "    </tr>\n",
       "    <tr>\n",
       "      <th>18777</th>\n",
       "      <td>인공지능은 새로운 장르의 음악을 창조할 수 있을까</td>\n",
       "      <td>after</td>\n",
       "      <td>2022</td>\n",
       "      <td>11</td>\n",
       "      <td>['지식인싸 들의 프리미엄 지식레시피 지식구독플랫폼 스브스프리미엄 스프입니다', '...</td>\n",
       "      <td>월드컵에서 독일이 절대 강자인 건 바로 이것 축구에서 승부를 가리는 최후의 수단인 ...</td>\n",
       "      <td>월드컵 독일 절대 강 건 바로 축구 승부 가리다 최후 수단 승부차기 흔하다 러시안룰...</td>\n",
       "      <td>[월드컵, 독일, 절대, 강, 건, 바로, 축구, 승부, 가리다, 최후, 수단, 승...</td>\n",
       "    </tr>\n",
       "    <tr>\n",
       "      <th>18778</th>\n",
       "      <td>네이버 서비스 출시 과정서 인공지능 윤리 적용 강화한다</td>\n",
       "      <td>after</td>\n",
       "      <td>2022</td>\n",
       "      <td>11</td>\n",
       "      <td>['서울대와 협업한 AI 윤리 자문 프로세스 CHEC 공개네이버가 지난해에 이어 지...</td>\n",
       "      <td>박우철 리더는 네이버 서비스 출시 과정에서 AI 윤리 준칙 적용을 강화하기 위한 네...</td>\n",
       "      <td>박우철 리더 네이버 출시 과정 윤리 준칙 적용 강화하다 네이버 윤리 자문 프로세스 ...</td>\n",
       "      <td>[박우철, 리더, 네이버, 출시, 과정, 윤리, 준칙, 적용, 강화하다, 네이버, ...</td>\n",
       "    </tr>\n",
       "    <tr>\n",
       "      <th>18779</th>\n",
       "      <td>인공지능 언어 능력 평가 대상에 가천대학교 1인 1메뉴 팀</td>\n",
       "      <td>after</td>\n",
       "      <td>2022</td>\n",
       "      <td>11</td>\n",
       "      <td>['29일 열린 시상식 모습 국립국어원은 올해 인공지능 언어 능력 평가 대회 에서 ...</td>\n",
       "      <td>29일 열린 시상식 모습 국립국어원은 올해 인공지능 언어 능력 평가 대회 에서 가천...</td>\n",
       "      <td>열리다 시상식 모습 국립국어원 올해 언어 능력 평가 대회 가천대 학교 인 메뉴 팀 ...</td>\n",
       "      <td>[열리다, 시상식, 모습, 국립국어원, 올해, 언어, 능력, 평가, 대회, 가천대,...</td>\n",
       "    </tr>\n",
       "  </tbody>\n",
       "</table>\n",
       "</div>"
      ],
      "text/plain": [
       "                                  title timeline  year  month  \\\n",
       "18775   뿌리부터 튼튼한 인공지능 인재 양성 광주전략회의 첫 개최    after  2022     11   \n",
       "18776            UNIST 울주군 인공지능 미래인재 탄생    after  2022     11   \n",
       "18777       인공지능은 새로운 장르의 음악을 창조할 수 있을까    after  2022     11   \n",
       "18778    네이버 서비스 출시 과정서 인공지능 윤리 적용 강화한다    after  2022     11   \n",
       "18779  인공지능 언어 능력 평가 대상에 가천대학교 1인 1메뉴 팀    after  2022     11   \n",
       "\n",
       "                                               sentences  \\\n",
       "18775  ['기사내용 요약광주시 시의회 교육청이 함께하는 최고 정책논의 플랫폼 가동 강기정 ...   \n",
       "18776  ['6개월간 대장정 인공지능 프로젝트 결과 발표울주군 1 2학년 고등학생 UNIST...   \n",
       "18777  ['지식인싸 들의 프리미엄 지식레시피 지식구독플랫폼 스브스프리미엄 스프입니다', '...   \n",
       "18778  ['서울대와 협업한 AI 윤리 자문 프로세스 CHEC 공개네이버가 지난해에 이어 지...   \n",
       "18779  ['29일 열린 시상식 모습 국립국어원은 올해 인공지능 언어 능력 평가 대회 에서 ...   \n",
       "\n",
       "                                           summarization  \\\n",
       "18775  광주시는 지난 29일 오후 남구 송하동 광주실감콘텐츠큐브에서 제1회 광주전략회의를 ...   \n",
       "18776  xx0 Studio는 울주군 소재 고등학교 1 2학년 학생들을 대상으로 UNIST ...   \n",
       "18777  월드컵에서 독일이 절대 강자인 건 바로 이것 축구에서 승부를 가리는 최후의 수단인 ...   \n",
       "18778  박우철 리더는 네이버 서비스 출시 과정에서 AI 윤리 준칙 적용을 강화하기 위한 네...   \n",
       "18779  29일 열린 시상식 모습 국립국어원은 올해 인공지능 언어 능력 평가 대회 에서 가천...   \n",
       "\n",
       "                                          filtered_texts  \\\n",
       "18775  광주시 지난 오후 남구 송하동 광주 실감 콘텐츠 큐브 광주 전략 회의 열다 의회 의...   \n",
       "18776  늘다 울주군 소재 고등학교 학년 학생 대상 재학생 멘토 교육 실습 제공 프로그램 월...   \n",
       "18777  월드컵 독일 절대 강 건 바로 축구 승부 가리다 최후 수단 승부차기 흔하다 러시안룰...   \n",
       "18778  박우철 리더 네이버 출시 과정 윤리 준칙 적용 강화하다 네이버 윤리 자문 프로세스 ...   \n",
       "18779  열리다 시상식 모습 국립국어원 올해 언어 능력 평가 대회 가천대 학교 인 메뉴 팀 ...   \n",
       "\n",
       "                                               tokenized  \n",
       "18775  [광주시, 지난, 오후, 남구, 송하동, 광주, 실감, 콘텐츠, 큐브, 광주, 전략...  \n",
       "18776  [늘다, 울주군, 소재, 고등학교, 학년, 학생, 대상, 재학생, 멘토, 교육, 실...  \n",
       "18777  [월드컵, 독일, 절대, 강, 건, 바로, 축구, 승부, 가리다, 최후, 수단, 승...  \n",
       "18778  [박우철, 리더, 네이버, 출시, 과정, 윤리, 준칙, 적용, 강화하다, 네이버, ...  \n",
       "18779  [열리다, 시상식, 모습, 국립국어원, 올해, 언어, 능력, 평가, 대회, 가천대,...  "
      ]
     },
     "execution_count": 30,
     "metadata": {},
     "output_type": "execute_result"
    }
   ],
   "source": [
    "data = data[data['timeline']=='after']\n",
    "data.head()"
   ]
  },
  {
   "cell_type": "code",
   "execution_count": 31,
   "metadata": {},
   "outputs": [
    {
     "data": {
      "text/plain": [
       "20944"
      ]
     },
     "execution_count": 31,
     "metadata": {},
     "output_type": "execute_result"
    }
   ],
   "source": [
    "len(data)"
   ]
  },
  {
   "cell_type": "code",
   "execution_count": 32,
   "metadata": {},
   "outputs": [
    {
     "name": "stdout",
     "output_type": "stream",
     "text": [
      "[(0, 1), (1, 1), (2, 1), (3, 1), (4, 5), (5, 5), (6, 1), (7, 2), (8, 1), (9, 1), (10, 1), (11, 1), (12, 2), (13, 1), (14, 1), (15, 1), (16, 1), (17, 2), (18, 1), (19, 5), (20, 2), (21, 2), (22, 1), (23, 2), (24, 1), (25, 1), (26, 1), (27, 1), (28, 1), (29, 1), (30, 1), (31, 1), (32, 1), (33, 1), (34, 3), (35, 2), (36, 2), (37, 1), (38, 1), (39, 1), (40, 1), (41, 2), (42, 1), (43, 1), (44, 7), (45, 1), (46, 1), (47, 2), (48, 1), (49, 1), (50, 2), (51, 2), (52, 1), (53, 1), (54, 1), (55, 2), (56, 3), (57, 1), (58, 1), (59, 1), (60, 7), (61, 3), (62, 1), (63, 1), (64, 2), (65, 1), (66, 2), (67, 2), (68, 1), (69, 1), (70, 1), (71, 2), (72, 2), (73, 1), (74, 1), (75, 1), (76, 1), (77, 2), (78, 1), (79, 1), (80, 2), (81, 1), (82, 2), (83, 1), (84, 1), (85, 1), (86, 2), (87, 1), (88, 6), (89, 1)]\n"
     ]
    }
   ],
   "source": [
    "# 데이터를 모델 input에 맞게 변환\n",
    "dictionary = corpora.Dictionary(data['tokenized']) # 각 단어에 번호 할당\n",
    "dictionary.filter_extremes(no_below=10, no_above=0.9) # 10개의 문서 미만으로 등장하는 단어는 제외, 전체의 90% 이상으로 자주 등장하는 단어는 제외\n",
    "corpus = [dictionary.doc2bow(text) for text in data['tokenized']]\n",
    "print(corpus[0])"
   ]
  },
  {
   "cell_type": "code",
   "execution_count": 33,
   "metadata": {},
   "outputs": [
    {
     "name": "stdout",
     "output_type": "stream",
     "text": [
      "중등\n"
     ]
    }
   ],
   "source": [
    "# 번호 할당 잘 되었는지 확인\n",
    "print(dictionary[66])"
   ]
  },
  {
   "cell_type": "code",
   "execution_count": 34,
   "metadata": {},
   "outputs": [],
   "source": [
    "# Compute Coherence Score\n",
    "def compute_values(dictionary,corpus,texts,limit,start=2,step=3):\n",
    "    '''\n",
    "    - coherence_score\n",
    "    의미 : 토픽이 얼마나 의미론적으로 일관성 있는지 판단. 높을수록 의미론적 일관성 높음\n",
    "    주 용도 : 해당 모델이 얼마나 실제로 의미 있는 결과를 내는지 확인\n",
    "    '''\n",
    "    coherence_values=[]\n",
    "    model_list=[]\n",
    "    for num_topics in tqdm(range(start,limit,step)):\n",
    "        model=gensim.models.ldamodel.LdaModel(corpus=corpus,id2word=dictionary,num_topics=num_topics, passes=30, iterations=1000, random_state=52)\n",
    "        '''\n",
    "        passes : Number of passes through the corpus during training (epoch와 유사기능, 전체 데이터 셋의 학습 횟수)\n",
    "        iterations : Maximum number of iterations through the corpus when inferring the topic distribution of a corpus(1 pass시 파라미터 업데이트 횟수)\n",
    "        '''\n",
    "        model_list.append(model)\n",
    "        coherencemodel= CoherenceModel(model=model, texts=texts, dictionary=dictionary, coherence='c_v')\n",
    "        coherence_values.append(coherencemodel.get_coherence())\n",
    "        \n",
    "    return model_list, coherence_values"
   ]
  },
  {
   "cell_type": "code",
   "execution_count": 35,
   "metadata": {},
   "outputs": [
    {
     "name": "stderr",
     "output_type": "stream",
     "text": [
      "/tmp/ipykernel_12355/902229789.py:7: VisibleDeprecationWarning: Creating an ndarray from ragged nested sequences (which is a list-or-tuple of lists-or-tuples-or ndarrays with different lengths or shapes) is deprecated. If you meant to do this, you must specify 'dtype=object' when creating the ndarray.\n",
      "  model_list,coherence_values=compute_values(dictionary=dictionary,corpus=corpus,texts=list(np.array(data['tokenized'].tolist())),\n",
      "100%|██████████| 21/21 [2:58:55<00:00, 511.21s/it]  \n"
     ]
    },
    {
     "data": {
      "image/png": "[encoded data removed]",
      "text/plain": [
       "<Figure size 1000x400 with 1 Axes>"
      ]
     },
     "metadata": {},
     "output_type": "display_data"
    }
   ],
   "source": [
    "## coherence score확인\n",
    "\n",
    "limit=31     # 확인하고 싶은 max 토픽 수\n",
    "start=10     # 확인할 시작 토픽 수\n",
    "step=1      # 1개씩 topic수 늘려가며 확인\n",
    "\n",
    "model_list,coherence_values=compute_values(dictionary=dictionary,corpus=corpus,texts=list(np.array(data['tokenized'].tolist())), \n",
    "                                           start=start,limit=limit,step=step)\n",
    "\n",
    "# coherence score 시각화\n",
    "x=range(start,limit,step)\n",
    "plt.subplots(figsize=(10,4),constrained_layout=True)\n",
    "\n",
    "# coherence_score\n",
    "plt.subplot(1,2,1)\n",
    "plt.plot(x,coherence_values)\n",
    "plt.xlabel('num_topics')\n",
    "plt.ylabel('coherence_score')\n",
    "plt.legend('coherence_values',loc='best')\n",
    "\n",
    "plt.show()"
   ]
  },
  {
   "cell_type": "code",
   "execution_count": 36,
   "metadata": {},
   "outputs": [
    {
     "name": "stdout",
     "output_type": "stream",
     "text": [
      "model #0, coherence_value: 0.5162342141372431\n",
      "model #1, coherence_value: 0.5583698582904671\n",
      "model #2, coherence_value: 0.5491180119400504\n",
      "model #3, coherence_value: 0.5612015440086282\n",
      "model #4, coherence_value: 0.5383005611576906\n",
      "model #5, coherence_value: 0.5519391409560633\n",
      "model #6, coherence_value: 0.5512377607870487\n",
      "model #7, coherence_value: 0.5470348600868631\n",
      "model #8, coherence_value: 0.5601253677070085\n",
      "model #9, coherence_value: 0.5738480050738205\n",
      "model #10, coherence_value: 0.5676899575649405\n",
      "model #11, coherence_value: 0.5626130086220629\n",
      "model #12, coherence_value: 0.5628248514660574\n",
      "model #13, coherence_value: 0.5669101599274349\n",
      "model #14, coherence_value: 0.554345124196716\n",
      "model #15, coherence_value: 0.5511753510243773\n",
      "model #16, coherence_value: 0.5615776769572968\n",
      "model #17, coherence_value: 0.5324706381150138\n",
      "model #18, coherence_value: 0.5406640587908688\n",
      "model #19, coherence_value: 0.5259159827002932\n",
      "model #20, coherence_value: 0.5402974250089907\n"
     ]
    }
   ],
   "source": [
    "for i, value in enumerate(coherence_values):\n",
    "    print(f'model #{i}, coherence_value: {value}')"
   ]
  },
  {
   "cell_type": "code",
   "execution_count": 37,
   "metadata": {},
   "outputs": [
    {
     "name": "stdout",
     "output_type": "stream",
     "text": [
      "(0, '0.050*\"챗\" + 0.018*\"생\" + 0.018*\"늘다\" + 0.018*\"구글\" + 0.015*\"오픈\" + 0.015*\"챗봇\" + 0.011*\"검색\" + 0.010*\"대화\" + 0.009*\"활용\" + 0.009*\"오다\" + 0.008*\"사용\" + 0.008*\"정보\" + 0.008*\"질문\" + 0.007*\"공개\" + 0.007*\"인간\" + 0.007*\"학습\" + 0.007*\"모델\" + 0.006*\"언어\" + 0.006*\"만들다\" + 0.006*\"답변\" + 0.006*\"마이크로소프트\" + 0.005*\"엔진\" + 0.005*\"않다\" + 0.005*\"데이터\" + 0.005*\"대한\" + 0.005*\"답\" + 0.004*\"나오다\" + 0.004*\"따르다\" + 0.004*\"대해\" + 0.004*\"사람\"')\n",
      "(1, '0.022*\"카카오\" + 0.013*\"고객\" + 0.011*\"제공\" + 0.009*\"앱\" + 0.008*\"금융\" + 0.008*\"업\" + 0.007*\"이용\" + 0.007*\"상품\" + 0.006*\"밝히다\" + 0.006*\"상담\" + 0.005*\"위해\" + 0.005*\"스테이지\" + 0.005*\"운영\" + 0.005*\"받다\" + 0.005*\"보험\" + 0.005*\"은행\" + 0.005*\"도입\" + 0.004*\"관리\" + 0.004*\"확대\" + 0.004*\"확인\" + 0.004*\"개인\" + 0.004*\"연금\" + 0.004*\"택시\" + 0.004*\"톡\" + 0.004*\"대상\" + 0.003*\"따르다\" + 0.003*\"비\" + 0.003*\"출시\" + 0.003*\"범죄\" + 0.003*\"이용자\"')\n",
      "(2, '0.070*\"산업\" + 0.029*\"분야\" + 0.023*\"지원\" + 0.020*\"첨단\" + 0.020*\"미래\" + 0.014*\"바이오\" + 0.013*\"육성\" + 0.012*\"협력\" + 0.011*\"연구\" + 0.011*\"혁신\" + 0.011*\"전략\" + 0.010*\"구축\" + 0.010*\"인재\" + 0.010*\"양성\" + 0.010*\"국가\" + 0.009*\"위해\" + 0.009*\"융합\" + 0.009*\"한국\" + 0.009*\"인력\" + 0.009*\"추진\" + 0.009*\"센터\" + 0.009*\"협약\" + 0.008*\"연구개발\" + 0.007*\"핵심\" + 0.007*\"창\" + 0.007*\"수출\" + 0.007*\"확보\" + 0.007*\"계획\" + 0.006*\"선정\" + 0.006*\"투자\"')\n",
      "(3, '0.023*\"데이터\" + 0.020*\"의료\" + 0.018*\"분석\" + 0.016*\"활용\" + 0.013*\"병원\" + 0.011*\"연구\" + 0.011*\"진단\" + 0.011*\"기반\" + 0.010*\"스케\" + 0.010*\"헬\" + 0.010*\"예측\" + 0.009*\"영상\" + 0.008*\"환자\" + 0.008*\"치료\" + 0.008*\"솔루션\" + 0.008*\"팀\" + 0.007*\"결과\" + 0.007*\"검사\" + 0.007*\"시스템\" + 0.007*\"바이오\" + 0.007*\"밝히다\" + 0.006*\"이번\" + 0.006*\"관리\" + 0.005*\"모델\" + 0.005*\"의료기기\" + 0.005*\"평가\" + 0.005*\"정보\" + 0.005*\"측정\" + 0.005*\"제공\" + 0.005*\"적용\"')\n",
      "(4, '0.017*\"정부\" + 0.015*\"디지털\" + 0.012*\"정책\" + 0.010*\"데이터\" + 0.009*\"혁신\" + 0.009*\"계획\" + 0.009*\"활용\" + 0.009*\"추진\" + 0.008*\"위해\" + 0.007*\"규제\" + 0.007*\"방안\" + 0.007*\"지원\" + 0.007*\"마련\" + 0.007*\"위원회\" + 0.006*\"대응\" + 0.006*\"국민\" + 0.006*\"대한\" + 0.006*\"체계\" + 0.006*\"회의\" + 0.006*\"정보\" + 0.006*\"국가\" + 0.006*\"관련\" + 0.005*\"과제\" + 0.005*\"구축\" + 0.005*\"개선\" + 0.005*\"관리\" + 0.005*\"장관\" + 0.005*\"제도\" + 0.005*\"확대\" + 0.004*\"개인정보\"')\n",
      "(5, '0.048*\"전자\" + 0.028*\"삼성\" + 0.026*\"성형\" + 0.017*\"제품\" + 0.011*\"출시\" + 0.010*\"최대\" + 0.010*\"비\" + 0.009*\"세계\" + 0.009*\"갤럭시\" + 0.008*\"선보이다\" + 0.008*\"가전\" + 0.008*\"열리다\" + 0.008*\"기능\" + 0.007*\"디스플레이\" + 0.007*\"신제품\" + 0.007*\"전시회\" + 0.007*\"시장\" + 0.006*\"탑재\" + 0.006*\"경험\" + 0.006*\"스포크\" + 0.006*\"스마트폰\" + 0.005*\"부스\" + 0.005*\"스마트\" + 0.005*\"카메라\" + 0.005*\"공개\" + 0.005*\"시리즈\" + 0.005*\"소개\" + 0.005*\"적용\" + 0.005*\"전시\" + 0.005*\"혁신\"')\n",
      "(6, '0.070*\"교육\" + 0.027*\"학생\" + 0.025*\"학교\" + 0.024*\"대학\" + 0.014*\"교육부\" + 0.014*\"운영\" + 0.012*\"지원\" + 0.011*\"교육청\" + 0.011*\"학습\" + 0.009*\"학과\" + 0.009*\"정원\" + 0.008*\"프로그램\" + 0.008*\"디지털\" + 0.008*\"교사\" + 0.007*\"활용\" + 0.007*\"돌보다\" + 0.007*\"수업\" + 0.007*\"위해\" + 0.007*\"학년\" + 0.007*\"인재\" + 0.007*\"양성\" + 0.006*\"에듀\" + 0.006*\"맞춤\" + 0.006*\"미래\" + 0.006*\"중\" + 0.006*\"지역\" + 0.005*\"계획\" + 0.005*\"밝히다\" + 0.005*\"제공\" + 0.005*\"교원\"')\n",
      "(7, '0.068*\"반도체\" + 0.015*\"생산\" + 0.013*\"메모리\" + 0.012*\"전자\" + 0.011*\"공장\" + 0.011*\"하이닉스\" + 0.009*\"투자\" + 0.009*\"시장\" + 0.008*\"엔비디아\" + 0.007*\"수요\" + 0.007*\"공정\" + 0.007*\"칩\" + 0.007*\"삼성\" + 0.007*\"빙\" + 0.007*\"제품\" + 0.006*\"가격\" + 0.006*\"램\" + 0.006*\"보스턴\" + 0.006*\"에너지\" + 0.006*\"전력\" + 0.005*\"업계\" + 0.005*\"분기\" + 0.005*\"손실\" + 0.005*\"업체\" + 0.005*\"세계\" + 0.005*\"적자\" + 0.005*\"배터리\" + 0.005*\"글로벌\" + 0.005*\"재고\" + 0.005*\"공급\"')\n",
      "(8, '0.017*\"기사\" + 0.011*\"예상\" + 0.011*\"서울\" + 0.010*\"데이터\" + 0.009*\"지구\" + 0.008*\"곳\" + 0.008*\"쓸다\" + 0.008*\"멀다\" + 0.008*\"오후\" + 0.008*\"기온\" + 0.008*\"제주\" + 0.008*\"동해\" + 0.007*\"바다\" + 0.007*\"거치다\" + 0.007*\"강원\" + 0.007*\"완성\" + 0.007*\"오전\" + 0.007*\"초고\" + 0.007*\"최종\" + 0.006*\"기상청\" + 0.006*\"서해\" + 0.006*\"수준\" + 0.006*\"토대\" + 0.006*\"최고\" + 0.006*\"남해\" + 0.006*\"도로\" + 0.006*\"비\" + 0.006*\"영화\" + 0.005*\"낮\" + 0.005*\"요\"')\n",
      "(9, '0.032*\"광주\" + 0.028*\"지역\" + 0.022*\"도시\" + 0.017*\"경기도\" + 0.014*\"광주시\" + 0.012*\"조성\" + 0.010*\"시민\" + 0.010*\"관광\" + 0.009*\"시설\" + 0.009*\"시\" + 0.009*\"추진\" + 0.009*\"의원\" + 0.008*\"경기\" + 0.008*\"지사\" + 0.008*\"전남\" + 0.008*\"농업\" + 0.008*\"김\" + 0.008*\"유치\" + 0.007*\"경북\" + 0.007*\"공항\" + 0.007*\"방문\" + 0.007*\"문화\" + 0.006*\"스마트\" + 0.006*\"부지\" + 0.006*\"건설\" + 0.005*\"복합\" + 0.005*\"센터\" + 0.005*\"공사\" + 0.005*\"의회\" + 0.005*\"단지\"')\n",
      "(10, '0.040*\"미국\" + 0.018*\"중국\" + 0.011*\"세계\" + 0.010*\"전\" + 0.009*\"한국\" + 0.008*\"회장\" + 0.008*\"밉다\" + 0.008*\"대한\" + 0.007*\"않다\" + 0.007*\"일본\" + 0.006*\"바이든\" + 0.005*\"지난\" + 0.005*\"머스크\" + 0.005*\"규제\" + 0.005*\"워싱턴\" + 0.005*\"정부\" + 0.005*\"따르다\" + 0.005*\"테슬라\" + 0.005*\"없다\" + 0.005*\"관련\" + 0.005*\"대해\" + 0.004*\"받다\" + 0.004*\"경제\" + 0.004*\"크다\" + 0.003*\"수출\" + 0.003*\"국가\" + 0.003*\"핵\" + 0.003*\"중\" + 0.003*\"전쟁\" + 0.003*\"나오다\"')\n",
      "(11, '0.048*\"로봇\" + 0.017*\"자율\" + 0.015*\"주행\" + 0.014*\"시스템\" + 0.012*\"스마트\" + 0.010*\"차량\" + 0.010*\"물류\" + 0.009*\"안전\" + 0.008*\"교통\" + 0.008*\"배송\" + 0.008*\"적용\" + 0.007*\"자동차\" + 0.007*\"모빌리티\" + 0.007*\"현대차\" + 0.007*\"전기차\" + 0.006*\"현장\" + 0.006*\"운영\" + 0.005*\"관제\" + 0.005*\"기반\" + 0.005*\"드론\" + 0.005*\"영상\" + 0.005*\"도입\" + 0.005*\"자동\" + 0.005*\"센터\" + 0.005*\"관리\" + 0.005*\"현대\" + 0.005*\"활용\" + 0.005*\"제공\" + 0.004*\"건설\" + 0.004*\"설치\"')\n",
      "(12, '0.019*\"시장\" + 0.015*\"매출\" + 0.014*\"투자\" + 0.012*\"지난해\" + 0.010*\"올해\" + 0.010*\"대비\" + 0.009*\"실적\" + 0.009*\"따르다\" + 0.008*\"기록\" + 0.008*\"영업\" + 0.008*\"증가\" + 0.008*\"주가\" + 0.008*\"년\" + 0.007*\"성장\" + 0.007*\"증권\" + 0.007*\"전망\" + 0.006*\"감소\" + 0.006*\"이익\" + 0.006*\"이후\" + 0.006*\"예상\" + 0.005*\"국내\" + 0.005*\"최근\" + 0.005*\"상승\" + 0.005*\"관련\" + 0.005*\"거래\" + 0.005*\"늘다\" + 0.005*\"기준\" + 0.005*\"분석\" + 0.004*\"상장\" + 0.004*\"발표\"')\n",
      "(13, '0.078*\"투자\" + 0.056*\"스타트업\" + 0.026*\"창업\" + 0.022*\"테크\" + 0.021*\"지원\" + 0.016*\"랩\" + 0.013*\"부산\" + 0.012*\"펀드\" + 0.011*\"유치\" + 0.011*\"혁신\" + 0.010*\"중소\" + 0.010*\"규모\" + 0.009*\"글로벌\" + 0.009*\"대표\" + 0.009*\"자금\" + 0.009*\"벤처기업\" + 0.008*\"스\" + 0.008*\"프로그램\" + 0.007*\"국내\" + 0.007*\"참여\" + 0.007*\"한국\" + 0.007*\"성장\" + 0.006*\"운영\" + 0.006*\"분야\" + 0.006*\"중\" + 0.006*\"받다\" + 0.006*\"중소기업\" + 0.006*\"곳\" + 0.006*\"선정\" + 0.006*\"해외\"')\n",
      "(14, '0.014*\"교수\" + 0.013*\"않다\" + 0.013*\"만들다\" + 0.012*\"보다\" + 0.012*\"없다\" + 0.011*\"사람\" + 0.011*\"아니다\" + 0.009*\"생각\" + 0.008*\"많다\" + 0.008*\"문제\" + 0.007*\"우리\" + 0.007*\"크다\" + 0.006*\"인간\" + 0.006*\"연구\" + 0.005*\"다른\" + 0.005*\"가장\" + 0.005*\"일\" + 0.004*\"시대\" + 0.004*\"중요하다\" + 0.004*\"변화\" + 0.004*\"새롭다\" + 0.004*\"좋다\" + 0.004*\"점\" + 0.004*\"사회\" + 0.004*\"받다\" + 0.004*\"대표\" + 0.004*\"책\" + 0.004*\"하나\" + 0.004*\"가지\" + 0.004*\"안\"')\n",
      "(15, '0.021*\"네이버\" + 0.021*\"메타\" + 0.020*\"콘텐츠\" + 0.019*\"버스\" + 0.017*\"플랫폼\" + 0.016*\"활용\" + 0.016*\"모델\" + 0.015*\"제공\" + 0.015*\"기반\" + 0.014*\"게임\" + 0.014*\"데이터\" + 0.014*\"거대\" + 0.013*\"초\" + 0.011*\"생\" + 0.010*\"크다\" + 0.009*\"광고\" + 0.009*\"적용\" + 0.009*\"제작\" + 0.009*\"다양하다\" + 0.008*\"기능\" + 0.008*\"바\" + 0.008*\"영상\" + 0.007*\"유플러스\" + 0.007*\"늘다\" + 0.007*\"사용자\" + 0.007*\"음성\" + 0.007*\"출시\" + 0.006*\"밝히다\" + 0.006*\"선보이다\" + 0.006*\"학습\"')\n",
      "(16, '0.054*\"대통령\" + 0.026*\"한미\" + 0.025*\"윤\" + 0.024*\"협력\" + 0.020*\"동맹\" + 0.019*\"양국\" + 0.015*\"윤석열\" + 0.015*\"자유\" + 0.013*\"방문\" + 0.013*\"북한\" + 0.012*\"안보\" + 0.009*\"정상\" + 0.009*\"대한민국\" + 0.009*\"장관\" + 0.008*\"국빈\" + 0.008*\"위해\" + 0.007*\"한국\" + 0.007*\"경제\" + 0.007*\"우리\" + 0.007*\"우주\" + 0.007*\"위협\" + 0.007*\"열리다\" + 0.007*\"대응\" + 0.006*\"확대\" + 0.006*\"양\" + 0.006*\"민주주의\" + 0.006*\"첨단\" + 0.006*\"연설\" + 0.006*\"회의\" + 0.005*\"간\"')\n",
      "(17, '0.013*\"진행\" + 0.011*\"프로그램\" + 0.009*\"청년\" + 0.009*\"밝히다\" + 0.009*\"채용\" + 0.008*\"대상\" + 0.008*\"참여\" + 0.008*\"체험\" + 0.008*\"이번\" + 0.008*\"문화\" + 0.007*\"디지털\" + 0.007*\"지원\" + 0.007*\"개최\" + 0.007*\"행사\" + 0.006*\"과학\" + 0.006*\"한국\" + 0.006*\"대회\" + 0.006*\"팀\" + 0.006*\"과정\" + 0.006*\"오다\" + 0.006*\"받다\" + 0.006*\"교육\" + 0.006*\"다양하다\" + 0.006*\"인재\" + 0.005*\"활용\" + 0.005*\"서울\" + 0.005*\"선정\" + 0.005*\"주제\" + 0.005*\"활동\" + 0.005*\"제공\"')\n",
      "(18, '0.024*\"클라우드\" + 0.022*\"대표\" + 0.016*\"글로벌\" + 0.014*\"디지털\" + 0.013*\"솔루션\" + 0.013*\"협력\" + 0.012*\"플랫폼\" + 0.010*\"텔레콤\" + 0.009*\"시장\" + 0.009*\"밝히다\" + 0.008*\"기반\" + 0.008*\"업무\" + 0.008*\"고객\" + 0.008*\"늘다\" + 0.008*\"협약\" + 0.007*\"전략\" + 0.007*\"사장\" + 0.007*\"체결\" + 0.007*\"오다\" + 0.007*\"전환\" + 0.006*\"역량\" + 0.006*\"파트너\" + 0.006*\"분야\" + 0.006*\"구축\" + 0.006*\"센터\" + 0.005*\"데이터\" + 0.005*\"부문\" + 0.005*\"계획\" + 0.005*\"보안\" + 0.005*\"이번\"')\n"
     ]
    }
   ],
   "source": [
    "# 주제 확인\n",
    "ldamodel = model_list[9] # coherence score가 높은 모델 선택\n",
    "\n",
    "# 토픽별 키워드 확인\n",
    "topics = ldamodel.print_topics(num_words=30) # 한 토픽 당 확인할 단어 수\n",
    "for topic in topics:\n",
    "    print(topic)"
   ]
  },
  {
   "cell_type": "code",
   "execution_count": null,
   "metadata": {},
   "outputs": [],
   "source": [
    "# 수치값 없이 키워드 확인\n",
    "for topic in topics:\n",
    "    for word in re.split(\"[\\*+]\", topic[1].replace('\\'','').replace('\\\"','')):\n",
    "        try:\n",
    "            float(word)\n",
    "        except:\n",
    "            print(word,end='')\n",
    "    print()"
   ]
  },
  {
   "cell_type": "code",
   "execution_count": 38,
   "metadata": {},
   "outputs": [
    {
     "name": "stderr",
     "output_type": "stream",
     "text": [
      "/home/ryu/.conda/envs/ryuvenv/lib/python3.8/site-packages/pyLDAvis/_prepare.py:246: FutureWarning: In a future version of pandas all arguments of DataFrame.drop except for the argument 'labels' will be keyword-only.\n",
      "  default_term_info = default_term_info.sort_values(\n",
      "/home/ryu/.conda/envs/ryuvenv/lib/python3.8/site-packages/past/builtins/misc.py:45: DeprecationWarning: the imp module is deprecated in favour of importlib; see the module's documentation for alternative uses\n",
      "  from imp import reload\n",
      "/home/ryu/.conda/envs/ryuvenv/lib/python3.8/site-packages/past/builtins/misc.py:45: DeprecationWarning: the imp module is deprecated in favour of importlib; see the module's documentation for alternative uses\n",
      "  from imp import reload\n",
      "/home/ryu/.conda/envs/ryuvenv/lib/python3.8/site-packages/past/builtins/misc.py:45: DeprecationWarning: the imp module is deprecated in favour of importlib; see the module's documentation for alternative uses\n",
      "  from imp import reload\n"
     ]
    },
    {
     "data": {
      "text/plain": [
       "'\\n원의 반경 : 해당토픽의 크기\\n원의 위치 : 거리가 가까울 수록 비슷한 토픽 -> 시각화 했을 때 원끼리 거리가 떨어져 있는 것이 좋음\\nλ : 0이 될수록 토픽 간 차이가 많이 나는 단어, 1이 될수록 토픽별로 자주 등장하는 단어를 의미 \\n'"
      ]
     },
     "execution_count": 38,
     "metadata": {},
     "output_type": "execute_result"
    }
   ],
   "source": [
    "# 토픽 결과 시각화\n",
    "lda_viz = gensimvis.prepare(ldamodel, corpus, dictionary)\n",
    "pyLDAvis.save_html(lda_viz, 'LDA_v0619_after_18topics.html') # LDA 결과 html로 저장\n",
    "# lda_viz\n",
    "# pyLDAvis.show(lda_viz)\n",
    "\n",
    "'''\n",
    "원의 반경 : 해당토픽의 크기\n",
    "원의 위치 : 거리가 가까울 수록 비슷한 토픽 -> 시각화 했을 때 원끼리 거리가 떨어져 있는 것이 좋음\n",
    "λ : 0이 될수록 토픽 간 차이가 많이 나는 단어, 1이 될수록 토픽별로 자주 등장하는 단어를 의미 \n",
    "'''"
   ]
  }
 ],
 "metadata": {
  "kernelspec": {
   "display_name": "ryuvenv",
   "language": "python",
   "name": "python3"
  },
  "language_info": {
   "codemirror_mode": {
    "name": "ipython",
    "version": 3
   },
   "file_extension": ".py",
   "mimetype": "text/x-python",
   "name": "python",
   "nbconvert_exporter": "python",
   "pygments_lexer": "ipython3",
   "version": "3.8.13"
  },
  "orig_nbformat": 4
 },
 "nbformat": 4,
 "nbformat_minor": 2
}
